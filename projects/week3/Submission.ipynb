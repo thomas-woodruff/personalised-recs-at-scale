{
 "cells": [
  {
   "cell_type": "markdown",
   "id": "bc0b1945",
   "metadata": {},
   "source": [
    "# Nearest neighbour search"
   ]
  },
  {
   "cell_type": "markdown",
   "id": "bf7ccc99",
   "metadata": {},
   "source": [
    "## Setting up"
   ]
  },
  {
   "cell_type": "code",
   "execution_count": 77,
   "id": "4f0ea1b8",
   "metadata": {
    "ExecuteTime": {
     "end_time": "2022-07-30T12:35:23.584979Z",
     "start_time": "2022-07-30T12:35:23.577193Z"
    }
   },
   "outputs": [],
   "source": [
    "import numpy as np\n",
    "from scipy.spatial import distance\n",
    "import faiss\n",
    "import time\n",
    "import pandas as pd\n",
    "import matplotlib.pyplot as plt"
   ]
  },
  {
   "cell_type": "code",
   "execution_count": 7,
   "id": "bf873afe",
   "metadata": {
    "ExecuteTime": {
     "end_time": "2022-07-30T11:32:28.543860Z",
     "start_time": "2022-07-30T11:32:28.537629Z"
    }
   },
   "outputs": [],
   "source": [
    "np.random.seed(42)"
   ]
  },
  {
   "cell_type": "code",
   "execution_count": 9,
   "id": "8923b0d3",
   "metadata": {
    "ExecuteTime": {
     "end_time": "2022-07-30T11:32:35.020693Z",
     "start_time": "2022-07-30T11:32:33.880373Z"
    }
   },
   "outputs": [],
   "source": [
    "vector_dimension = 64\n",
    "num_vectors = 1000000\n",
    "\n",
    "all_vectors = np.random.random((num_vectors, vector_dimension)).astype('float32')"
   ]
  },
  {
   "cell_type": "code",
   "execution_count": 10,
   "id": "85171aea",
   "metadata": {
    "ExecuteTime": {
     "end_time": "2022-07-30T11:32:35.755866Z",
     "start_time": "2022-07-30T11:32:35.750388Z"
    }
   },
   "outputs": [],
   "source": [
    "query_vector = all_vectors[2:3]\n",
    "num_neighbours = 4"
   ]
  },
  {
   "cell_type": "markdown",
   "id": "96e0c836",
   "metadata": {},
   "source": [
    "## Exact search"
   ]
  },
  {
   "cell_type": "code",
   "execution_count": 11,
   "id": "f252ac60",
   "metadata": {
    "ExecuteTime": {
     "end_time": "2022-07-30T11:32:37.043270Z",
     "start_time": "2022-07-30T11:32:37.032510Z"
    }
   },
   "outputs": [],
   "source": [
    "def get_exact_nearest_neighbours(\n",
    "    query_vector,\n",
    "    num_neighbours,    \n",
    "    all_vectors=all_vectors,\n",
    "    distance_fn=distance.euclidean,\n",
    "):\n",
    "    distances = [distance_fn(query_vector, vector) for vector in all_vectors]\n",
    "        \n",
    "    sorted_indices = np.argsort(distances)\n",
    "    \n",
    "    nearest_indices = sorted_indices[:num_neighbours]\n",
    "    nearest_distances = np.array(distances)[sorted_indices]\n",
    "    \n",
    "    return nearest_distances, nearest_indices"
   ]
  },
  {
   "cell_type": "code",
   "execution_count": 12,
   "id": "c13122f7",
   "metadata": {
    "ExecuteTime": {
     "end_time": "2022-07-30T11:32:54.558303Z",
     "start_time": "2022-07-30T11:32:37.795732Z"
    }
   },
   "outputs": [
    {
     "name": "stdout",
     "output_type": "stream",
     "text": [
      "CPU times: user 16.7 s, sys: 88 ms, total: 16.7 s\n",
      "Wall time: 16.8 s\n"
     ]
    }
   ],
   "source": [
    "%%time\n",
    "d, i = get_exact_nearest_neighbours(\n",
    "    query_vector,\n",
    "    num_neighbours\n",
    ")"
   ]
  },
  {
   "cell_type": "code",
   "execution_count": 16,
   "id": "b2ba54f6",
   "metadata": {
    "ExecuteTime": {
     "end_time": "2022-07-30T11:42:59.593585Z",
     "start_time": "2022-07-30T11:42:59.582600Z"
    }
   },
   "outputs": [
    {
     "data": {
      "text/plain": [
       "3.2575705942099096"
      ]
     },
     "execution_count": 16,
     "metadata": {},
     "output_type": "execute_result"
    }
   ],
   "source": [
    "d.mean()"
   ]
  },
  {
   "cell_type": "code",
   "execution_count": 23,
   "id": "104b4fe5",
   "metadata": {
    "ExecuteTime": {
     "end_time": "2022-07-30T11:45:06.039990Z",
     "start_time": "2022-07-30T11:45:06.030642Z"
    }
   },
   "outputs": [
    {
     "data": {
      "text/plain": [
       "array([[     2, 162565, 516514, 179362]])"
      ]
     },
     "execution_count": 23,
     "metadata": {},
     "output_type": "execute_result"
    }
   ],
   "source": [
    "i"
   ]
  },
  {
   "cell_type": "markdown",
   "id": "8d00bf0d",
   "metadata": {},
   "source": [
    "## Faiss searches"
   ]
  },
  {
   "cell_type": "markdown",
   "id": "94d6e9ca",
   "metadata": {},
   "source": [
    "### Brute force L2\n",
    "\n",
    "https://github.com/facebookresearch/faiss/wiki/Getting-started"
   ]
  },
  {
   "cell_type": "code",
   "execution_count": 14,
   "id": "720523f6",
   "metadata": {
    "ExecuteTime": {
     "end_time": "2022-07-30T11:41:17.380388Z",
     "start_time": "2022-07-30T11:41:17.100226Z"
    }
   },
   "outputs": [
    {
     "name": "stdout",
     "output_type": "stream",
     "text": [
      "1000000 vectors added\n"
     ]
    }
   ],
   "source": [
    "bf_index = faiss.IndexFlatL2(vector_dimension)\n",
    "bf_index.add(all_vectors)\n",
    "print(f'{bf_index.ntotal} vectors added')"
   ]
  },
  {
   "cell_type": "code",
   "execution_count": 20,
   "id": "b157068b",
   "metadata": {
    "ExecuteTime": {
     "end_time": "2022-07-30T11:44:35.014130Z",
     "start_time": "2022-07-30T11:44:34.902637Z"
    }
   },
   "outputs": [
    {
     "name": "stdout",
     "output_type": "stream",
     "text": [
      "CPU times: user 104 ms, sys: 4 ms, total: 108 ms\n",
      "Wall time: 103 ms\n"
     ]
    }
   ],
   "source": [
    "%%time\n",
    "d, i = bf_index.search(query_vector, num_neighbours)"
   ]
  },
  {
   "cell_type": "code",
   "execution_count": 21,
   "id": "e5d47d6f",
   "metadata": {
    "ExecuteTime": {
     "end_time": "2022-07-30T11:44:49.333879Z",
     "start_time": "2022-07-30T11:44:49.322592Z"
    }
   },
   "outputs": [
    {
     "data": {
      "text/plain": [
       "3.5163112"
      ]
     },
     "execution_count": 21,
     "metadata": {},
     "output_type": "execute_result"
    }
   ],
   "source": [
    "d.mean()"
   ]
  },
  {
   "cell_type": "code",
   "execution_count": 22,
   "id": "ebf76f5f",
   "metadata": {
    "ExecuteTime": {
     "end_time": "2022-07-30T11:44:56.805188Z",
     "start_time": "2022-07-30T11:44:56.795058Z"
    }
   },
   "outputs": [
    {
     "data": {
      "text/plain": [
       "array([[     2, 162565, 516514, 179362]])"
      ]
     },
     "execution_count": 22,
     "metadata": {},
     "output_type": "execute_result"
    }
   ],
   "source": [
    "i"
   ]
  },
  {
   "cell_type": "markdown",
   "id": "ca8e0004",
   "metadata": {},
   "source": [
    "### Inverted file with exact post-verification\n",
    "\n",
    "https://github.com/facebookresearch/faiss/wiki/Faster-search"
   ]
  },
  {
   "cell_type": "code",
   "execution_count": 31,
   "id": "405a13a4",
   "metadata": {
    "ExecuteTime": {
     "end_time": "2022-07-30T11:57:04.850835Z",
     "start_time": "2022-07-30T11:57:03.701765Z"
    }
   },
   "outputs": [
    {
     "name": "stdout",
     "output_type": "stream",
     "text": [
      "1000000 vectors added\n"
     ]
    }
   ],
   "source": [
    "quantiser = faiss.IndexFlatL2(vector_dimension)\n",
    "n_cells = 100\n",
    "if_index = faiss.IndexIVFFlat(quantiser, vector_dimension, n_cells)\n",
    "\n",
    "if_index.train(all_vectors)\n",
    "assert if_index.is_trained\n",
    "\n",
    "if_index.add(all_vectors)\n",
    "print(f'{if_index.ntotal} vectors added')"
   ]
  },
  {
   "cell_type": "code",
   "execution_count": 32,
   "id": "224a8688",
   "metadata": {
    "ExecuteTime": {
     "end_time": "2022-07-30T11:57:50.797056Z",
     "start_time": "2022-07-30T11:57:50.787146Z"
    }
   },
   "outputs": [
    {
     "name": "stdout",
     "output_type": "stream",
     "text": [
      "CPU times: user 0 ns, sys: 4 ms, total: 4 ms\n",
      "Wall time: 2.18 ms\n"
     ]
    }
   ],
   "source": [
    "%%time\n",
    "d, i = if_index.search(query_vector, num_neighbours)"
   ]
  },
  {
   "cell_type": "code",
   "execution_count": 33,
   "id": "fc931e64",
   "metadata": {
    "ExecuteTime": {
     "end_time": "2022-07-30T11:58:03.038148Z",
     "start_time": "2022-07-30T11:58:03.026766Z"
    }
   },
   "outputs": [
    {
     "data": {
      "text/plain": [
       "3.970962"
      ]
     },
     "execution_count": 33,
     "metadata": {},
     "output_type": "execute_result"
    }
   ],
   "source": [
    "d.mean()"
   ]
  },
  {
   "cell_type": "code",
   "execution_count": 34,
   "id": "38c0781c",
   "metadata": {
    "ExecuteTime": {
     "end_time": "2022-07-30T11:58:07.726833Z",
     "start_time": "2022-07-30T11:58:07.709691Z"
    }
   },
   "outputs": [
    {
     "data": {
      "text/plain": [
       "array([[     2, 298105, 806494, 216015]])"
      ]
     },
     "execution_count": 34,
     "metadata": {},
     "output_type": "execute_result"
    }
   ],
   "source": [
    "i"
   ]
  },
  {
   "cell_type": "markdown",
   "id": "cb2f24e3",
   "metadata": {},
   "source": [
    "### IVFADC (coarse quantizer+PQ on residuals)\n",
    "\n",
    "https://github.com/facebookresearch/faiss/wiki/Lower-memory-footprint"
   ]
  },
  {
   "cell_type": "code",
   "execution_count": 36,
   "id": "867a6912",
   "metadata": {
    "ExecuteTime": {
     "end_time": "2022-07-30T12:11:14.306459Z",
     "start_time": "2022-07-30T12:11:05.719921Z"
    }
   },
   "outputs": [
    {
     "name": "stdout",
     "output_type": "stream",
     "text": [
      "1000000 vectors added\n"
     ]
    }
   ],
   "source": [
    "quantiser = faiss.IndexFlatL2(vector_dimension)\n",
    "n_cells = 100\n",
    "n_subquantisers = 8\n",
    "cq_index = faiss.IndexIVFPQ(quantiser, vector_dimension, n_cells, n_subquantisers, 8)\n",
    "\n",
    "cq_index.train(all_vectors)\n",
    "assert cq_index.is_trained\n",
    "\n",
    "cq_index.add(all_vectors)\n",
    "print(f'{cq_index.ntotal} vectors added')"
   ]
  },
  {
   "cell_type": "code",
   "execution_count": 37,
   "id": "9460bcfb",
   "metadata": {
    "ExecuteTime": {
     "end_time": "2022-07-30T12:11:25.172872Z",
     "start_time": "2022-07-30T12:11:25.161774Z"
    }
   },
   "outputs": [
    {
     "name": "stdout",
     "output_type": "stream",
     "text": [
      "CPU times: user 4 ms, sys: 0 ns, total: 4 ms\n",
      "Wall time: 1.57 ms\n"
     ]
    }
   ],
   "source": [
    "%%time\n",
    "d, i = cq_index.search(query_vector, num_neighbours)"
   ]
  },
  {
   "cell_type": "code",
   "execution_count": 38,
   "id": "201ba94b",
   "metadata": {
    "ExecuteTime": {
     "end_time": "2022-07-30T12:11:33.652680Z",
     "start_time": "2022-07-30T12:11:33.641686Z"
    }
   },
   "outputs": [
    {
     "data": {
      "text/plain": [
       "3.897607"
      ]
     },
     "execution_count": 38,
     "metadata": {},
     "output_type": "execute_result"
    }
   ],
   "source": [
    "d.mean()"
   ]
  },
  {
   "cell_type": "code",
   "execution_count": 39,
   "id": "65be6858",
   "metadata": {
    "ExecuteTime": {
     "end_time": "2022-07-30T12:11:34.682450Z",
     "start_time": "2022-07-30T12:11:34.672737Z"
    }
   },
   "outputs": [
    {
     "data": {
      "text/plain": [
       "array([[     2, 298105, 770680, 811898]])"
      ]
     },
     "execution_count": 39,
     "metadata": {},
     "output_type": "execute_result"
    }
   ],
   "source": [
    "i"
   ]
  },
  {
   "cell_type": "markdown",
   "id": "7a1761f6",
   "metadata": {},
   "source": [
    "## Compairing searches"
   ]
  },
  {
   "cell_type": "code",
   "execution_count": 68,
   "id": "d0645d64",
   "metadata": {
    "ExecuteTime": {
     "end_time": "2022-07-30T12:31:53.686833Z",
     "start_time": "2022-07-30T12:31:53.678060Z"
    }
   },
   "outputs": [],
   "source": [
    "def time_function_s(function, *args):\n",
    "    start_time = time.time()\n",
    "    output = function(*args)\n",
    "    time_taken = (time.time() - start_time)\n",
    "    \n",
    "    return time_taken, output"
   ]
  },
  {
   "cell_type": "code",
   "execution_count": 69,
   "id": "db5d3ba7",
   "metadata": {
    "ExecuteTime": {
     "end_time": "2022-07-30T12:32:12.494165Z",
     "start_time": "2022-07-30T12:31:54.203380Z"
    }
   },
   "outputs": [
    {
     "name": "stdout",
     "output_type": "stream",
     "text": [
      "[18.233532428741455, 0.04473519325256348, 0.0010671615600585938, 0.0001895427703857422]\n",
      "[3.2575705942099096, 3.5163112, 3.970962, 3.897607]\n"
     ]
    }
   ],
   "source": [
    "times = []\n",
    "mean_distances = []\n",
    "\n",
    "for function in [\n",
    "    get_exact_nearest_neighbours,\n",
    "    bf_index.search,\n",
    "    if_index.search,\n",
    "    cq_index.search,\n",
    "]:\n",
    "    t, (d, i) = time_function_s(\n",
    "        function,\n",
    "        query_vector,\n",
    "        num_neighbours\n",
    "    )\n",
    "    \n",
    "    times.append(t)\n",
    "    mean_distances.append(d.mean())\n",
    "\n",
    "print(times)\n",
    "print(mean_distances)"
   ]
  },
  {
   "cell_type": "code",
   "execution_count": 72,
   "id": "03f14ccc",
   "metadata": {
    "ExecuteTime": {
     "end_time": "2022-07-30T12:33:44.650119Z",
     "start_time": "2022-07-30T12:33:44.623209Z"
    }
   },
   "outputs": [
    {
     "data": {
      "text/html": [
       "<div>\n",
       "<style scoped>\n",
       "    .dataframe tbody tr th:only-of-type {\n",
       "        vertical-align: middle;\n",
       "    }\n",
       "\n",
       "    .dataframe tbody tr th {\n",
       "        vertical-align: top;\n",
       "    }\n",
       "\n",
       "    .dataframe thead th {\n",
       "        text-align: right;\n",
       "    }\n",
       "</style>\n",
       "<table border=\"1\" class=\"dataframe\">\n",
       "  <thead>\n",
       "    <tr style=\"text-align: right;\">\n",
       "      <th></th>\n",
       "      <th>search</th>\n",
       "      <th>time_s</th>\n",
       "      <th>mean_distance</th>\n",
       "      <th>log_time_s</th>\n",
       "    </tr>\n",
       "  </thead>\n",
       "  <tbody>\n",
       "    <tr>\n",
       "      <th>0</th>\n",
       "      <td>exact</td>\n",
       "      <td>18.233532</td>\n",
       "      <td>3.257571</td>\n",
       "      <td>1.260871</td>\n",
       "    </tr>\n",
       "    <tr>\n",
       "      <th>1</th>\n",
       "      <td>brute force</td>\n",
       "      <td>0.044735</td>\n",
       "      <td>3.516311</td>\n",
       "      <td>-1.349351</td>\n",
       "    </tr>\n",
       "    <tr>\n",
       "      <th>2</th>\n",
       "      <td>inverted file</td>\n",
       "      <td>0.001067</td>\n",
       "      <td>3.970962</td>\n",
       "      <td>-2.971770</td>\n",
       "    </tr>\n",
       "    <tr>\n",
       "      <th>3</th>\n",
       "      <td>course quantiser</td>\n",
       "      <td>0.000190</td>\n",
       "      <td>3.897607</td>\n",
       "      <td>-3.722293</td>\n",
       "    </tr>\n",
       "  </tbody>\n",
       "</table>\n",
       "</div>"
      ],
      "text/plain": [
       "             search     time_s  mean_distance  log_time_s\n",
       "0             exact  18.233532       3.257571    1.260871\n",
       "1       brute force   0.044735       3.516311   -1.349351\n",
       "2     inverted file   0.001067       3.970962   -2.971770\n",
       "3  course quantiser   0.000190       3.897607   -3.722293"
      ]
     },
     "execution_count": 72,
     "metadata": {},
     "output_type": "execute_result"
    }
   ],
   "source": [
    "time_df = pd.DataFrame({\n",
    "    'search': ['exact', 'brute force', 'inverted file', 'course quantiser'],\n",
    "    'time_s': times,\n",
    "    'mean_distance': mean_distances\n",
    "})\n",
    "\n",
    "time_df['log_time_s'] = np.log10(time_df['time_s'])\n",
    "\n",
    "time_df"
   ]
  },
  {
   "cell_type": "code",
   "execution_count": 86,
   "id": "c10f7391",
   "metadata": {
    "ExecuteTime": {
     "end_time": "2022-07-30T12:38:23.959234Z",
     "start_time": "2022-07-30T12:38:23.267669Z"
    }
   },
   "outputs": [
    {
     "data": {
      "image/png": "[encoded data removed]",
      "text/plain": [
       "<Figure size 576x576 with 1 Axes>"
      ]
     },
     "metadata": {
      "needs_background": "light"
     },
     "output_type": "display_data"
    }
   ],
   "source": [
    "plt.figure(figsize=(8, 8))\n",
    "plt.scatter(\n",
    "    x=time_df['time_s'],\n",
    "    y=time_df['mean_distance'],\n",
    ")\n",
    "plt.xscale('log')\n",
    "plt.grid()\n",
    "plt.title('Mean distance versus time (s)')\n",
    "plt.ylabel('Mean distance')\n",
    "plt.ylabel('Time (s), log scale')\n",
    "plt.show()"
   ]
  },
  {
   "cell_type": "code",
   "execution_count": null,
   "id": "6b432c42",
   "metadata": {},
   "outputs": [],
   "source": []
  }
 ],
 "metadata": {
  "kernelspec": {
   "display_name": "Python 3 (ipykernel)",
   "language": "python",
   "name": "python3"
  },
  "language_info": {
   "codemirror_mode": {
    "name": "ipython",
    "version": 3
   },
   "file_extension": ".py",
   "mimetype": "text/x-python",
   "name": "python",
   "nbconvert_exporter": "python",
   "pygments_lexer": "ipython3",
   "version": "3.8.13"
  }
 },
 "nbformat": 4,
 "nbformat_minor": 5
}
