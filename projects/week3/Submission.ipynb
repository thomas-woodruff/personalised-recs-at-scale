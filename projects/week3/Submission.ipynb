{
 "cells": [
  {
   "cell_type": "markdown",
   "id": "bc0b1945",
   "metadata": {
    "heading_collapsed": true
   },
   "source": [
    "# Nearest neighbour search"
   ]
  },
  {
   "cell_type": "markdown",
   "id": "bf7ccc99",
   "metadata": {
    "heading_collapsed": true,
    "hidden": true
   },
   "source": [
    "## Setting up"
   ]
  },
  {
   "cell_type": "code",
   "execution_count": null,
   "id": "4f0ea1b8",
   "metadata": {
    "ExecuteTime": {
     "end_time": "2022-07-30T12:35:23.584979Z",
     "start_time": "2022-07-30T12:35:23.577193Z"
    },
    "hidden": true
   },
   "outputs": [],
   "source": [
    "import numpy as np\n",
    "from scipy.spatial import distance\n",
    "import faiss\n",
    "import time\n",
    "import pandas as pd\n",
    "import matplotlib.pyplot as plt"
   ]
  },
  {
   "cell_type": "code",
   "execution_count": null,
   "id": "bf873afe",
   "metadata": {
    "ExecuteTime": {
     "end_time": "2022-07-30T11:32:28.543860Z",
     "start_time": "2022-07-30T11:32:28.537629Z"
    },
    "hidden": true
   },
   "outputs": [],
   "source": [
    "np.random.seed(42)"
   ]
  },
  {
   "cell_type": "code",
   "execution_count": null,
   "id": "8923b0d3",
   "metadata": {
    "ExecuteTime": {
     "end_time": "2022-07-30T11:32:35.020693Z",
     "start_time": "2022-07-30T11:32:33.880373Z"
    },
    "hidden": true
   },
   "outputs": [],
   "source": [
    "vector_dimension = 64\n",
    "num_vectors = 1000000\n",
    "\n",
    "all_vectors = np.random.random((num_vectors, vector_dimension)).astype('float32')"
   ]
  },
  {
   "cell_type": "code",
   "execution_count": null,
   "id": "85171aea",
   "metadata": {
    "ExecuteTime": {
     "end_time": "2022-07-30T11:32:35.755866Z",
     "start_time": "2022-07-30T11:32:35.750388Z"
    },
    "hidden": true
   },
   "outputs": [],
   "source": [
    "query_vector = all_vectors[2:3]\n",
    "num_neighbours = 4"
   ]
  },
  {
   "cell_type": "markdown",
   "id": "96e0c836",
   "metadata": {
    "heading_collapsed": true,
    "hidden": true
   },
   "source": [
    "## Exact search"
   ]
  },
  {
   "cell_type": "code",
   "execution_count": null,
   "id": "f252ac60",
   "metadata": {
    "ExecuteTime": {
     "end_time": "2022-07-30T11:32:37.043270Z",
     "start_time": "2022-07-30T11:32:37.032510Z"
    },
    "hidden": true
   },
   "outputs": [],
   "source": [
    "def get_exact_nearest_neighbours(\n",
    "    query_vector,\n",
    "    num_neighbours,    \n",
    "    all_vectors=all_vectors,\n",
    "    distance_fn=distance.euclidean,\n",
    "):\n",
    "    distances = [distance_fn(query_vector, vector) for vector in all_vectors]\n",
    "        \n",
    "    sorted_indices = np.argsort(distances)\n",
    "    \n",
    "    nearest_indices = sorted_indices[:num_neighbours]\n",
    "    nearest_distances = np.array(distances)[sorted_indices]\n",
    "    \n",
    "    return nearest_distances, nearest_indices"
   ]
  },
  {
   "cell_type": "code",
   "execution_count": null,
   "id": "c13122f7",
   "metadata": {
    "ExecuteTime": {
     "end_time": "2022-07-30T11:32:54.558303Z",
     "start_time": "2022-07-30T11:32:37.795732Z"
    },
    "hidden": true
   },
   "outputs": [],
   "source": [
    "%%time\n",
    "d, i = get_exact_nearest_neighbours(\n",
    "    query_vector,\n",
    "    num_neighbours\n",
    ")"
   ]
  },
  {
   "cell_type": "code",
   "execution_count": null,
   "id": "b2ba54f6",
   "metadata": {
    "ExecuteTime": {
     "end_time": "2022-07-30T11:42:59.593585Z",
     "start_time": "2022-07-30T11:42:59.582600Z"
    },
    "hidden": true
   },
   "outputs": [],
   "source": [
    "d.mean()"
   ]
  },
  {
   "cell_type": "code",
   "execution_count": null,
   "id": "104b4fe5",
   "metadata": {
    "ExecuteTime": {
     "end_time": "2022-07-30T11:45:06.039990Z",
     "start_time": "2022-07-30T11:45:06.030642Z"
    },
    "hidden": true
   },
   "outputs": [],
   "source": [
    "i"
   ]
  },
  {
   "cell_type": "markdown",
   "id": "8d00bf0d",
   "metadata": {
    "heading_collapsed": true,
    "hidden": true
   },
   "source": [
    "## Faiss searches"
   ]
  },
  {
   "cell_type": "markdown",
   "id": "94d6e9ca",
   "metadata": {
    "heading_collapsed": true,
    "hidden": true
   },
   "source": [
    "### Brute force L2\n",
    "\n",
    "https://github.com/facebookresearch/faiss/wiki/Getting-started"
   ]
  },
  {
   "cell_type": "code",
   "execution_count": null,
   "id": "720523f6",
   "metadata": {
    "ExecuteTime": {
     "end_time": "2022-07-30T11:41:17.380388Z",
     "start_time": "2022-07-30T11:41:17.100226Z"
    },
    "hidden": true
   },
   "outputs": [],
   "source": [
    "bf_index = faiss.IndexFlatL2(vector_dimension)\n",
    "bf_index.add(all_vectors)\n",
    "print(f'{bf_index.ntotal} vectors added')"
   ]
  },
  {
   "cell_type": "code",
   "execution_count": null,
   "id": "b157068b",
   "metadata": {
    "ExecuteTime": {
     "end_time": "2022-07-30T11:44:35.014130Z",
     "start_time": "2022-07-30T11:44:34.902637Z"
    },
    "hidden": true
   },
   "outputs": [],
   "source": [
    "%%time\n",
    "d, i = bf_index.search(query_vector, num_neighbours)"
   ]
  },
  {
   "cell_type": "code",
   "execution_count": null,
   "id": "e5d47d6f",
   "metadata": {
    "ExecuteTime": {
     "end_time": "2022-07-30T11:44:49.333879Z",
     "start_time": "2022-07-30T11:44:49.322592Z"
    },
    "hidden": true
   },
   "outputs": [],
   "source": [
    "d.mean()"
   ]
  },
  {
   "cell_type": "code",
   "execution_count": null,
   "id": "ebf76f5f",
   "metadata": {
    "ExecuteTime": {
     "end_time": "2022-07-30T11:44:56.805188Z",
     "start_time": "2022-07-30T11:44:56.795058Z"
    },
    "hidden": true
   },
   "outputs": [],
   "source": [
    "i"
   ]
  },
  {
   "cell_type": "markdown",
   "id": "ca8e0004",
   "metadata": {
    "heading_collapsed": true,
    "hidden": true
   },
   "source": [
    "### Inverted file with exact post-verification\n",
    "\n",
    "https://github.com/facebookresearch/faiss/wiki/Faster-search"
   ]
  },
  {
   "cell_type": "code",
   "execution_count": null,
   "id": "405a13a4",
   "metadata": {
    "ExecuteTime": {
     "end_time": "2022-07-30T11:57:04.850835Z",
     "start_time": "2022-07-30T11:57:03.701765Z"
    },
    "hidden": true
   },
   "outputs": [],
   "source": [
    "quantiser = faiss.IndexFlatL2(vector_dimension)\n",
    "n_cells = 100\n",
    "if_index = faiss.IndexIVFFlat(quantiser, vector_dimension, n_cells)\n",
    "\n",
    "if_index.train(all_vectors)\n",
    "assert if_index.is_trained\n",
    "\n",
    "if_index.add(all_vectors)\n",
    "print(f'{if_index.ntotal} vectors added')"
   ]
  },
  {
   "cell_type": "code",
   "execution_count": null,
   "id": "224a8688",
   "metadata": {
    "ExecuteTime": {
     "end_time": "2022-07-30T11:57:50.797056Z",
     "start_time": "2022-07-30T11:57:50.787146Z"
    },
    "hidden": true
   },
   "outputs": [],
   "source": [
    "%%time\n",
    "d, i = if_index.search(query_vector, num_neighbours)"
   ]
  },
  {
   "cell_type": "code",
   "execution_count": null,
   "id": "fc931e64",
   "metadata": {
    "ExecuteTime": {
     "end_time": "2022-07-30T11:58:03.038148Z",
     "start_time": "2022-07-30T11:58:03.026766Z"
    },
    "hidden": true
   },
   "outputs": [],
   "source": [
    "d.mean()"
   ]
  },
  {
   "cell_type": "code",
   "execution_count": null,
   "id": "38c0781c",
   "metadata": {
    "ExecuteTime": {
     "end_time": "2022-07-30T11:58:07.726833Z",
     "start_time": "2022-07-30T11:58:07.709691Z"
    },
    "hidden": true
   },
   "outputs": [],
   "source": [
    "i"
   ]
  },
  {
   "cell_type": "markdown",
   "id": "cb2f24e3",
   "metadata": {
    "heading_collapsed": true,
    "hidden": true
   },
   "source": [
    "### IVFADC (coarse quantizer+PQ on residuals)\n",
    "\n",
    "https://github.com/facebookresearch/faiss/wiki/Lower-memory-footprint"
   ]
  },
  {
   "cell_type": "code",
   "execution_count": null,
   "id": "867a6912",
   "metadata": {
    "ExecuteTime": {
     "end_time": "2022-07-30T12:11:14.306459Z",
     "start_time": "2022-07-30T12:11:05.719921Z"
    },
    "hidden": true
   },
   "outputs": [],
   "source": [
    "quantiser = faiss.IndexFlatL2(vector_dimension)\n",
    "n_cells = 100\n",
    "n_subquantisers = 8\n",
    "cq_index = faiss.IndexIVFPQ(quantiser, vector_dimension, n_cells, n_subquantisers, 8)\n",
    "\n",
    "cq_index.train(all_vectors)\n",
    "assert cq_index.is_trained\n",
    "\n",
    "cq_index.add(all_vectors)\n",
    "print(f'{cq_index.ntotal} vectors added')"
   ]
  },
  {
   "cell_type": "code",
   "execution_count": null,
   "id": "9460bcfb",
   "metadata": {
    "ExecuteTime": {
     "end_time": "2022-07-30T12:11:25.172872Z",
     "start_time": "2022-07-30T12:11:25.161774Z"
    },
    "hidden": true
   },
   "outputs": [],
   "source": [
    "%%time\n",
    "d, i = cq_index.search(query_vector, num_neighbours)"
   ]
  },
  {
   "cell_type": "code",
   "execution_count": null,
   "id": "201ba94b",
   "metadata": {
    "ExecuteTime": {
     "end_time": "2022-07-30T12:11:33.652680Z",
     "start_time": "2022-07-30T12:11:33.641686Z"
    },
    "hidden": true
   },
   "outputs": [],
   "source": [
    "d.mean()"
   ]
  },
  {
   "cell_type": "code",
   "execution_count": null,
   "id": "65be6858",
   "metadata": {
    "ExecuteTime": {
     "end_time": "2022-07-30T12:11:34.682450Z",
     "start_time": "2022-07-30T12:11:34.672737Z"
    },
    "hidden": true
   },
   "outputs": [],
   "source": [
    "i"
   ]
  },
  {
   "cell_type": "markdown",
   "id": "7a1761f6",
   "metadata": {
    "heading_collapsed": true,
    "hidden": true
   },
   "source": [
    "## Compairing searches"
   ]
  },
  {
   "cell_type": "code",
   "execution_count": null,
   "id": "d0645d64",
   "metadata": {
    "ExecuteTime": {
     "end_time": "2022-07-30T12:31:53.686833Z",
     "start_time": "2022-07-30T12:31:53.678060Z"
    },
    "hidden": true
   },
   "outputs": [],
   "source": [
    "def time_function_s(function, *args):\n",
    "    start_time = time.time()\n",
    "    output = function(*args)\n",
    "    time_taken = (time.time() - start_time)\n",
    "    \n",
    "    return time_taken, output"
   ]
  },
  {
   "cell_type": "code",
   "execution_count": null,
   "id": "db5d3ba7",
   "metadata": {
    "ExecuteTime": {
     "end_time": "2022-07-30T12:32:12.494165Z",
     "start_time": "2022-07-30T12:31:54.203380Z"
    },
    "hidden": true
   },
   "outputs": [],
   "source": [
    "times = []\n",
    "mean_distances = []\n",
    "\n",
    "for function in [\n",
    "    get_exact_nearest_neighbours,\n",
    "    bf_index.search,\n",
    "    if_index.search,\n",
    "    cq_index.search,\n",
    "]:\n",
    "    t, (d, i) = time_function_s(\n",
    "        function,\n",
    "        query_vector,\n",
    "        num_neighbours\n",
    "    )\n",
    "    \n",
    "    times.append(t)\n",
    "    mean_distances.append(d.mean())\n",
    "\n",
    "print(times)\n",
    "print(mean_distances)"
   ]
  },
  {
   "cell_type": "code",
   "execution_count": null,
   "id": "03f14ccc",
   "metadata": {
    "ExecuteTime": {
     "end_time": "2022-07-30T12:33:44.650119Z",
     "start_time": "2022-07-30T12:33:44.623209Z"
    },
    "hidden": true
   },
   "outputs": [],
   "source": [
    "time_df = pd.DataFrame({\n",
    "    'search': ['exact', 'brute force', 'inverted file', 'course quantiser'],\n",
    "    'time_s': times,\n",
    "    'mean_distance': mean_distances\n",
    "})\n",
    "\n",
    "time_df['log_time_s'] = np.log10(time_df['time_s'])\n",
    "\n",
    "time_df"
   ]
  },
  {
   "cell_type": "code",
   "execution_count": null,
   "id": "c10f7391",
   "metadata": {
    "ExecuteTime": {
     "end_time": "2022-07-30T12:38:23.959234Z",
     "start_time": "2022-07-30T12:38:23.267669Z"
    },
    "hidden": true
   },
   "outputs": [],
   "source": [
    "plt.figure(figsize=(8, 8))\n",
    "plt.scatter(\n",
    "    x=time_df['time_s'],\n",
    "    y=time_df['mean_distance'],\n",
    ")\n",
    "plt.xscale('log')\n",
    "plt.grid()\n",
    "plt.title('Mean distance versus time (s)')\n",
    "plt.ylabel('Mean distance')\n",
    "plt.ylabel('Time (s), log scale')\n",
    "plt.show()"
   ]
  },
  {
   "cell_type": "markdown",
   "id": "fb5815a1",
   "metadata": {},
   "source": [
    "# User representations"
   ]
  },
  {
   "cell_type": "markdown",
   "id": "fd6389ea",
   "metadata": {},
   "source": [
    "## Setting up"
   ]
  },
  {
   "cell_type": "code",
   "execution_count": 1,
   "id": "0ef5b434",
   "metadata": {
    "ExecuteTime": {
     "end_time": "2022-07-30T15:07:17.043613Z",
     "start_time": "2022-07-30T15:07:17.021459Z"
    }
   },
   "outputs": [],
   "source": [
    "import os\n",
    "os.environ['TF_CPP_MIN_LOG_LEVEL'] = '2' "
   ]
  },
  {
   "cell_type": "code",
   "execution_count": 2,
   "id": "50d14cb5",
   "metadata": {
    "ExecuteTime": {
     "end_time": "2022-07-30T15:07:20.022579Z",
     "start_time": "2022-07-30T15:07:17.343704Z"
    }
   },
   "outputs": [],
   "source": [
    "import pandas as pd\n",
    "import numpy as np\n",
    "import tensorflow as tf\n",
    "from tensorflow.keras.layers import StringLookup, Embedding, Dense\n",
    "import tensorflow_recommenders as tfrs\n",
    "import random\n",
    "import psutil \n",
    "import gc"
   ]
  },
  {
   "cell_type": "code",
   "execution_count": 3,
   "id": "bb93f27b",
   "metadata": {
    "ExecuteTime": {
     "end_time": "2022-07-30T15:07:20.031685Z",
     "start_time": "2022-07-30T15:07:20.027036Z"
    }
   },
   "outputs": [],
   "source": [
    "pd.set_option('display.max_columns', None)\n",
    "pd.set_option('display.max_rows', None)"
   ]
  },
  {
   "cell_type": "markdown",
   "id": "6ae24229",
   "metadata": {},
   "source": [
    "## Getting data"
   ]
  },
  {
   "cell_type": "markdown",
   "id": "8e22108d",
   "metadata": {},
   "source": [
    "### Inspecting data"
   ]
  },
  {
   "cell_type": "code",
   "execution_count": 4,
   "id": "2387006d",
   "metadata": {
    "ExecuteTime": {
     "end_time": "2022-07-30T15:07:20.085722Z",
     "start_time": "2022-07-30T15:07:20.034938Z"
    }
   },
   "outputs": [
    {
     "data": {
      "text/html": [
       "<div>\n",
       "<style scoped>\n",
       "    .dataframe tbody tr th:only-of-type {\n",
       "        vertical-align: middle;\n",
       "    }\n",
       "\n",
       "    .dataframe tbody tr th {\n",
       "        vertical-align: top;\n",
       "    }\n",
       "\n",
       "    .dataframe thead th {\n",
       "        text-align: right;\n",
       "    }\n",
       "</style>\n",
       "<table border=\"1\" class=\"dataframe\">\n",
       "  <thead>\n",
       "    <tr style=\"text-align: right;\">\n",
       "      <th></th>\n",
       "      <th>article_id</th>\n",
       "      <th>product_code</th>\n",
       "      <th>prod_name</th>\n",
       "      <th>product_type_no</th>\n",
       "      <th>product_type_name</th>\n",
       "      <th>product_group_name</th>\n",
       "      <th>graphical_appearance_no</th>\n",
       "      <th>graphical_appearance_name</th>\n",
       "      <th>colour_group_code</th>\n",
       "      <th>colour_group_name</th>\n",
       "      <th>perceived_colour_value_id</th>\n",
       "      <th>perceived_colour_value_name</th>\n",
       "      <th>perceived_colour_master_id</th>\n",
       "      <th>perceived_colour_master_name</th>\n",
       "      <th>department_no</th>\n",
       "      <th>department_name</th>\n",
       "      <th>index_code</th>\n",
       "      <th>index_name</th>\n",
       "      <th>index_group_no</th>\n",
       "      <th>index_group_name</th>\n",
       "      <th>section_no</th>\n",
       "      <th>section_name</th>\n",
       "      <th>garment_group_no</th>\n",
       "      <th>garment_group_name</th>\n",
       "      <th>detail_desc</th>\n",
       "    </tr>\n",
       "  </thead>\n",
       "  <tbody>\n",
       "    <tr>\n",
       "      <th>0</th>\n",
       "      <td>108775015</td>\n",
       "      <td>108775</td>\n",
       "      <td>Strap top</td>\n",
       "      <td>253</td>\n",
       "      <td>Vest top</td>\n",
       "      <td>Garment Upper body</td>\n",
       "      <td>1010016</td>\n",
       "      <td>Solid</td>\n",
       "      <td>9</td>\n",
       "      <td>Black</td>\n",
       "      <td>4</td>\n",
       "      <td>Dark</td>\n",
       "      <td>5</td>\n",
       "      <td>Black</td>\n",
       "      <td>1676</td>\n",
       "      <td>Jersey Basic</td>\n",
       "      <td>A</td>\n",
       "      <td>Ladieswear</td>\n",
       "      <td>1</td>\n",
       "      <td>Ladieswear</td>\n",
       "      <td>16</td>\n",
       "      <td>Womens Everyday Basics</td>\n",
       "      <td>1002</td>\n",
       "      <td>Jersey Basic</td>\n",
       "      <td>Jersey top with narrow shoulder straps.</td>\n",
       "    </tr>\n",
       "    <tr>\n",
       "      <th>1</th>\n",
       "      <td>108775044</td>\n",
       "      <td>108775</td>\n",
       "      <td>Strap top</td>\n",
       "      <td>253</td>\n",
       "      <td>Vest top</td>\n",
       "      <td>Garment Upper body</td>\n",
       "      <td>1010016</td>\n",
       "      <td>Solid</td>\n",
       "      <td>10</td>\n",
       "      <td>White</td>\n",
       "      <td>3</td>\n",
       "      <td>Light</td>\n",
       "      <td>9</td>\n",
       "      <td>White</td>\n",
       "      <td>1676</td>\n",
       "      <td>Jersey Basic</td>\n",
       "      <td>A</td>\n",
       "      <td>Ladieswear</td>\n",
       "      <td>1</td>\n",
       "      <td>Ladieswear</td>\n",
       "      <td>16</td>\n",
       "      <td>Womens Everyday Basics</td>\n",
       "      <td>1002</td>\n",
       "      <td>Jersey Basic</td>\n",
       "      <td>Jersey top with narrow shoulder straps.</td>\n",
       "    </tr>\n",
       "    <tr>\n",
       "      <th>2</th>\n",
       "      <td>108775051</td>\n",
       "      <td>108775</td>\n",
       "      <td>Strap top (1)</td>\n",
       "      <td>253</td>\n",
       "      <td>Vest top</td>\n",
       "      <td>Garment Upper body</td>\n",
       "      <td>1010017</td>\n",
       "      <td>Stripe</td>\n",
       "      <td>11</td>\n",
       "      <td>Off White</td>\n",
       "      <td>1</td>\n",
       "      <td>Dusty Light</td>\n",
       "      <td>9</td>\n",
       "      <td>White</td>\n",
       "      <td>1676</td>\n",
       "      <td>Jersey Basic</td>\n",
       "      <td>A</td>\n",
       "      <td>Ladieswear</td>\n",
       "      <td>1</td>\n",
       "      <td>Ladieswear</td>\n",
       "      <td>16</td>\n",
       "      <td>Womens Everyday Basics</td>\n",
       "      <td>1002</td>\n",
       "      <td>Jersey Basic</td>\n",
       "      <td>Jersey top with narrow shoulder straps.</td>\n",
       "    </tr>\n",
       "    <tr>\n",
       "      <th>3</th>\n",
       "      <td>110065001</td>\n",
       "      <td>110065</td>\n",
       "      <td>OP T-shirt (Idro)</td>\n",
       "      <td>306</td>\n",
       "      <td>Bra</td>\n",
       "      <td>Underwear</td>\n",
       "      <td>1010016</td>\n",
       "      <td>Solid</td>\n",
       "      <td>9</td>\n",
       "      <td>Black</td>\n",
       "      <td>4</td>\n",
       "      <td>Dark</td>\n",
       "      <td>5</td>\n",
       "      <td>Black</td>\n",
       "      <td>1339</td>\n",
       "      <td>Clean Lingerie</td>\n",
       "      <td>B</td>\n",
       "      <td>Lingeries/Tights</td>\n",
       "      <td>1</td>\n",
       "      <td>Ladieswear</td>\n",
       "      <td>61</td>\n",
       "      <td>Womens Lingerie</td>\n",
       "      <td>1017</td>\n",
       "      <td>Under-, Nightwear</td>\n",
       "      <td>Microfibre T-shirt bra with underwired, moulde...</td>\n",
       "    </tr>\n",
       "    <tr>\n",
       "      <th>4</th>\n",
       "      <td>110065002</td>\n",
       "      <td>110065</td>\n",
       "      <td>OP T-shirt (Idro)</td>\n",
       "      <td>306</td>\n",
       "      <td>Bra</td>\n",
       "      <td>Underwear</td>\n",
       "      <td>1010016</td>\n",
       "      <td>Solid</td>\n",
       "      <td>10</td>\n",
       "      <td>White</td>\n",
       "      <td>3</td>\n",
       "      <td>Light</td>\n",
       "      <td>9</td>\n",
       "      <td>White</td>\n",
       "      <td>1339</td>\n",
       "      <td>Clean Lingerie</td>\n",
       "      <td>B</td>\n",
       "      <td>Lingeries/Tights</td>\n",
       "      <td>1</td>\n",
       "      <td>Ladieswear</td>\n",
       "      <td>61</td>\n",
       "      <td>Womens Lingerie</td>\n",
       "      <td>1017</td>\n",
       "      <td>Under-, Nightwear</td>\n",
       "      <td>Microfibre T-shirt bra with underwired, moulde...</td>\n",
       "    </tr>\n",
       "  </tbody>\n",
       "</table>\n",
       "</div>"
      ],
      "text/plain": [
       "   article_id  product_code          prod_name  product_type_no  \\\n",
       "0   108775015        108775          Strap top              253   \n",
       "1   108775044        108775          Strap top              253   \n",
       "2   108775051        108775      Strap top (1)              253   \n",
       "3   110065001        110065  OP T-shirt (Idro)              306   \n",
       "4   110065002        110065  OP T-shirt (Idro)              306   \n",
       "\n",
       "  product_type_name  product_group_name  graphical_appearance_no  \\\n",
       "0          Vest top  Garment Upper body                  1010016   \n",
       "1          Vest top  Garment Upper body                  1010016   \n",
       "2          Vest top  Garment Upper body                  1010017   \n",
       "3               Bra           Underwear                  1010016   \n",
       "4               Bra           Underwear                  1010016   \n",
       "\n",
       "  graphical_appearance_name  colour_group_code colour_group_name  \\\n",
       "0                     Solid                  9             Black   \n",
       "1                     Solid                 10             White   \n",
       "2                    Stripe                 11         Off White   \n",
       "3                     Solid                  9             Black   \n",
       "4                     Solid                 10             White   \n",
       "\n",
       "   perceived_colour_value_id perceived_colour_value_name  \\\n",
       "0                          4                        Dark   \n",
       "1                          3                       Light   \n",
       "2                          1                 Dusty Light   \n",
       "3                          4                        Dark   \n",
       "4                          3                       Light   \n",
       "\n",
       "   perceived_colour_master_id perceived_colour_master_name  department_no  \\\n",
       "0                           5                        Black           1676   \n",
       "1                           9                        White           1676   \n",
       "2                           9                        White           1676   \n",
       "3                           5                        Black           1339   \n",
       "4                           9                        White           1339   \n",
       "\n",
       "  department_name index_code        index_name  index_group_no  \\\n",
       "0    Jersey Basic          A        Ladieswear               1   \n",
       "1    Jersey Basic          A        Ladieswear               1   \n",
       "2    Jersey Basic          A        Ladieswear               1   \n",
       "3  Clean Lingerie          B  Lingeries/Tights               1   \n",
       "4  Clean Lingerie          B  Lingeries/Tights               1   \n",
       "\n",
       "  index_group_name  section_no            section_name  garment_group_no  \\\n",
       "0       Ladieswear          16  Womens Everyday Basics              1002   \n",
       "1       Ladieswear          16  Womens Everyday Basics              1002   \n",
       "2       Ladieswear          16  Womens Everyday Basics              1002   \n",
       "3       Ladieswear          61         Womens Lingerie              1017   \n",
       "4       Ladieswear          61         Womens Lingerie              1017   \n",
       "\n",
       "  garment_group_name                                        detail_desc  \n",
       "0       Jersey Basic            Jersey top with narrow shoulder straps.  \n",
       "1       Jersey Basic            Jersey top with narrow shoulder straps.  \n",
       "2       Jersey Basic            Jersey top with narrow shoulder straps.  \n",
       "3  Under-, Nightwear  Microfibre T-shirt bra with underwired, moulde...  \n",
       "4  Under-, Nightwear  Microfibre T-shirt bra with underwired, moulde...  "
      ]
     },
     "execution_count": 4,
     "metadata": {},
     "output_type": "execute_result"
    }
   ],
   "source": [
    "pd.read_csv(\"../data/hmdata/articles.csv.zip\", nrows=5)"
   ]
  },
  {
   "cell_type": "code",
   "execution_count": 5,
   "id": "7889341c",
   "metadata": {
    "ExecuteTime": {
     "end_time": "2022-07-30T15:07:20.126167Z",
     "start_time": "2022-07-30T15:07:20.090622Z"
    }
   },
   "outputs": [
    {
     "data": {
      "text/html": [
       "<div>\n",
       "<style scoped>\n",
       "    .dataframe tbody tr th:only-of-type {\n",
       "        vertical-align: middle;\n",
       "    }\n",
       "\n",
       "    .dataframe tbody tr th {\n",
       "        vertical-align: top;\n",
       "    }\n",
       "\n",
       "    .dataframe thead th {\n",
       "        text-align: right;\n",
       "    }\n",
       "</style>\n",
       "<table border=\"1\" class=\"dataframe\">\n",
       "  <thead>\n",
       "    <tr style=\"text-align: right;\">\n",
       "      <th></th>\n",
       "      <th>customer_id</th>\n",
       "      <th>FN</th>\n",
       "      <th>Active</th>\n",
       "      <th>club_member_status</th>\n",
       "      <th>fashion_news_frequency</th>\n",
       "      <th>age</th>\n",
       "      <th>postal_code</th>\n",
       "    </tr>\n",
       "  </thead>\n",
       "  <tbody>\n",
       "    <tr>\n",
       "      <th>0</th>\n",
       "      <td>00000dbacae5abe5e23885899a1fa44253a17956c6d1c3...</td>\n",
       "      <td>NaN</td>\n",
       "      <td>NaN</td>\n",
       "      <td>ACTIVE</td>\n",
       "      <td>NONE</td>\n",
       "      <td>49</td>\n",
       "      <td>52043ee2162cf5aa7ee79974281641c6f11a68d276429a...</td>\n",
       "    </tr>\n",
       "    <tr>\n",
       "      <th>1</th>\n",
       "      <td>0000423b00ade91418cceaf3b26c6af3dd342b51fd051e...</td>\n",
       "      <td>NaN</td>\n",
       "      <td>NaN</td>\n",
       "      <td>ACTIVE</td>\n",
       "      <td>NONE</td>\n",
       "      <td>25</td>\n",
       "      <td>2973abc54daa8a5f8ccfe9362140c63247c5eee03f1d93...</td>\n",
       "    </tr>\n",
       "    <tr>\n",
       "      <th>2</th>\n",
       "      <td>000058a12d5b43e67d225668fa1f8d618c13dc232df0ca...</td>\n",
       "      <td>NaN</td>\n",
       "      <td>NaN</td>\n",
       "      <td>ACTIVE</td>\n",
       "      <td>NONE</td>\n",
       "      <td>24</td>\n",
       "      <td>64f17e6a330a85798e4998f62d0930d14db8db1c054af6...</td>\n",
       "    </tr>\n",
       "    <tr>\n",
       "      <th>3</th>\n",
       "      <td>00005ca1c9ed5f5146b52ac8639a40ca9d57aeff4d1bd2...</td>\n",
       "      <td>NaN</td>\n",
       "      <td>NaN</td>\n",
       "      <td>ACTIVE</td>\n",
       "      <td>NONE</td>\n",
       "      <td>54</td>\n",
       "      <td>5d36574f52495e81f019b680c843c443bd343d5ca5b1c2...</td>\n",
       "    </tr>\n",
       "    <tr>\n",
       "      <th>4</th>\n",
       "      <td>00006413d8573cd20ed7128e53b7b13819fe5cfc2d801f...</td>\n",
       "      <td>1.0</td>\n",
       "      <td>1.0</td>\n",
       "      <td>ACTIVE</td>\n",
       "      <td>Regularly</td>\n",
       "      <td>52</td>\n",
       "      <td>25fa5ddee9aac01b35208d01736e57942317d756b32ddd...</td>\n",
       "    </tr>\n",
       "  </tbody>\n",
       "</table>\n",
       "</div>"
      ],
      "text/plain": [
       "                                         customer_id   FN  Active  \\\n",
       "0  00000dbacae5abe5e23885899a1fa44253a17956c6d1c3...  NaN     NaN   \n",
       "1  0000423b00ade91418cceaf3b26c6af3dd342b51fd051e...  NaN     NaN   \n",
       "2  000058a12d5b43e67d225668fa1f8d618c13dc232df0ca...  NaN     NaN   \n",
       "3  00005ca1c9ed5f5146b52ac8639a40ca9d57aeff4d1bd2...  NaN     NaN   \n",
       "4  00006413d8573cd20ed7128e53b7b13819fe5cfc2d801f...  1.0     1.0   \n",
       "\n",
       "  club_member_status fashion_news_frequency  age  \\\n",
       "0             ACTIVE                   NONE   49   \n",
       "1             ACTIVE                   NONE   25   \n",
       "2             ACTIVE                   NONE   24   \n",
       "3             ACTIVE                   NONE   54   \n",
       "4             ACTIVE              Regularly   52   \n",
       "\n",
       "                                         postal_code  \n",
       "0  52043ee2162cf5aa7ee79974281641c6f11a68d276429a...  \n",
       "1  2973abc54daa8a5f8ccfe9362140c63247c5eee03f1d93...  \n",
       "2  64f17e6a330a85798e4998f62d0930d14db8db1c054af6...  \n",
       "3  5d36574f52495e81f019b680c843c443bd343d5ca5b1c2...  \n",
       "4  25fa5ddee9aac01b35208d01736e57942317d756b32ddd...  "
      ]
     },
     "execution_count": 5,
     "metadata": {},
     "output_type": "execute_result"
    }
   ],
   "source": [
    "pd.read_csv(\"../data/hmdata/customers.csv.zip\", nrows=5)"
   ]
  },
  {
   "cell_type": "code",
   "execution_count": 6,
   "id": "51064816",
   "metadata": {
    "ExecuteTime": {
     "end_time": "2022-07-30T15:07:20.154348Z",
     "start_time": "2022-07-30T15:07:20.129830Z"
    }
   },
   "outputs": [
    {
     "data": {
      "text/html": [
       "<div>\n",
       "<style scoped>\n",
       "    .dataframe tbody tr th:only-of-type {\n",
       "        vertical-align: middle;\n",
       "    }\n",
       "\n",
       "    .dataframe tbody tr th {\n",
       "        vertical-align: top;\n",
       "    }\n",
       "\n",
       "    .dataframe thead th {\n",
       "        text-align: right;\n",
       "    }\n",
       "</style>\n",
       "<table border=\"1\" class=\"dataframe\">\n",
       "  <thead>\n",
       "    <tr style=\"text-align: right;\">\n",
       "      <th></th>\n",
       "      <th>t_dat</th>\n",
       "      <th>customer_id</th>\n",
       "      <th>article_id</th>\n",
       "      <th>price</th>\n",
       "      <th>sales_channel_id</th>\n",
       "    </tr>\n",
       "  </thead>\n",
       "  <tbody>\n",
       "    <tr>\n",
       "      <th>0</th>\n",
       "      <td>2018-09-20</td>\n",
       "      <td>000058a12d5b43e67d225668fa1f8d618c13dc232df0ca...</td>\n",
       "      <td>663713001</td>\n",
       "      <td>0.050831</td>\n",
       "      <td>2</td>\n",
       "    </tr>\n",
       "    <tr>\n",
       "      <th>1</th>\n",
       "      <td>2018-09-20</td>\n",
       "      <td>000058a12d5b43e67d225668fa1f8d618c13dc232df0ca...</td>\n",
       "      <td>541518023</td>\n",
       "      <td>0.030492</td>\n",
       "      <td>2</td>\n",
       "    </tr>\n",
       "    <tr>\n",
       "      <th>2</th>\n",
       "      <td>2018-09-20</td>\n",
       "      <td>00007d2de826758b65a93dd24ce629ed66842531df6699...</td>\n",
       "      <td>505221004</td>\n",
       "      <td>0.015237</td>\n",
       "      <td>2</td>\n",
       "    </tr>\n",
       "    <tr>\n",
       "      <th>3</th>\n",
       "      <td>2018-09-20</td>\n",
       "      <td>00007d2de826758b65a93dd24ce629ed66842531df6699...</td>\n",
       "      <td>685687003</td>\n",
       "      <td>0.016932</td>\n",
       "      <td>2</td>\n",
       "    </tr>\n",
       "    <tr>\n",
       "      <th>4</th>\n",
       "      <td>2018-09-20</td>\n",
       "      <td>00007d2de826758b65a93dd24ce629ed66842531df6699...</td>\n",
       "      <td>685687004</td>\n",
       "      <td>0.016932</td>\n",
       "      <td>2</td>\n",
       "    </tr>\n",
       "  </tbody>\n",
       "</table>\n",
       "</div>"
      ],
      "text/plain": [
       "        t_dat                                        customer_id  article_id  \\\n",
       "0  2018-09-20  000058a12d5b43e67d225668fa1f8d618c13dc232df0ca...   663713001   \n",
       "1  2018-09-20  000058a12d5b43e67d225668fa1f8d618c13dc232df0ca...   541518023   \n",
       "2  2018-09-20  00007d2de826758b65a93dd24ce629ed66842531df6699...   505221004   \n",
       "3  2018-09-20  00007d2de826758b65a93dd24ce629ed66842531df6699...   685687003   \n",
       "4  2018-09-20  00007d2de826758b65a93dd24ce629ed66842531df6699...   685687004   \n",
       "\n",
       "      price  sales_channel_id  \n",
       "0  0.050831                 2  \n",
       "1  0.030492                 2  \n",
       "2  0.015237                 2  \n",
       "3  0.016932                 2  \n",
       "4  0.016932                 2  "
      ]
     },
     "execution_count": 6,
     "metadata": {},
     "output_type": "execute_result"
    }
   ],
   "source": [
    "pd.read_csv('../data/hmdata/transactions_train.csv.zip', nrows=5)"
   ]
  },
  {
   "cell_type": "markdown",
   "id": "5d3141c8",
   "metadata": {},
   "source": [
    "### Splitting data"
   ]
  },
  {
   "cell_type": "code",
   "execution_count": 7,
   "id": "54c80cd8",
   "metadata": {
    "ExecuteTime": {
     "end_time": "2022-07-30T15:07:21.339845Z",
     "start_time": "2022-07-30T15:07:21.327629Z"
    }
   },
   "outputs": [],
   "source": [
    "def get_train_test_dates(all_data_df, train_days, test_days):\n",
    "    \n",
    "    all_data_df['t_dat'] = pd.to_datetime(all_data_df['t_dat'])\n",
    "    \n",
    "    test_end_date = (all_data_df['t_dat'].max() + pd.Timedelta(days=1))\n",
    "    test_start_date = test_end_date - pd.Timedelta(days=test_days)\n",
    "    train_start_date = test_start_date - pd.Timedelta(days=train_days)\n",
    "    \n",
    "    print('train start date:', train_start_date)\n",
    "    print('test start date:', test_start_date)\n",
    "    print('test end date:', test_end_date)\n",
    "    \n",
    "    return train_start_date, test_start_date, test_end_date"
   ]
  },
  {
   "cell_type": "code",
   "execution_count": 8,
   "id": "4b8700a5",
   "metadata": {
    "ExecuteTime": {
     "end_time": "2022-07-30T15:07:24.289284Z",
     "start_time": "2022-07-30T15:07:24.275397Z"
    }
   },
   "outputs": [],
   "source": [
    "def get_df(\n",
    "    start_date,\n",
    "    end_date\n",
    "):\n",
    "    df = all_data_df.loc[\n",
    "        (all_data_df['t_dat'] >= start_date)\n",
    "        & (all_data_df['t_dat'] < end_date),\n",
    "        :\n",
    "    ]\n",
    "    \n",
    "    return df\n",
    "\n",
    "def get_train_df(train_days, test_days):\n",
    "    train_start_date, test_start_date, test_end_date = get_train_test_dates(all_data_df, train_days, test_days)\n",
    "    train_df = get_df(train_start_date, test_start_date)\n",
    "    \n",
    "    return train_df\n",
    "\n",
    "def get_test_df(train_days, test_days):\n",
    "    train_start_date, test_start_date, test_end_date = get_train_test_dates(all_data_df, train_days, test_days)\n",
    "    test_df = get_df(test_start_date, test_end_date)\n",
    "    \n",
    "    return test_df"
   ]
  },
  {
   "cell_type": "markdown",
   "id": "991e0871",
   "metadata": {},
   "source": [
    "### Cleaning data"
   ]
  },
  {
   "cell_type": "code",
   "execution_count": 9,
   "id": "90416658",
   "metadata": {
    "ExecuteTime": {
     "end_time": "2022-07-30T15:07:25.508871Z",
     "start_time": "2022-07-30T15:07:25.499581Z"
    }
   },
   "outputs": [],
   "source": [
    "def clean_article_id(\n",
    "    df\n",
    "):\n",
    "    df = df.copy()\n",
    "    df['article_id'] = df['article_id'].astype(str)\n",
    "    # zfill adds zeros (0) at the beginning of the string, until it reaches the specified length\n",
    "    df['article_id'] = df['article_id'].apply(lambda x: x.zfill(10))\n",
    "    \n",
    "    return df"
   ]
  },
  {
   "cell_type": "markdown",
   "id": "d6f30042",
   "metadata": {},
   "source": [
    "### Munging data"
   ]
  },
  {
   "cell_type": "code",
   "execution_count": 10,
   "id": "b3a8bd3a",
   "metadata": {
    "ExecuteTime": {
     "end_time": "2022-07-30T15:07:26.774823Z",
     "start_time": "2022-07-30T15:07:26.767376Z"
    }
   },
   "outputs": [],
   "source": [
    "def add_article_features(\n",
    "    df\n",
    "):\n",
    "    df = df.join(\n",
    "        article_df.set_index('article_id'),\n",
    "        on='article_id'\n",
    "    )\n",
    "    \n",
    "    return df"
   ]
  },
  {
   "cell_type": "code",
   "execution_count": 11,
   "id": "62a6c541",
   "metadata": {
    "ExecuteTime": {
     "end_time": "2022-07-30T15:07:27.174777Z",
     "start_time": "2022-07-30T15:07:27.167547Z"
    }
   },
   "outputs": [],
   "source": [
    "def add_customer_features(\n",
    "    df\n",
    "):\n",
    "    df = df.join(\n",
    "        customer_df.set_index('customer_id'),\n",
    "        on='customer_id'\n",
    "    )\n",
    "    \n",
    "    return df"
   ]
  },
  {
   "cell_type": "code",
   "execution_count": 12,
   "id": "5f1a39dd",
   "metadata": {
    "ExecuteTime": {
     "end_time": "2022-07-30T15:07:27.514691Z",
     "start_time": "2022-07-30T15:07:27.507443Z"
    }
   },
   "outputs": [],
   "source": [
    "def add_features(\n",
    "    df\n",
    "):\n",
    "    df = add_article_features(df)\n",
    "    df = add_customer_features(df)\n",
    "    \n",
    "    return df"
   ]
  },
  {
   "cell_type": "markdown",
   "id": "479271ca",
   "metadata": {},
   "source": [
    "### Preparing data"
   ]
  },
  {
   "cell_type": "code",
   "execution_count": 13,
   "id": "03c997d7",
   "metadata": {
    "ExecuteTime": {
     "end_time": "2022-07-30T15:07:30.604286Z",
     "start_time": "2022-07-30T15:07:29.646781Z"
    }
   },
   "outputs": [],
   "source": [
    "article_df = pd.read_csv(\"../data/hmdata/articles.csv.zip\")\n",
    "article_df = clean_article_id(article_df)"
   ]
  },
  {
   "cell_type": "code",
   "execution_count": 14,
   "id": "85041fd5",
   "metadata": {
    "ExecuteTime": {
     "end_time": "2022-07-30T15:07:35.395993Z",
     "start_time": "2022-07-30T15:07:30.913986Z"
    }
   },
   "outputs": [],
   "source": [
    "customer_df = pd.read_csv(\"../data/hmdata/customers.csv.zip\")"
   ]
  },
  {
   "cell_type": "code",
   "execution_count": 33,
   "id": "6a48a659",
   "metadata": {
    "ExecuteTime": {
     "end_time": "2022-07-30T15:25:47.871701Z",
     "start_time": "2022-07-30T15:25:03.017318Z"
    }
   },
   "outputs": [],
   "source": [
    "all_data_df = pd.read_csv('../data/hmdata/transactions_train.csv.zip')"
   ]
  },
  {
   "cell_type": "code",
   "execution_count": 34,
   "id": "6fc5e6d0",
   "metadata": {
    "ExecuteTime": {
     "end_time": "2022-07-30T15:25:47.886274Z",
     "start_time": "2022-07-30T15:25:47.879174Z"
    }
   },
   "outputs": [],
   "source": [
    "test_days=30\n",
    "train_days=180"
   ]
  },
  {
   "cell_type": "code",
   "execution_count": 35,
   "id": "6acd74ae",
   "metadata": {
    "ExecuteTime": {
     "end_time": "2022-07-30T15:26:14.326713Z",
     "start_time": "2022-07-30T15:25:47.891077Z"
    }
   },
   "outputs": [
    {
     "name": "stdout",
     "output_type": "stream",
     "text": [
      "train start date: 2020-02-26 00:00:00\n",
      "test start date: 2020-08-24 00:00:00\n",
      "test end date: 2020-09-23 00:00:00\n"
     ]
    },
    {
     "data": {
      "text/html": [
       "<div>\n",
       "<style scoped>\n",
       "    .dataframe tbody tr th:only-of-type {\n",
       "        vertical-align: middle;\n",
       "    }\n",
       "\n",
       "    .dataframe tbody tr th {\n",
       "        vertical-align: top;\n",
       "    }\n",
       "\n",
       "    .dataframe thead th {\n",
       "        text-align: right;\n",
       "    }\n",
       "</style>\n",
       "<table border=\"1\" class=\"dataframe\">\n",
       "  <thead>\n",
       "    <tr style=\"text-align: right;\">\n",
       "      <th></th>\n",
       "      <th>t_dat</th>\n",
       "      <th>customer_id</th>\n",
       "      <th>article_id</th>\n",
       "      <th>price</th>\n",
       "      <th>sales_channel_id</th>\n",
       "      <th>product_code</th>\n",
       "      <th>prod_name</th>\n",
       "      <th>product_type_no</th>\n",
       "      <th>product_type_name</th>\n",
       "      <th>product_group_name</th>\n",
       "      <th>graphical_appearance_no</th>\n",
       "      <th>graphical_appearance_name</th>\n",
       "      <th>colour_group_code</th>\n",
       "      <th>colour_group_name</th>\n",
       "      <th>perceived_colour_value_id</th>\n",
       "      <th>perceived_colour_value_name</th>\n",
       "      <th>perceived_colour_master_id</th>\n",
       "      <th>perceived_colour_master_name</th>\n",
       "      <th>department_no</th>\n",
       "      <th>department_name</th>\n",
       "      <th>index_code</th>\n",
       "      <th>index_name</th>\n",
       "      <th>index_group_no</th>\n",
       "      <th>index_group_name</th>\n",
       "      <th>section_no</th>\n",
       "      <th>section_name</th>\n",
       "      <th>garment_group_no</th>\n",
       "      <th>garment_group_name</th>\n",
       "      <th>detail_desc</th>\n",
       "      <th>FN</th>\n",
       "      <th>Active</th>\n",
       "      <th>club_member_status</th>\n",
       "      <th>fashion_news_frequency</th>\n",
       "      <th>age</th>\n",
       "      <th>postal_code</th>\n",
       "    </tr>\n",
       "  </thead>\n",
       "  <tbody>\n",
       "    <tr>\n",
       "      <th>22730953</th>\n",
       "      <td>2020-02-26</td>\n",
       "      <td>0004df3751c43c51f79aa24d321f35ce4a1a3ec180c4a1...</td>\n",
       "      <td>0816589003</td>\n",
       "      <td>0.008458</td>\n",
       "      <td>1</td>\n",
       "      <td>816589</td>\n",
       "      <td>Price TEE TVP</td>\n",
       "      <td>255</td>\n",
       "      <td>T-shirt</td>\n",
       "      <td>Garment Upper body</td>\n",
       "      <td>1010008</td>\n",
       "      <td>Front print</td>\n",
       "      <td>10</td>\n",
       "      <td>White</td>\n",
       "      <td>3</td>\n",
       "      <td>Light</td>\n",
       "      <td>9</td>\n",
       "      <td>White</td>\n",
       "      <td>1640</td>\n",
       "      <td>Tops Fancy Jersey</td>\n",
       "      <td>D</td>\n",
       "      <td>Divided</td>\n",
       "      <td>2</td>\n",
       "      <td>Divided</td>\n",
       "      <td>53</td>\n",
       "      <td>Divided Collection</td>\n",
       "      <td>1005</td>\n",
       "      <td>Jersey Fancy</td>\n",
       "      <td>T-shirt in soft cotton jersey with ribbing aro...</td>\n",
       "      <td>NaN</td>\n",
       "      <td>NaN</td>\n",
       "      <td>ACTIVE</td>\n",
       "      <td>NONE</td>\n",
       "      <td>21.0</td>\n",
       "      <td>2c29ae653a9282cce4151bd87643c907644e09541abc28...</td>\n",
       "    </tr>\n",
       "    <tr>\n",
       "      <th>22730954</th>\n",
       "      <td>2020-02-26</td>\n",
       "      <td>0004df3751c43c51f79aa24d321f35ce4a1a3ec180c4a1...</td>\n",
       "      <td>0490113020</td>\n",
       "      <td>0.042356</td>\n",
       "      <td>1</td>\n",
       "      <td>490113</td>\n",
       "      <td>Lola RW Denim Shorts</td>\n",
       "      <td>274</td>\n",
       "      <td>Shorts</td>\n",
       "      <td>Garment Lower body</td>\n",
       "      <td>1010016</td>\n",
       "      <td>Solid</td>\n",
       "      <td>72</td>\n",
       "      <td>Blue</td>\n",
       "      <td>2</td>\n",
       "      <td>Medium Dusty</td>\n",
       "      <td>2</td>\n",
       "      <td>Blue</td>\n",
       "      <td>1745</td>\n",
       "      <td>Shorts</td>\n",
       "      <td>D</td>\n",
       "      <td>Divided</td>\n",
       "      <td>2</td>\n",
       "      <td>Divided</td>\n",
       "      <td>53</td>\n",
       "      <td>Divided Collection</td>\n",
       "      <td>1025</td>\n",
       "      <td>Shorts</td>\n",
       "      <td>Short, 5-pocket shorts in washed, slightly str...</td>\n",
       "      <td>NaN</td>\n",
       "      <td>NaN</td>\n",
       "      <td>ACTIVE</td>\n",
       "      <td>NONE</td>\n",
       "      <td>21.0</td>\n",
       "      <td>2c29ae653a9282cce4151bd87643c907644e09541abc28...</td>\n",
       "    </tr>\n",
       "    <tr>\n",
       "      <th>22730955</th>\n",
       "      <td>2020-02-26</td>\n",
       "      <td>0004df3751c43c51f79aa24d321f35ce4a1a3ec180c4a1...</td>\n",
       "      <td>0573085028</td>\n",
       "      <td>0.033881</td>\n",
       "      <td>1</td>\n",
       "      <td>573085</td>\n",
       "      <td>Madison skinny HW</td>\n",
       "      <td>272</td>\n",
       "      <td>Trousers</td>\n",
       "      <td>Garment Lower body</td>\n",
       "      <td>1010016</td>\n",
       "      <td>Solid</td>\n",
       "      <td>9</td>\n",
       "      <td>Black</td>\n",
       "      <td>4</td>\n",
       "      <td>Dark</td>\n",
       "      <td>5</td>\n",
       "      <td>Black</td>\n",
       "      <td>1722</td>\n",
       "      <td>Trouser</td>\n",
       "      <td>A</td>\n",
       "      <td>Ladieswear</td>\n",
       "      <td>1</td>\n",
       "      <td>Ladieswear</td>\n",
       "      <td>15</td>\n",
       "      <td>Womens Everyday Collection</td>\n",
       "      <td>1009</td>\n",
       "      <td>Trousers</td>\n",
       "      <td>5-pocket jeans in washed stretch denim with a ...</td>\n",
       "      <td>NaN</td>\n",
       "      <td>NaN</td>\n",
       "      <td>ACTIVE</td>\n",
       "      <td>NONE</td>\n",
       "      <td>21.0</td>\n",
       "      <td>2c29ae653a9282cce4151bd87643c907644e09541abc28...</td>\n",
       "    </tr>\n",
       "    <tr>\n",
       "      <th>22730956</th>\n",
       "      <td>2020-02-26</td>\n",
       "      <td>0004df3751c43c51f79aa24d321f35ce4a1a3ec180c4a1...</td>\n",
       "      <td>0573085043</td>\n",
       "      <td>0.033881</td>\n",
       "      <td>1</td>\n",
       "      <td>573085</td>\n",
       "      <td>Madison skinny HW (1)</td>\n",
       "      <td>272</td>\n",
       "      <td>Trousers</td>\n",
       "      <td>Garment Lower body</td>\n",
       "      <td>1010023</td>\n",
       "      <td>Denim</td>\n",
       "      <td>72</td>\n",
       "      <td>Blue</td>\n",
       "      <td>2</td>\n",
       "      <td>Medium Dusty</td>\n",
       "      <td>2</td>\n",
       "      <td>Blue</td>\n",
       "      <td>1722</td>\n",
       "      <td>Trouser</td>\n",
       "      <td>A</td>\n",
       "      <td>Ladieswear</td>\n",
       "      <td>1</td>\n",
       "      <td>Ladieswear</td>\n",
       "      <td>15</td>\n",
       "      <td>Womens Everyday Collection</td>\n",
       "      <td>1009</td>\n",
       "      <td>Trousers</td>\n",
       "      <td>5-pocket jeans in washed stretch denim with a ...</td>\n",
       "      <td>NaN</td>\n",
       "      <td>NaN</td>\n",
       "      <td>ACTIVE</td>\n",
       "      <td>NONE</td>\n",
       "      <td>21.0</td>\n",
       "      <td>2c29ae653a9282cce4151bd87643c907644e09541abc28...</td>\n",
       "    </tr>\n",
       "    <tr>\n",
       "      <th>22730957</th>\n",
       "      <td>2020-02-26</td>\n",
       "      <td>0004df3751c43c51f79aa24d321f35ce4a1a3ec180c4a1...</td>\n",
       "      <td>0689365042</td>\n",
       "      <td>0.025407</td>\n",
       "      <td>1</td>\n",
       "      <td>689365</td>\n",
       "      <td>BROADWAY SHIRT S.1</td>\n",
       "      <td>259</td>\n",
       "      <td>Shirt</td>\n",
       "      <td>Garment Upper body</td>\n",
       "      <td>1010004</td>\n",
       "      <td>Check</td>\n",
       "      <td>31</td>\n",
       "      <td>Light Orange</td>\n",
       "      <td>1</td>\n",
       "      <td>Dusty Light</td>\n",
       "      <td>3</td>\n",
       "      <td>Orange</td>\n",
       "      <td>1543</td>\n",
       "      <td>Tops Woven</td>\n",
       "      <td>D</td>\n",
       "      <td>Divided</td>\n",
       "      <td>2</td>\n",
       "      <td>Divided</td>\n",
       "      <td>53</td>\n",
       "      <td>Divided Collection</td>\n",
       "      <td>1010</td>\n",
       "      <td>Blouses</td>\n",
       "      <td>Shirt in a cotton weave with a collar, buttons...</td>\n",
       "      <td>NaN</td>\n",
       "      <td>NaN</td>\n",
       "      <td>ACTIVE</td>\n",
       "      <td>NONE</td>\n",
       "      <td>21.0</td>\n",
       "      <td>2c29ae653a9282cce4151bd87643c907644e09541abc28...</td>\n",
       "    </tr>\n",
       "  </tbody>\n",
       "</table>\n",
       "</div>"
      ],
      "text/plain": [
       "              t_dat                                        customer_id  \\\n",
       "22730953 2020-02-26  0004df3751c43c51f79aa24d321f35ce4a1a3ec180c4a1...   \n",
       "22730954 2020-02-26  0004df3751c43c51f79aa24d321f35ce4a1a3ec180c4a1...   \n",
       "22730955 2020-02-26  0004df3751c43c51f79aa24d321f35ce4a1a3ec180c4a1...   \n",
       "22730956 2020-02-26  0004df3751c43c51f79aa24d321f35ce4a1a3ec180c4a1...   \n",
       "22730957 2020-02-26  0004df3751c43c51f79aa24d321f35ce4a1a3ec180c4a1...   \n",
       "\n",
       "          article_id     price  sales_channel_id  product_code  \\\n",
       "22730953  0816589003  0.008458                 1        816589   \n",
       "22730954  0490113020  0.042356                 1        490113   \n",
       "22730955  0573085028  0.033881                 1        573085   \n",
       "22730956  0573085043  0.033881                 1        573085   \n",
       "22730957  0689365042  0.025407                 1        689365   \n",
       "\n",
       "                      prod_name  product_type_no product_type_name  \\\n",
       "22730953          Price TEE TVP              255           T-shirt   \n",
       "22730954   Lola RW Denim Shorts              274            Shorts   \n",
       "22730955      Madison skinny HW              272          Trousers   \n",
       "22730956  Madison skinny HW (1)              272          Trousers   \n",
       "22730957     BROADWAY SHIRT S.1              259             Shirt   \n",
       "\n",
       "          product_group_name  graphical_appearance_no  \\\n",
       "22730953  Garment Upper body                  1010008   \n",
       "22730954  Garment Lower body                  1010016   \n",
       "22730955  Garment Lower body                  1010016   \n",
       "22730956  Garment Lower body                  1010023   \n",
       "22730957  Garment Upper body                  1010004   \n",
       "\n",
       "         graphical_appearance_name  colour_group_code colour_group_name  \\\n",
       "22730953               Front print                 10             White   \n",
       "22730954                     Solid                 72              Blue   \n",
       "22730955                     Solid                  9             Black   \n",
       "22730956                     Denim                 72              Blue   \n",
       "22730957                     Check                 31      Light Orange   \n",
       "\n",
       "          perceived_colour_value_id perceived_colour_value_name  \\\n",
       "22730953                          3                       Light   \n",
       "22730954                          2                Medium Dusty   \n",
       "22730955                          4                        Dark   \n",
       "22730956                          2                Medium Dusty   \n",
       "22730957                          1                 Dusty Light   \n",
       "\n",
       "          perceived_colour_master_id perceived_colour_master_name  \\\n",
       "22730953                           9                        White   \n",
       "22730954                           2                         Blue   \n",
       "22730955                           5                        Black   \n",
       "22730956                           2                         Blue   \n",
       "22730957                           3                       Orange   \n",
       "\n",
       "          department_no    department_name index_code  index_name  \\\n",
       "22730953           1640  Tops Fancy Jersey          D     Divided   \n",
       "22730954           1745             Shorts          D     Divided   \n",
       "22730955           1722            Trouser          A  Ladieswear   \n",
       "22730956           1722            Trouser          A  Ladieswear   \n",
       "22730957           1543         Tops Woven          D     Divided   \n",
       "\n",
       "          index_group_no index_group_name  section_no  \\\n",
       "22730953               2          Divided          53   \n",
       "22730954               2          Divided          53   \n",
       "22730955               1       Ladieswear          15   \n",
       "22730956               1       Ladieswear          15   \n",
       "22730957               2          Divided          53   \n",
       "\n",
       "                        section_name  garment_group_no garment_group_name  \\\n",
       "22730953          Divided Collection              1005       Jersey Fancy   \n",
       "22730954          Divided Collection              1025             Shorts   \n",
       "22730955  Womens Everyday Collection              1009           Trousers   \n",
       "22730956  Womens Everyday Collection              1009           Trousers   \n",
       "22730957          Divided Collection              1010            Blouses   \n",
       "\n",
       "                                                detail_desc  FN  Active  \\\n",
       "22730953  T-shirt in soft cotton jersey with ribbing aro... NaN     NaN   \n",
       "22730954  Short, 5-pocket shorts in washed, slightly str... NaN     NaN   \n",
       "22730955  5-pocket jeans in washed stretch denim with a ... NaN     NaN   \n",
       "22730956  5-pocket jeans in washed stretch denim with a ... NaN     NaN   \n",
       "22730957  Shirt in a cotton weave with a collar, buttons... NaN     NaN   \n",
       "\n",
       "         club_member_status fashion_news_frequency   age  \\\n",
       "22730953             ACTIVE                   NONE  21.0   \n",
       "22730954             ACTIVE                   NONE  21.0   \n",
       "22730955             ACTIVE                   NONE  21.0   \n",
       "22730956             ACTIVE                   NONE  21.0   \n",
       "22730957             ACTIVE                   NONE  21.0   \n",
       "\n",
       "                                                postal_code  \n",
       "22730953  2c29ae653a9282cce4151bd87643c907644e09541abc28...  \n",
       "22730954  2c29ae653a9282cce4151bd87643c907644e09541abc28...  \n",
       "22730955  2c29ae653a9282cce4151bd87643c907644e09541abc28...  \n",
       "22730956  2c29ae653a9282cce4151bd87643c907644e09541abc28...  \n",
       "22730957  2c29ae653a9282cce4151bd87643c907644e09541abc28...  "
      ]
     },
     "execution_count": 35,
     "metadata": {},
     "output_type": "execute_result"
    }
   ],
   "source": [
    "train_df = get_train_df(train_days, test_days)\n",
    "train_df = clean_article_id(train_df)\n",
    "train_df = add_features(train_df)\n",
    "\n",
    "train_df.head()"
   ]
  },
  {
   "cell_type": "code",
   "execution_count": 36,
   "id": "4b03a11e",
   "metadata": {
    "ExecuteTime": {
     "end_time": "2022-07-30T15:26:18.817088Z",
     "start_time": "2022-07-30T15:26:14.331089Z"
    }
   },
   "outputs": [
    {
     "name": "stdout",
     "output_type": "stream",
     "text": [
      "train start date: 2020-02-26 00:00:00\n",
      "test start date: 2020-08-24 00:00:00\n",
      "test end date: 2020-09-23 00:00:00\n"
     ]
    },
    {
     "data": {
      "text/html": [
       "<div>\n",
       "<style scoped>\n",
       "    .dataframe tbody tr th:only-of-type {\n",
       "        vertical-align: middle;\n",
       "    }\n",
       "\n",
       "    .dataframe tbody tr th {\n",
       "        vertical-align: top;\n",
       "    }\n",
       "\n",
       "    .dataframe thead th {\n",
       "        text-align: right;\n",
       "    }\n",
       "</style>\n",
       "<table border=\"1\" class=\"dataframe\">\n",
       "  <thead>\n",
       "    <tr style=\"text-align: right;\">\n",
       "      <th></th>\n",
       "      <th>t_dat</th>\n",
       "      <th>customer_id</th>\n",
       "      <th>article_id</th>\n",
       "      <th>price</th>\n",
       "      <th>sales_channel_id</th>\n",
       "      <th>product_code</th>\n",
       "      <th>prod_name</th>\n",
       "      <th>product_type_no</th>\n",
       "      <th>product_type_name</th>\n",
       "      <th>product_group_name</th>\n",
       "      <th>graphical_appearance_no</th>\n",
       "      <th>graphical_appearance_name</th>\n",
       "      <th>colour_group_code</th>\n",
       "      <th>colour_group_name</th>\n",
       "      <th>perceived_colour_value_id</th>\n",
       "      <th>perceived_colour_value_name</th>\n",
       "      <th>perceived_colour_master_id</th>\n",
       "      <th>perceived_colour_master_name</th>\n",
       "      <th>department_no</th>\n",
       "      <th>department_name</th>\n",
       "      <th>index_code</th>\n",
       "      <th>index_name</th>\n",
       "      <th>index_group_no</th>\n",
       "      <th>index_group_name</th>\n",
       "      <th>section_no</th>\n",
       "      <th>section_name</th>\n",
       "      <th>garment_group_no</th>\n",
       "      <th>garment_group_name</th>\n",
       "      <th>detail_desc</th>\n",
       "      <th>FN</th>\n",
       "      <th>Active</th>\n",
       "      <th>club_member_status</th>\n",
       "      <th>fashion_news_frequency</th>\n",
       "      <th>age</th>\n",
       "      <th>postal_code</th>\n",
       "    </tr>\n",
       "  </thead>\n",
       "  <tbody>\n",
       "    <tr>\n",
       "      <th>30665422</th>\n",
       "      <td>2020-08-24</td>\n",
       "      <td>0000e9a4db2da4e9c68558ad1e7df570d02767b213ec6b...</td>\n",
       "      <td>0880553001</td>\n",
       "      <td>0.025407</td>\n",
       "      <td>2</td>\n",
       "      <td>880553</td>\n",
       "      <td>OP NEW Perth Push</td>\n",
       "      <td>-1</td>\n",
       "      <td>Unknown</td>\n",
       "      <td>Unknown</td>\n",
       "      <td>1010016</td>\n",
       "      <td>Solid</td>\n",
       "      <td>31</td>\n",
       "      <td>Light Orange</td>\n",
       "      <td>1</td>\n",
       "      <td>Dusty Light</td>\n",
       "      <td>3</td>\n",
       "      <td>Orange</td>\n",
       "      <td>1339</td>\n",
       "      <td>Clean Lingerie</td>\n",
       "      <td>B</td>\n",
       "      <td>Lingeries/Tights</td>\n",
       "      <td>1</td>\n",
       "      <td>Ladieswear</td>\n",
       "      <td>61</td>\n",
       "      <td>Womens Lingerie</td>\n",
       "      <td>1017</td>\n",
       "      <td>Under-, Nightwear</td>\n",
       "      <td>Push-up bra in microfibre with underwired, pad...</td>\n",
       "      <td>1.0</td>\n",
       "      <td>1.0</td>\n",
       "      <td>ACTIVE</td>\n",
       "      <td>Regularly</td>\n",
       "      <td>27.0</td>\n",
       "      <td>de497104dda880ac040e1476cfa3587c405ceb6f53dc53...</td>\n",
       "    </tr>\n",
       "    <tr>\n",
       "      <th>30665423</th>\n",
       "      <td>2020-08-24</td>\n",
       "      <td>0000e9a4db2da4e9c68558ad1e7df570d02767b213ec6b...</td>\n",
       "      <td>0880553001</td>\n",
       "      <td>0.025407</td>\n",
       "      <td>2</td>\n",
       "      <td>880553</td>\n",
       "      <td>OP NEW Perth Push</td>\n",
       "      <td>-1</td>\n",
       "      <td>Unknown</td>\n",
       "      <td>Unknown</td>\n",
       "      <td>1010016</td>\n",
       "      <td>Solid</td>\n",
       "      <td>31</td>\n",
       "      <td>Light Orange</td>\n",
       "      <td>1</td>\n",
       "      <td>Dusty Light</td>\n",
       "      <td>3</td>\n",
       "      <td>Orange</td>\n",
       "      <td>1339</td>\n",
       "      <td>Clean Lingerie</td>\n",
       "      <td>B</td>\n",
       "      <td>Lingeries/Tights</td>\n",
       "      <td>1</td>\n",
       "      <td>Ladieswear</td>\n",
       "      <td>61</td>\n",
       "      <td>Womens Lingerie</td>\n",
       "      <td>1017</td>\n",
       "      <td>Under-, Nightwear</td>\n",
       "      <td>Push-up bra in microfibre with underwired, pad...</td>\n",
       "      <td>1.0</td>\n",
       "      <td>1.0</td>\n",
       "      <td>ACTIVE</td>\n",
       "      <td>Regularly</td>\n",
       "      <td>27.0</td>\n",
       "      <td>de497104dda880ac040e1476cfa3587c405ceb6f53dc53...</td>\n",
       "    </tr>\n",
       "    <tr>\n",
       "      <th>30665424</th>\n",
       "      <td>2020-08-24</td>\n",
       "      <td>00047d50bde8751b26aaec7536ccc5fd92828ffa0a396d...</td>\n",
       "      <td>0909081004</td>\n",
       "      <td>0.033881</td>\n",
       "      <td>2</td>\n",
       "      <td>909081</td>\n",
       "      <td>Jessica Long Sweater</td>\n",
       "      <td>252</td>\n",
       "      <td>Sweater</td>\n",
       "      <td>Garment Upper body</td>\n",
       "      <td>1010016</td>\n",
       "      <td>Solid</td>\n",
       "      <td>53</td>\n",
       "      <td>Dark Pink</td>\n",
       "      <td>4</td>\n",
       "      <td>Dark</td>\n",
       "      <td>4</td>\n",
       "      <td>Pink</td>\n",
       "      <td>1647</td>\n",
       "      <td>Tops Knitwear</td>\n",
       "      <td>D</td>\n",
       "      <td>Divided</td>\n",
       "      <td>2</td>\n",
       "      <td>Divided</td>\n",
       "      <td>53</td>\n",
       "      <td>Divided Collection</td>\n",
       "      <td>1003</td>\n",
       "      <td>Knitwear</td>\n",
       "      <td>Straight-style jumper in a soft, loose knit wi...</td>\n",
       "      <td>NaN</td>\n",
       "      <td>NaN</td>\n",
       "      <td>ACTIVE</td>\n",
       "      <td>NONE</td>\n",
       "      <td>32.0</td>\n",
       "      <td>ff3a08d67de1cc50300128d97ac2961a89330a87a9ad6d...</td>\n",
       "    </tr>\n",
       "    <tr>\n",
       "      <th>30665425</th>\n",
       "      <td>2020-08-24</td>\n",
       "      <td>00047d50bde8751b26aaec7536ccc5fd92828ffa0a396d...</td>\n",
       "      <td>0516903024</td>\n",
       "      <td>0.025407</td>\n",
       "      <td>2</td>\n",
       "      <td>516903</td>\n",
       "      <td>Sally Structure TVP</td>\n",
       "      <td>252</td>\n",
       "      <td>Sweater</td>\n",
       "      <td>Garment Upper body</td>\n",
       "      <td>1010026</td>\n",
       "      <td>Other structure</td>\n",
       "      <td>43</td>\n",
       "      <td>Dark Red</td>\n",
       "      <td>4</td>\n",
       "      <td>Dark</td>\n",
       "      <td>18</td>\n",
       "      <td>Red</td>\n",
       "      <td>1647</td>\n",
       "      <td>Tops Knitwear</td>\n",
       "      <td>D</td>\n",
       "      <td>Divided</td>\n",
       "      <td>2</td>\n",
       "      <td>Divided</td>\n",
       "      <td>53</td>\n",
       "      <td>Divided Collection</td>\n",
       "      <td>1003</td>\n",
       "      <td>Knitwear</td>\n",
       "      <td>Jumper in a textured cotton-blend knit with dr...</td>\n",
       "      <td>NaN</td>\n",
       "      <td>NaN</td>\n",
       "      <td>ACTIVE</td>\n",
       "      <td>NONE</td>\n",
       "      <td>32.0</td>\n",
       "      <td>ff3a08d67de1cc50300128d97ac2961a89330a87a9ad6d...</td>\n",
       "    </tr>\n",
       "    <tr>\n",
       "      <th>30665426</th>\n",
       "      <td>2020-08-24</td>\n",
       "      <td>00047d50bde8751b26aaec7536ccc5fd92828ffa0a396d...</td>\n",
       "      <td>0897679003</td>\n",
       "      <td>0.042356</td>\n",
       "      <td>2</td>\n",
       "      <td>897679</td>\n",
       "      <td>Vigo Velour Sweater</td>\n",
       "      <td>252</td>\n",
       "      <td>Sweater</td>\n",
       "      <td>Garment Upper body</td>\n",
       "      <td>1010016</td>\n",
       "      <td>Solid</td>\n",
       "      <td>53</td>\n",
       "      <td>Dark Pink</td>\n",
       "      <td>5</td>\n",
       "      <td>Bright</td>\n",
       "      <td>4</td>\n",
       "      <td>Pink</td>\n",
       "      <td>1647</td>\n",
       "      <td>Tops Knitwear</td>\n",
       "      <td>D</td>\n",
       "      <td>Divided</td>\n",
       "      <td>2</td>\n",
       "      <td>Divided</td>\n",
       "      <td>53</td>\n",
       "      <td>Divided Collection</td>\n",
       "      <td>1003</td>\n",
       "      <td>Knitwear</td>\n",
       "      <td>Jumper in soft, rib-knit chenille with a round...</td>\n",
       "      <td>NaN</td>\n",
       "      <td>NaN</td>\n",
       "      <td>ACTIVE</td>\n",
       "      <td>NONE</td>\n",
       "      <td>32.0</td>\n",
       "      <td>ff3a08d67de1cc50300128d97ac2961a89330a87a9ad6d...</td>\n",
       "    </tr>\n",
       "  </tbody>\n",
       "</table>\n",
       "</div>"
      ],
      "text/plain": [
       "              t_dat                                        customer_id  \\\n",
       "30665422 2020-08-24  0000e9a4db2da4e9c68558ad1e7df570d02767b213ec6b...   \n",
       "30665423 2020-08-24  0000e9a4db2da4e9c68558ad1e7df570d02767b213ec6b...   \n",
       "30665424 2020-08-24  00047d50bde8751b26aaec7536ccc5fd92828ffa0a396d...   \n",
       "30665425 2020-08-24  00047d50bde8751b26aaec7536ccc5fd92828ffa0a396d...   \n",
       "30665426 2020-08-24  00047d50bde8751b26aaec7536ccc5fd92828ffa0a396d...   \n",
       "\n",
       "          article_id     price  sales_channel_id  product_code  \\\n",
       "30665422  0880553001  0.025407                 2        880553   \n",
       "30665423  0880553001  0.025407                 2        880553   \n",
       "30665424  0909081004  0.033881                 2        909081   \n",
       "30665425  0516903024  0.025407                 2        516903   \n",
       "30665426  0897679003  0.042356                 2        897679   \n",
       "\n",
       "                     prod_name  product_type_no product_type_name  \\\n",
       "30665422     OP NEW Perth Push               -1           Unknown   \n",
       "30665423     OP NEW Perth Push               -1           Unknown   \n",
       "30665424  Jessica Long Sweater              252           Sweater   \n",
       "30665425   Sally Structure TVP              252           Sweater   \n",
       "30665426   Vigo Velour Sweater              252           Sweater   \n",
       "\n",
       "          product_group_name  graphical_appearance_no  \\\n",
       "30665422             Unknown                  1010016   \n",
       "30665423             Unknown                  1010016   \n",
       "30665424  Garment Upper body                  1010016   \n",
       "30665425  Garment Upper body                  1010026   \n",
       "30665426  Garment Upper body                  1010016   \n",
       "\n",
       "         graphical_appearance_name  colour_group_code colour_group_name  \\\n",
       "30665422                     Solid                 31      Light Orange   \n",
       "30665423                     Solid                 31      Light Orange   \n",
       "30665424                     Solid                 53         Dark Pink   \n",
       "30665425           Other structure                 43          Dark Red   \n",
       "30665426                     Solid                 53         Dark Pink   \n",
       "\n",
       "          perceived_colour_value_id perceived_colour_value_name  \\\n",
       "30665422                          1                 Dusty Light   \n",
       "30665423                          1                 Dusty Light   \n",
       "30665424                          4                        Dark   \n",
       "30665425                          4                        Dark   \n",
       "30665426                          5                      Bright   \n",
       "\n",
       "          perceived_colour_master_id perceived_colour_master_name  \\\n",
       "30665422                           3                       Orange   \n",
       "30665423                           3                       Orange   \n",
       "30665424                           4                         Pink   \n",
       "30665425                          18                          Red   \n",
       "30665426                           4                         Pink   \n",
       "\n",
       "          department_no department_name index_code        index_name  \\\n",
       "30665422           1339  Clean Lingerie          B  Lingeries/Tights   \n",
       "30665423           1339  Clean Lingerie          B  Lingeries/Tights   \n",
       "30665424           1647   Tops Knitwear          D           Divided   \n",
       "30665425           1647   Tops Knitwear          D           Divided   \n",
       "30665426           1647   Tops Knitwear          D           Divided   \n",
       "\n",
       "          index_group_no index_group_name  section_no        section_name  \\\n",
       "30665422               1       Ladieswear          61     Womens Lingerie   \n",
       "30665423               1       Ladieswear          61     Womens Lingerie   \n",
       "30665424               2          Divided          53  Divided Collection   \n",
       "30665425               2          Divided          53  Divided Collection   \n",
       "30665426               2          Divided          53  Divided Collection   \n",
       "\n",
       "          garment_group_no garment_group_name  \\\n",
       "30665422              1017  Under-, Nightwear   \n",
       "30665423              1017  Under-, Nightwear   \n",
       "30665424              1003           Knitwear   \n",
       "30665425              1003           Knitwear   \n",
       "30665426              1003           Knitwear   \n",
       "\n",
       "                                                detail_desc   FN  Active  \\\n",
       "30665422  Push-up bra in microfibre with underwired, pad...  1.0     1.0   \n",
       "30665423  Push-up bra in microfibre with underwired, pad...  1.0     1.0   \n",
       "30665424  Straight-style jumper in a soft, loose knit wi...  NaN     NaN   \n",
       "30665425  Jumper in a textured cotton-blend knit with dr...  NaN     NaN   \n",
       "30665426  Jumper in soft, rib-knit chenille with a round...  NaN     NaN   \n",
       "\n",
       "         club_member_status fashion_news_frequency   age  \\\n",
       "30665422             ACTIVE              Regularly  27.0   \n",
       "30665423             ACTIVE              Regularly  27.0   \n",
       "30665424             ACTIVE                   NONE  32.0   \n",
       "30665425             ACTIVE                   NONE  32.0   \n",
       "30665426             ACTIVE                   NONE  32.0   \n",
       "\n",
       "                                                postal_code  \n",
       "30665422  de497104dda880ac040e1476cfa3587c405ceb6f53dc53...  \n",
       "30665423  de497104dda880ac040e1476cfa3587c405ceb6f53dc53...  \n",
       "30665424  ff3a08d67de1cc50300128d97ac2961a89330a87a9ad6d...  \n",
       "30665425  ff3a08d67de1cc50300128d97ac2961a89330a87a9ad6d...  \n",
       "30665426  ff3a08d67de1cc50300128d97ac2961a89330a87a9ad6d...  "
      ]
     },
     "execution_count": 36,
     "metadata": {},
     "output_type": "execute_result"
    }
   ],
   "source": [
    "test_df = get_test_df(train_days, test_days)\n",
    "test_df = clean_article_id(test_df)\n",
    "test_df = add_features(test_df)\n",
    "\n",
    "test_df.head()"
   ]
  },
  {
   "cell_type": "code",
   "execution_count": 37,
   "id": "bc8e795d",
   "metadata": {
    "ExecuteTime": {
     "end_time": "2022-07-30T15:26:18.829269Z",
     "start_time": "2022-07-30T15:26:18.821625Z"
    }
   },
   "outputs": [
    {
     "name": "stdout",
     "output_type": "stream",
     "text": [
      "number of training samples: 7934469\n",
      "number of test samples: 1122902\n"
     ]
    }
   ],
   "source": [
    "print('number of training samples:', len(train_df))\n",
    "print('number of test samples:', len(test_df))"
   ]
  },
  {
   "cell_type": "code",
   "execution_count": 38,
   "id": "9d25a719",
   "metadata": {
    "ExecuteTime": {
     "end_time": "2022-07-30T15:26:20.022100Z",
     "start_time": "2022-07-30T15:26:18.833828Z"
    }
   },
   "outputs": [
    {
     "name": "stdout",
     "output_type": "stream",
     "text": [
      "78.66227408897527\n",
      "81.7637844025384\n"
     ]
    }
   ],
   "source": [
    "print(psutil.virtual_memory().available * 100 / psutil.virtual_memory().total)\n",
    "\n",
    "del all_data_df\n",
    "gc.collect()\n",
    "\n",
    "print(psutil.virtual_memory().available * 100 / psutil.virtual_memory().total)"
   ]
  },
  {
   "cell_type": "code",
   "execution_count": 39,
   "id": "57cad2b8",
   "metadata": {
    "ExecuteTime": {
     "end_time": "2022-07-30T15:26:35.386527Z",
     "start_time": "2022-07-30T15:26:20.025020Z"
    }
   },
   "outputs": [],
   "source": [
    "# Remove records where we don't have all customer features\n",
    "train_df = train_df[~train_df['customer_id'].isnull()]\n",
    "test_df = test_df[~test_df['customer_id'].isnull()]\n",
    "\n",
    "# Use 100k customers from train_df only so we can quickly test our methods\n",
    "common_customer_ids = train_df['customer_id'].unique()[:100000]\n",
    "train_df = train_df[train_df['customer_id'].isin(common_customer_ids)]\n",
    "test_df = test_df[test_df['customer_id'].isin(common_customer_ids)]"
   ]
  },
  {
   "cell_type": "code",
   "execution_count": 40,
   "id": "17e145d3",
   "metadata": {
    "ExecuteTime": {
     "end_time": "2022-07-30T15:26:35.402104Z",
     "start_time": "2022-07-30T15:26:35.392837Z"
    }
   },
   "outputs": [
    {
     "name": "stdout",
     "output_type": "stream",
     "text": [
      "number of training samples: 1885955\n",
      "number of test samples: 228565\n"
     ]
    }
   ],
   "source": [
    "print('number of training samples:', len(train_df))\n",
    "print('number of test samples:', len(test_df))"
   ]
  },
  {
   "cell_type": "code",
   "execution_count": 41,
   "id": "0e75a9bd",
   "metadata": {
    "ExecuteTime": {
     "end_time": "2022-07-30T15:26:36.428431Z",
     "start_time": "2022-07-30T15:26:35.406560Z"
    }
   },
   "outputs": [],
   "source": [
    "all_train_customers = train_df['customer_id'].unique()\n",
    "all_train_articles = train_df['article_id'].unique()"
   ]
  },
  {
   "cell_type": "markdown",
   "id": "c5ea1d33",
   "metadata": {},
   "source": [
    "## Building user representations"
   ]
  },
  {
   "cell_type": "markdown",
   "id": "574a17b6",
   "metadata": {},
   "source": [
    "### Two tower model"
   ]
  },
  {
   "cell_type": "code",
   "execution_count": 42,
   "id": "c6cd5af5",
   "metadata": {
    "ExecuteTime": {
     "end_time": "2022-07-30T15:26:36.448649Z",
     "start_time": "2022-07-30T15:26:36.436662Z"
    }
   },
   "outputs": [],
   "source": [
    "tf.random.set_seed(42)"
   ]
  },
  {
   "cell_type": "code",
   "execution_count": 53,
   "id": "483db809",
   "metadata": {
    "ExecuteTime": {
     "end_time": "2022-07-30T15:37:07.168740Z",
     "start_time": "2022-07-30T15:36:11.053381Z"
    }
   },
   "outputs": [],
   "source": [
    "two_tower_features = [\n",
    "    'customer_id',\n",
    "    'article_id'\n",
    "]\n",
    "\n",
    "batch_size = 1024\n",
    "\n",
    "\n",
    "train_ds = tf.data.Dataset.from_tensor_slices(dict(train_df[two_tower_features]))\n",
    "train_ds = train_ds.shuffle(100_000).batch(batch_size)\n",
    "\n",
    "test_ds = tf.data.Dataset.from_tensor_slices(dict(test_df[two_tower_features]))\n",
    "test_ds = test_ds.batch(batch_size)"
   ]
  },
  {
   "cell_type": "code",
   "execution_count": 54,
   "id": "f14e2f2c",
   "metadata": {
    "ExecuteTime": {
     "end_time": "2022-07-30T15:37:07.181118Z",
     "start_time": "2022-07-30T15:37:07.175024Z"
    }
   },
   "outputs": [],
   "source": [
    "two_tower_embedding_dimension = 64"
   ]
  },
  {
   "cell_type": "code",
   "execution_count": 55,
   "id": "64a8abb7",
   "metadata": {
    "ExecuteTime": {
     "end_time": "2022-07-30T15:37:07.355242Z",
     "start_time": "2022-07-30T15:37:07.184316Z"
    }
   },
   "outputs": [],
   "source": [
    "# customer model\n",
    "\n",
    "customer_model = tf.keras.Sequential([\n",
    "    StringLookup(vocabulary=all_train_customers, mask_token=None),\n",
    "    Embedding(input_dim=len(all_train_customers)+1, output_dim=two_tower_embedding_dimension),\n",
    "    Dense(units=two_tower_embedding_dimension, activation='relu'),\n",
    "])"
   ]
  },
  {
   "cell_type": "code",
   "execution_count": 56,
   "id": "b4b8583f",
   "metadata": {
    "ExecuteTime": {
     "end_time": "2022-07-30T15:37:07.464391Z",
     "start_time": "2022-07-30T15:37:07.362493Z"
    }
   },
   "outputs": [],
   "source": [
    "# article model\n",
    "\n",
    "article_model = tf.keras.Sequential([\n",
    "    StringLookup(vocabulary=all_train_articles, mask_token=None),\n",
    "    Embedding(input_dim=len(all_train_articles)+1, output_dim=two_tower_embedding_dimension),\n",
    "    Dense(units=two_tower_embedding_dimension, activation='relu'),\n",
    "])"
   ]
  },
  {
   "cell_type": "code",
   "execution_count": 57,
   "id": "4b27b0e7",
   "metadata": {
    "ExecuteTime": {
     "end_time": "2022-07-30T15:37:07.483758Z",
     "start_time": "2022-07-30T15:37:07.469484Z"
    }
   },
   "outputs": [],
   "source": [
    "class TwoTowerModel(tfrs.Model):\n",
    "\n",
    "    def __init__(self, customer_model, article_model):\n",
    "        super().__init__()\n",
    "        self.customer_model = customer_model\n",
    "        self.article_model = article_model\n",
    "        \n",
    "        self.task = tfrs.tasks.Retrieval(\n",
    "            num_hard_negatives=5,\n",
    "        )\n",
    "    \n",
    "    def compute_loss(self, features, training=False):\n",
    "        \n",
    "        customer_embeddings = self.customer_model(features['customer_id'])\n",
    "        article_embeddings = self.article_model(features['article_id'])\n",
    "        \n",
    "        loss = self.task(\n",
    "            query_embeddings=customer_embeddings,\n",
    "            candidate_embeddings=article_embeddings\n",
    "        )\n",
    "        \n",
    "        return loss\n",
    "        "
   ]
  },
  {
   "cell_type": "code",
   "execution_count": 58,
   "id": "c85a458c",
   "metadata": {
    "ExecuteTime": {
     "end_time": "2022-07-30T15:37:07.515730Z",
     "start_time": "2022-07-30T15:37:07.488662Z"
    }
   },
   "outputs": [],
   "source": [
    "two_tower_model = TwoTowerModel(customer_model, article_model)\n",
    "two_tower_model.compile(\n",
    "    optimizer=tf.keras.optimizers.Adagrad(learning_rate=0.1)\n",
    ")"
   ]
  },
  {
   "cell_type": "code",
   "execution_count": 59,
   "id": "bc8cd64b",
   "metadata": {
    "ExecuteTime": {
     "end_time": "2022-07-30T15:40:19.454792Z",
     "start_time": "2022-07-30T15:37:07.520623Z"
    },
    "scrolled": false
   },
   "outputs": [
    {
     "name": "stdout",
     "output_type": "stream",
     "text": [
      "Epoch 1/5\n",
      "1842/1842 [==============================] - 40s 21ms/step - loss: 1834.2808 - regularization_loss: 0.0000e+00 - total_loss: 1834.2808 - val_loss: 381.6448 - val_regularization_loss: 0.0000e+00 - val_total_loss: 381.6448\n",
      "Epoch 2/5\n",
      "1842/1842 [==============================] - 38s 20ms/step - loss: 1834.2698 - regularization_loss: 0.0000e+00 - total_loss: 1834.2698 - val_loss: 381.6448 - val_regularization_loss: 0.0000e+00 - val_total_loss: 381.6448\n",
      "Epoch 3/5\n",
      "1842/1842 [==============================] - 38s 21ms/step - loss: 1834.2698 - regularization_loss: 0.0000e+00 - total_loss: 1834.2698 - val_loss: 381.6448 - val_regularization_loss: 0.0000e+00 - val_total_loss: 381.6448\n",
      "Epoch 4/5\n",
      "1842/1842 [==============================] - 38s 21ms/step - loss: 1834.2698 - regularization_loss: 0.0000e+00 - total_loss: 1834.2698 - val_loss: 381.6448 - val_regularization_loss: 0.0000e+00 - val_total_loss: 381.6448\n",
      "Epoch 5/5\n",
      "1842/1842 [==============================] - 38s 20ms/step - loss: 1834.2698 - regularization_loss: 0.0000e+00 - total_loss: 1834.2698 - val_loss: 381.6448 - val_regularization_loss: 0.0000e+00 - val_total_loss: 381.6448\n"
     ]
    }
   ],
   "source": [
    "two_tower_history = two_tower_model.fit(\n",
    "    train_ds,\n",
    "    epochs=5,\n",
    "    validation_data=test_ds\n",
    ")"
   ]
  },
  {
   "cell_type": "code",
   "execution_count": 50,
   "id": "8569dd71",
   "metadata": {
    "ExecuteTime": {
     "end_time": "2022-07-30T15:29:22.961097Z",
     "start_time": "2022-07-30T15:29:22.943133Z"
    }
   },
   "outputs": [
    {
     "data": {
      "text/plain": [
       "<tf.Tensor: shape=(1, 64), dtype=float32, numpy=\n",
       "array([[ 0.02536211, -0.01378656,  0.00116325,  0.02272798, -0.01370389,\n",
       "         0.01487025,  0.00204682, -0.00018618, -0.0032585 , -0.00509635,\n",
       "        -0.00828261,  0.00440217, -0.00695073,  0.00689864,  0.00208603,\n",
       "         0.01149466, -0.012302  , -0.00130026, -0.00402368,  0.00037299,\n",
       "        -0.00702857,  0.00050654,  0.00406604,  0.01627924,  0.00156163,\n",
       "        -0.00060795,  0.03074044, -0.00851901,  0.01108615, -0.01752133,\n",
       "         0.01654533, -0.03222105,  0.01194486, -0.00587823, -0.02202146,\n",
       "        -0.00021719,  0.01019189,  0.01941377, -0.0003774 , -0.01424251,\n",
       "        -0.01926081,  0.00084376, -0.01693742, -0.00150464, -0.00831177,\n",
       "        -0.03129398,  0.01220438, -0.01574803, -0.01593511, -0.0088499 ,\n",
       "         0.03032324,  0.00798321, -0.00517444,  0.02660541, -0.00733474,\n",
       "         0.02132154, -0.01550486, -0.0105623 ,  0.00052506,  0.04449499,\n",
       "         0.0189954 , -0.00336749,  0.00025124,  0.03894971]],\n",
       "      dtype=float32)>"
      ]
     },
     "execution_count": 50,
     "metadata": {},
     "output_type": "execute_result"
    }
   ],
   "source": [
    "customer_model(tf.constant([all_train_customers[0]]))"
   ]
  },
  {
   "cell_type": "code",
   "execution_count": 51,
   "id": "701d938b",
   "metadata": {
    "ExecuteTime": {
     "end_time": "2022-07-30T15:29:22.995507Z",
     "start_time": "2022-07-30T15:29:22.964804Z"
    }
   },
   "outputs": [
    {
     "data": {
      "text/plain": [
       "<tf.Tensor: shape=(1, 64), dtype=float32, numpy=\n",
       "array([[-0.01539883, -0.00512623,  0.01163026,  0.01594151, -0.00320897,\n",
       "         0.00022982,  0.00490301, -0.01470087,  0.00319173, -0.00012435,\n",
       "         0.01229922,  0.01882054, -0.00958228, -0.01832684,  0.003985  ,\n",
       "         0.00566011, -0.01244579, -0.00602639, -0.00443584,  0.01349682,\n",
       "        -0.00416035, -0.01525928,  0.01253911, -0.00848813,  0.00661951,\n",
       "        -0.0093028 , -0.00566288,  0.01653449, -0.02358476, -0.00634257,\n",
       "         0.01085565, -0.01505036,  0.01797305, -0.01877346,  0.00820072,\n",
       "        -0.01826585,  0.00133742, -0.01861474,  0.00844481, -0.00430371,\n",
       "        -0.00713054,  0.00698882, -0.0342593 , -0.00595086,  0.00035011,\n",
       "         0.00981082,  0.00527436, -0.00881314, -0.00442366,  0.01007136,\n",
       "         0.00676754, -0.01001105,  0.008569  ,  0.00223254,  0.01426498,\n",
       "        -0.01068327, -0.00925781, -0.00206809,  0.01065513,  0.02859727,\n",
       "        -0.00523481, -0.02369767, -0.00439469,  0.02442637]],\n",
       "      dtype=float32)>"
      ]
     },
     "execution_count": 51,
     "metadata": {},
     "output_type": "execute_result"
    }
   ],
   "source": [
    "customer_model(tf.constant([all_train_customers[1]]))"
   ]
  },
  {
   "cell_type": "code",
   "execution_count": null,
   "id": "e11916cf",
   "metadata": {},
   "outputs": [],
   "source": []
  }
 ],
 "metadata": {
  "kernelspec": {
   "display_name": "Python 3 (ipykernel)",
   "language": "python",
   "name": "python3"
  },
  "language_info": {
   "codemirror_mode": {
    "name": "ipython",
    "version": 3
   },
   "file_extension": ".py",
   "mimetype": "text/x-python",
   "name": "python",
   "nbconvert_exporter": "python",
   "pygments_lexer": "ipython3",
   "version": "3.8.13"
  }
 },
 "nbformat": 4,
 "nbformat_minor": 5
}
