{
 "cells": [
  {
   "cell_type": "markdown",
   "id": "bc0b1945",
   "metadata": {},
   "source": [
    "# Nearest neighbour search"
   ]
  },
  {
   "cell_type": "markdown",
   "id": "bf7ccc99",
   "metadata": {},
   "source": [
    "## Setting up"
   ]
  },
  {
   "cell_type": "code",
   "execution_count": 15,
   "id": "4f0ea1b8",
   "metadata": {
    "ExecuteTime": {
     "end_time": "2022-07-30T10:50:54.204800Z",
     "start_time": "2022-07-30T10:50:53.815521Z"
    }
   },
   "outputs": [],
   "source": [
    "import numpy as np\n",
    "from scipy.spatial import distance"
   ]
  },
  {
   "cell_type": "code",
   "execution_count": 2,
   "id": "bf873afe",
   "metadata": {
    "ExecuteTime": {
     "end_time": "2022-07-30T10:41:19.646745Z",
     "start_time": "2022-07-30T10:41:19.639428Z"
    }
   },
   "outputs": [],
   "source": [
    "np.random.seed(42)"
   ]
  },
  {
   "cell_type": "code",
   "execution_count": 4,
   "id": "8923b0d3",
   "metadata": {
    "ExecuteTime": {
     "end_time": "2022-07-30T10:42:04.360230Z",
     "start_time": "2022-07-30T10:42:03.109380Z"
    }
   },
   "outputs": [],
   "source": [
    "vector_dimension = 64\n",
    "num_vectors = 1000000\n",
    "\n",
    "all_vectors = np.random.random((num_vectors, vector_dimension)).astype('float32'"
   ]
  },
  {
   "cell_type": "code",
   "execution_count": 65,
   "id": "85171aea",
   "metadata": {
    "ExecuteTime": {
     "end_time": "2022-07-30T11:11:41.587631Z",
     "start_time": "2022-07-30T11:11:41.580748Z"
    }
   },
   "outputs": [],
   "source": [
    "query_vector = all_vectors[2:3]\n",
    "num_neighbours = 4"
   ]
  },
  {
   "cell_type": "markdown",
   "id": "96e0c836",
   "metadata": {},
   "source": [
    "## Exact search"
   ]
  },
  {
   "cell_type": "code",
   "execution_count": 71,
   "id": "f252ac60",
   "metadata": {
    "ExecuteTime": {
     "end_time": "2022-07-30T11:14:29.071536Z",
     "start_time": "2022-07-30T11:14:29.058442Z"
    }
   },
   "outputs": [],
   "source": [
    "def get_exact_nearest_neighbours(\n",
    "    query_vector,\n",
    "    num_neighbours,    \n",
    "    all_vectors=all_vectors,\n",
    "    distance_fn=distance.euclidean,\n",
    "):\n",
    "    distances = [distance_fn(query_vector, vector) for vector in all_vectors]\n",
    "        \n",
    "    sorted_indices = np.argsort(distances)\n",
    "    \n",
    "    nearest_indices = sorted_indices[:num_neighbours]\n",
    "    nearest_distances = np.array(distances)[sorted_indices]\n",
    "    \n",
    "    return nearest_distances, nearest_indices"
   ]
  },
  {
   "cell_type": "code",
   "execution_count": 72,
   "id": "c13122f7",
   "metadata": {
    "ExecuteTime": {
     "end_time": "2022-07-30T11:14:50.727519Z",
     "start_time": "2022-07-30T11:14:31.510576Z"
    }
   },
   "outputs": [
    {
     "name": "stdout",
     "output_type": "stream",
     "text": [
      "CPU times: user 19.1 s, sys: 80 ms, total: 19.2 s\n",
      "Wall time: 19.2 s\n"
     ]
    }
   ],
   "source": [
    "%%time\n",
    "d, i = get_exact_nearest_neighbours(\n",
    "    query_vector,\n",
    "    num_neighbours\n",
    ")"
   ]
  }
 ],
 "metadata": {
  "kernelspec": {
   "display_name": "Python 3 (ipykernel)",
   "language": "python",
   "name": "python3"
  },
  "language_info": {
   "codemirror_mode": {
    "name": "ipython",
    "version": 3
   },
   "file_extension": ".py",
   "mimetype": "text/x-python",
   "name": "python",
   "nbconvert_exporter": "python",
   "pygments_lexer": "ipython3",
   "version": "3.8.13"
  }
 },
 "nbformat": 4,
 "nbformat_minor": 5
}
