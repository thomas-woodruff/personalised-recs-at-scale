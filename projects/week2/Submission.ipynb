{
 "cells": [
  {
   "cell_type": "markdown",
   "id": "957ad3e6",
   "metadata": {
    "heading_collapsed": true
   },
   "source": [
    "# Multi-task models"
   ]
  },
  {
   "cell_type": "markdown",
   "id": "fd6389ea",
   "metadata": {
    "heading_collapsed": true,
    "hidden": true
   },
   "source": [
    "## Setting up"
   ]
  },
  {
   "cell_type": "code",
   "execution_count": 1,
   "id": "0ef5b434",
   "metadata": {
    "ExecuteTime": {
     "end_time": "2022-07-29T14:08:02.833394Z",
     "start_time": "2022-07-29T14:08:02.807859Z"
    },
    "hidden": true
   },
   "outputs": [],
   "source": [
    "import os\n",
    "os.environ['TF_CPP_MIN_LOG_LEVEL'] = '2' "
   ]
  },
  {
   "cell_type": "code",
   "execution_count": 2,
   "id": "50d14cb5",
   "metadata": {
    "ExecuteTime": {
     "end_time": "2022-07-29T14:08:08.651643Z",
     "start_time": "2022-07-29T14:08:02.845385Z"
    },
    "hidden": true
   },
   "outputs": [],
   "source": [
    "import pandas as pd\n",
    "import numpy as np\n",
    "import tensorflow as tf\n",
    "import tensorflow_recommenders as tfrs\n",
    "import numpy as np\n",
    "import pandas as pd\n",
    "import seaborn as sns\n",
    "from matplotlib import pyplot as plt\n",
    "from tqdm.notebook import tqdm\n",
    "from pathlib import Path\n",
    "from typing import Dict, Text\n",
    "from functools import reduce\n",
    "import os\n",
    "import pprint\n",
    "import tempfile\n",
    "from typing import Dict, Text\n",
    "import numpy as np\n",
    "import tensorflow as tf\n",
    "import tensorflow_recommenders as tfrs\n",
    "from tensorflow import feature_column\n",
    "import random\n",
    "import psutil \n",
    "import gc"
   ]
  },
  {
   "cell_type": "code",
   "execution_count": 3,
   "id": "bb93f27b",
   "metadata": {
    "ExecuteTime": {
     "end_time": "2022-07-29T14:08:08.664013Z",
     "start_time": "2022-07-29T14:08:08.657114Z"
    },
    "hidden": true
   },
   "outputs": [],
   "source": [
    "pd.set_option('display.max_columns', None)\n",
    "pd.set_option('display.max_rows', None)"
   ]
  },
  {
   "cell_type": "markdown",
   "id": "6ae24229",
   "metadata": {
    "heading_collapsed": true,
    "hidden": true
   },
   "source": [
    "## Getting data"
   ]
  },
  {
   "cell_type": "markdown",
   "id": "8e22108d",
   "metadata": {
    "heading_collapsed": true,
    "hidden": true
   },
   "source": [
    "### Inspecting data"
   ]
  },
  {
   "cell_type": "code",
   "execution_count": 4,
   "id": "2387006d",
   "metadata": {
    "ExecuteTime": {
     "end_time": "2022-07-29T14:08:08.748902Z",
     "start_time": "2022-07-29T14:08:08.670908Z"
    },
    "hidden": true
   },
   "outputs": [
    {
     "data": {
      "text/html": [
       "<div>\n",
       "<style scoped>\n",
       "    .dataframe tbody tr th:only-of-type {\n",
       "        vertical-align: middle;\n",
       "    }\n",
       "\n",
       "    .dataframe tbody tr th {\n",
       "        vertical-align: top;\n",
       "    }\n",
       "\n",
       "    .dataframe thead th {\n",
       "        text-align: right;\n",
       "    }\n",
       "</style>\n",
       "<table border=\"1\" class=\"dataframe\">\n",
       "  <thead>\n",
       "    <tr style=\"text-align: right;\">\n",
       "      <th></th>\n",
       "      <th>article_id</th>\n",
       "      <th>product_code</th>\n",
       "      <th>prod_name</th>\n",
       "      <th>product_type_no</th>\n",
       "      <th>product_type_name</th>\n",
       "      <th>product_group_name</th>\n",
       "      <th>graphical_appearance_no</th>\n",
       "      <th>graphical_appearance_name</th>\n",
       "      <th>colour_group_code</th>\n",
       "      <th>colour_group_name</th>\n",
       "      <th>perceived_colour_value_id</th>\n",
       "      <th>perceived_colour_value_name</th>\n",
       "      <th>perceived_colour_master_id</th>\n",
       "      <th>perceived_colour_master_name</th>\n",
       "      <th>department_no</th>\n",
       "      <th>department_name</th>\n",
       "      <th>index_code</th>\n",
       "      <th>index_name</th>\n",
       "      <th>index_group_no</th>\n",
       "      <th>index_group_name</th>\n",
       "      <th>section_no</th>\n",
       "      <th>section_name</th>\n",
       "      <th>garment_group_no</th>\n",
       "      <th>garment_group_name</th>\n",
       "      <th>detail_desc</th>\n",
       "    </tr>\n",
       "  </thead>\n",
       "  <tbody>\n",
       "    <tr>\n",
       "      <th>0</th>\n",
       "      <td>108775015</td>\n",
       "      <td>108775</td>\n",
       "      <td>Strap top</td>\n",
       "      <td>253</td>\n",
       "      <td>Vest top</td>\n",
       "      <td>Garment Upper body</td>\n",
       "      <td>1010016</td>\n",
       "      <td>Solid</td>\n",
       "      <td>9</td>\n",
       "      <td>Black</td>\n",
       "      <td>4</td>\n",
       "      <td>Dark</td>\n",
       "      <td>5</td>\n",
       "      <td>Black</td>\n",
       "      <td>1676</td>\n",
       "      <td>Jersey Basic</td>\n",
       "      <td>A</td>\n",
       "      <td>Ladieswear</td>\n",
       "      <td>1</td>\n",
       "      <td>Ladieswear</td>\n",
       "      <td>16</td>\n",
       "      <td>Womens Everyday Basics</td>\n",
       "      <td>1002</td>\n",
       "      <td>Jersey Basic</td>\n",
       "      <td>Jersey top with narrow shoulder straps.</td>\n",
       "    </tr>\n",
       "    <tr>\n",
       "      <th>1</th>\n",
       "      <td>108775044</td>\n",
       "      <td>108775</td>\n",
       "      <td>Strap top</td>\n",
       "      <td>253</td>\n",
       "      <td>Vest top</td>\n",
       "      <td>Garment Upper body</td>\n",
       "      <td>1010016</td>\n",
       "      <td>Solid</td>\n",
       "      <td>10</td>\n",
       "      <td>White</td>\n",
       "      <td>3</td>\n",
       "      <td>Light</td>\n",
       "      <td>9</td>\n",
       "      <td>White</td>\n",
       "      <td>1676</td>\n",
       "      <td>Jersey Basic</td>\n",
       "      <td>A</td>\n",
       "      <td>Ladieswear</td>\n",
       "      <td>1</td>\n",
       "      <td>Ladieswear</td>\n",
       "      <td>16</td>\n",
       "      <td>Womens Everyday Basics</td>\n",
       "      <td>1002</td>\n",
       "      <td>Jersey Basic</td>\n",
       "      <td>Jersey top with narrow shoulder straps.</td>\n",
       "    </tr>\n",
       "    <tr>\n",
       "      <th>2</th>\n",
       "      <td>108775051</td>\n",
       "      <td>108775</td>\n",
       "      <td>Strap top (1)</td>\n",
       "      <td>253</td>\n",
       "      <td>Vest top</td>\n",
       "      <td>Garment Upper body</td>\n",
       "      <td>1010017</td>\n",
       "      <td>Stripe</td>\n",
       "      <td>11</td>\n",
       "      <td>Off White</td>\n",
       "      <td>1</td>\n",
       "      <td>Dusty Light</td>\n",
       "      <td>9</td>\n",
       "      <td>White</td>\n",
       "      <td>1676</td>\n",
       "      <td>Jersey Basic</td>\n",
       "      <td>A</td>\n",
       "      <td>Ladieswear</td>\n",
       "      <td>1</td>\n",
       "      <td>Ladieswear</td>\n",
       "      <td>16</td>\n",
       "      <td>Womens Everyday Basics</td>\n",
       "      <td>1002</td>\n",
       "      <td>Jersey Basic</td>\n",
       "      <td>Jersey top with narrow shoulder straps.</td>\n",
       "    </tr>\n",
       "    <tr>\n",
       "      <th>3</th>\n",
       "      <td>110065001</td>\n",
       "      <td>110065</td>\n",
       "      <td>OP T-shirt (Idro)</td>\n",
       "      <td>306</td>\n",
       "      <td>Bra</td>\n",
       "      <td>Underwear</td>\n",
       "      <td>1010016</td>\n",
       "      <td>Solid</td>\n",
       "      <td>9</td>\n",
       "      <td>Black</td>\n",
       "      <td>4</td>\n",
       "      <td>Dark</td>\n",
       "      <td>5</td>\n",
       "      <td>Black</td>\n",
       "      <td>1339</td>\n",
       "      <td>Clean Lingerie</td>\n",
       "      <td>B</td>\n",
       "      <td>Lingeries/Tights</td>\n",
       "      <td>1</td>\n",
       "      <td>Ladieswear</td>\n",
       "      <td>61</td>\n",
       "      <td>Womens Lingerie</td>\n",
       "      <td>1017</td>\n",
       "      <td>Under-, Nightwear</td>\n",
       "      <td>Microfibre T-shirt bra with underwired, moulde...</td>\n",
       "    </tr>\n",
       "    <tr>\n",
       "      <th>4</th>\n",
       "      <td>110065002</td>\n",
       "      <td>110065</td>\n",
       "      <td>OP T-shirt (Idro)</td>\n",
       "      <td>306</td>\n",
       "      <td>Bra</td>\n",
       "      <td>Underwear</td>\n",
       "      <td>1010016</td>\n",
       "      <td>Solid</td>\n",
       "      <td>10</td>\n",
       "      <td>White</td>\n",
       "      <td>3</td>\n",
       "      <td>Light</td>\n",
       "      <td>9</td>\n",
       "      <td>White</td>\n",
       "      <td>1339</td>\n",
       "      <td>Clean Lingerie</td>\n",
       "      <td>B</td>\n",
       "      <td>Lingeries/Tights</td>\n",
       "      <td>1</td>\n",
       "      <td>Ladieswear</td>\n",
       "      <td>61</td>\n",
       "      <td>Womens Lingerie</td>\n",
       "      <td>1017</td>\n",
       "      <td>Under-, Nightwear</td>\n",
       "      <td>Microfibre T-shirt bra with underwired, moulde...</td>\n",
       "    </tr>\n",
       "  </tbody>\n",
       "</table>\n",
       "</div>"
      ],
      "text/plain": [
       "   article_id  product_code          prod_name  product_type_no  \\\n",
       "0   108775015        108775          Strap top              253   \n",
       "1   108775044        108775          Strap top              253   \n",
       "2   108775051        108775      Strap top (1)              253   \n",
       "3   110065001        110065  OP T-shirt (Idro)              306   \n",
       "4   110065002        110065  OP T-shirt (Idro)              306   \n",
       "\n",
       "  product_type_name  product_group_name  graphical_appearance_no  \\\n",
       "0          Vest top  Garment Upper body                  1010016   \n",
       "1          Vest top  Garment Upper body                  1010016   \n",
       "2          Vest top  Garment Upper body                  1010017   \n",
       "3               Bra           Underwear                  1010016   \n",
       "4               Bra           Underwear                  1010016   \n",
       "\n",
       "  graphical_appearance_name  colour_group_code colour_group_name  \\\n",
       "0                     Solid                  9             Black   \n",
       "1                     Solid                 10             White   \n",
       "2                    Stripe                 11         Off White   \n",
       "3                     Solid                  9             Black   \n",
       "4                     Solid                 10             White   \n",
       "\n",
       "   perceived_colour_value_id perceived_colour_value_name  \\\n",
       "0                          4                        Dark   \n",
       "1                          3                       Light   \n",
       "2                          1                 Dusty Light   \n",
       "3                          4                        Dark   \n",
       "4                          3                       Light   \n",
       "\n",
       "   perceived_colour_master_id perceived_colour_master_name  department_no  \\\n",
       "0                           5                        Black           1676   \n",
       "1                           9                        White           1676   \n",
       "2                           9                        White           1676   \n",
       "3                           5                        Black           1339   \n",
       "4                           9                        White           1339   \n",
       "\n",
       "  department_name index_code        index_name  index_group_no  \\\n",
       "0    Jersey Basic          A        Ladieswear               1   \n",
       "1    Jersey Basic          A        Ladieswear               1   \n",
       "2    Jersey Basic          A        Ladieswear               1   \n",
       "3  Clean Lingerie          B  Lingeries/Tights               1   \n",
       "4  Clean Lingerie          B  Lingeries/Tights               1   \n",
       "\n",
       "  index_group_name  section_no            section_name  garment_group_no  \\\n",
       "0       Ladieswear          16  Womens Everyday Basics              1002   \n",
       "1       Ladieswear          16  Womens Everyday Basics              1002   \n",
       "2       Ladieswear          16  Womens Everyday Basics              1002   \n",
       "3       Ladieswear          61         Womens Lingerie              1017   \n",
       "4       Ladieswear          61         Womens Lingerie              1017   \n",
       "\n",
       "  garment_group_name                                        detail_desc  \n",
       "0       Jersey Basic            Jersey top with narrow shoulder straps.  \n",
       "1       Jersey Basic            Jersey top with narrow shoulder straps.  \n",
       "2       Jersey Basic            Jersey top with narrow shoulder straps.  \n",
       "3  Under-, Nightwear  Microfibre T-shirt bra with underwired, moulde...  \n",
       "4  Under-, Nightwear  Microfibre T-shirt bra with underwired, moulde...  "
      ]
     },
     "execution_count": 4,
     "metadata": {},
     "output_type": "execute_result"
    }
   ],
   "source": [
    "pd.read_csv(\"../data/hmdata/articles.csv.zip\", nrows=5)"
   ]
  },
  {
   "cell_type": "code",
   "execution_count": 5,
   "id": "7889341c",
   "metadata": {
    "ExecuteTime": {
     "end_time": "2022-07-29T14:08:08.792205Z",
     "start_time": "2022-07-29T14:08:08.753390Z"
    },
    "hidden": true
   },
   "outputs": [
    {
     "data": {
      "text/html": [
       "<div>\n",
       "<style scoped>\n",
       "    .dataframe tbody tr th:only-of-type {\n",
       "        vertical-align: middle;\n",
       "    }\n",
       "\n",
       "    .dataframe tbody tr th {\n",
       "        vertical-align: top;\n",
       "    }\n",
       "\n",
       "    .dataframe thead th {\n",
       "        text-align: right;\n",
       "    }\n",
       "</style>\n",
       "<table border=\"1\" class=\"dataframe\">\n",
       "  <thead>\n",
       "    <tr style=\"text-align: right;\">\n",
       "      <th></th>\n",
       "      <th>customer_id</th>\n",
       "      <th>FN</th>\n",
       "      <th>Active</th>\n",
       "      <th>club_member_status</th>\n",
       "      <th>fashion_news_frequency</th>\n",
       "      <th>age</th>\n",
       "      <th>postal_code</th>\n",
       "    </tr>\n",
       "  </thead>\n",
       "  <tbody>\n",
       "    <tr>\n",
       "      <th>0</th>\n",
       "      <td>00000dbacae5abe5e23885899a1fa44253a17956c6d1c3...</td>\n",
       "      <td>NaN</td>\n",
       "      <td>NaN</td>\n",
       "      <td>ACTIVE</td>\n",
       "      <td>NONE</td>\n",
       "      <td>49</td>\n",
       "      <td>52043ee2162cf5aa7ee79974281641c6f11a68d276429a...</td>\n",
       "    </tr>\n",
       "    <tr>\n",
       "      <th>1</th>\n",
       "      <td>0000423b00ade91418cceaf3b26c6af3dd342b51fd051e...</td>\n",
       "      <td>NaN</td>\n",
       "      <td>NaN</td>\n",
       "      <td>ACTIVE</td>\n",
       "      <td>NONE</td>\n",
       "      <td>25</td>\n",
       "      <td>2973abc54daa8a5f8ccfe9362140c63247c5eee03f1d93...</td>\n",
       "    </tr>\n",
       "    <tr>\n",
       "      <th>2</th>\n",
       "      <td>000058a12d5b43e67d225668fa1f8d618c13dc232df0ca...</td>\n",
       "      <td>NaN</td>\n",
       "      <td>NaN</td>\n",
       "      <td>ACTIVE</td>\n",
       "      <td>NONE</td>\n",
       "      <td>24</td>\n",
       "      <td>64f17e6a330a85798e4998f62d0930d14db8db1c054af6...</td>\n",
       "    </tr>\n",
       "    <tr>\n",
       "      <th>3</th>\n",
       "      <td>00005ca1c9ed5f5146b52ac8639a40ca9d57aeff4d1bd2...</td>\n",
       "      <td>NaN</td>\n",
       "      <td>NaN</td>\n",
       "      <td>ACTIVE</td>\n",
       "      <td>NONE</td>\n",
       "      <td>54</td>\n",
       "      <td>5d36574f52495e81f019b680c843c443bd343d5ca5b1c2...</td>\n",
       "    </tr>\n",
       "    <tr>\n",
       "      <th>4</th>\n",
       "      <td>00006413d8573cd20ed7128e53b7b13819fe5cfc2d801f...</td>\n",
       "      <td>1.0</td>\n",
       "      <td>1.0</td>\n",
       "      <td>ACTIVE</td>\n",
       "      <td>Regularly</td>\n",
       "      <td>52</td>\n",
       "      <td>25fa5ddee9aac01b35208d01736e57942317d756b32ddd...</td>\n",
       "    </tr>\n",
       "  </tbody>\n",
       "</table>\n",
       "</div>"
      ],
      "text/plain": [
       "                                         customer_id   FN  Active  \\\n",
       "0  00000dbacae5abe5e23885899a1fa44253a17956c6d1c3...  NaN     NaN   \n",
       "1  0000423b00ade91418cceaf3b26c6af3dd342b51fd051e...  NaN     NaN   \n",
       "2  000058a12d5b43e67d225668fa1f8d618c13dc232df0ca...  NaN     NaN   \n",
       "3  00005ca1c9ed5f5146b52ac8639a40ca9d57aeff4d1bd2...  NaN     NaN   \n",
       "4  00006413d8573cd20ed7128e53b7b13819fe5cfc2d801f...  1.0     1.0   \n",
       "\n",
       "  club_member_status fashion_news_frequency  age  \\\n",
       "0             ACTIVE                   NONE   49   \n",
       "1             ACTIVE                   NONE   25   \n",
       "2             ACTIVE                   NONE   24   \n",
       "3             ACTIVE                   NONE   54   \n",
       "4             ACTIVE              Regularly   52   \n",
       "\n",
       "                                         postal_code  \n",
       "0  52043ee2162cf5aa7ee79974281641c6f11a68d276429a...  \n",
       "1  2973abc54daa8a5f8ccfe9362140c63247c5eee03f1d93...  \n",
       "2  64f17e6a330a85798e4998f62d0930d14db8db1c054af6...  \n",
       "3  5d36574f52495e81f019b680c843c443bd343d5ca5b1c2...  \n",
       "4  25fa5ddee9aac01b35208d01736e57942317d756b32ddd...  "
      ]
     },
     "execution_count": 5,
     "metadata": {},
     "output_type": "execute_result"
    }
   ],
   "source": [
    "pd.read_csv(\"../data/hmdata/customers.csv.zip\", nrows=5)"
   ]
  },
  {
   "cell_type": "code",
   "execution_count": 6,
   "id": "51064816",
   "metadata": {
    "ExecuteTime": {
     "end_time": "2022-07-29T14:08:08.823282Z",
     "start_time": "2022-07-29T14:08:08.796765Z"
    },
    "hidden": true
   },
   "outputs": [
    {
     "data": {
      "text/html": [
       "<div>\n",
       "<style scoped>\n",
       "    .dataframe tbody tr th:only-of-type {\n",
       "        vertical-align: middle;\n",
       "    }\n",
       "\n",
       "    .dataframe tbody tr th {\n",
       "        vertical-align: top;\n",
       "    }\n",
       "\n",
       "    .dataframe thead th {\n",
       "        text-align: right;\n",
       "    }\n",
       "</style>\n",
       "<table border=\"1\" class=\"dataframe\">\n",
       "  <thead>\n",
       "    <tr style=\"text-align: right;\">\n",
       "      <th></th>\n",
       "      <th>t_dat</th>\n",
       "      <th>customer_id</th>\n",
       "      <th>article_id</th>\n",
       "      <th>price</th>\n",
       "      <th>sales_channel_id</th>\n",
       "    </tr>\n",
       "  </thead>\n",
       "  <tbody>\n",
       "    <tr>\n",
       "      <th>0</th>\n",
       "      <td>2018-09-20</td>\n",
       "      <td>000058a12d5b43e67d225668fa1f8d618c13dc232df0ca...</td>\n",
       "      <td>663713001</td>\n",
       "      <td>0.050831</td>\n",
       "      <td>2</td>\n",
       "    </tr>\n",
       "    <tr>\n",
       "      <th>1</th>\n",
       "      <td>2018-09-20</td>\n",
       "      <td>000058a12d5b43e67d225668fa1f8d618c13dc232df0ca...</td>\n",
       "      <td>541518023</td>\n",
       "      <td>0.030492</td>\n",
       "      <td>2</td>\n",
       "    </tr>\n",
       "    <tr>\n",
       "      <th>2</th>\n",
       "      <td>2018-09-20</td>\n",
       "      <td>00007d2de826758b65a93dd24ce629ed66842531df6699...</td>\n",
       "      <td>505221004</td>\n",
       "      <td>0.015237</td>\n",
       "      <td>2</td>\n",
       "    </tr>\n",
       "    <tr>\n",
       "      <th>3</th>\n",
       "      <td>2018-09-20</td>\n",
       "      <td>00007d2de826758b65a93dd24ce629ed66842531df6699...</td>\n",
       "      <td>685687003</td>\n",
       "      <td>0.016932</td>\n",
       "      <td>2</td>\n",
       "    </tr>\n",
       "    <tr>\n",
       "      <th>4</th>\n",
       "      <td>2018-09-20</td>\n",
       "      <td>00007d2de826758b65a93dd24ce629ed66842531df6699...</td>\n",
       "      <td>685687004</td>\n",
       "      <td>0.016932</td>\n",
       "      <td>2</td>\n",
       "    </tr>\n",
       "  </tbody>\n",
       "</table>\n",
       "</div>"
      ],
      "text/plain": [
       "        t_dat                                        customer_id  article_id  \\\n",
       "0  2018-09-20  000058a12d5b43e67d225668fa1f8d618c13dc232df0ca...   663713001   \n",
       "1  2018-09-20  000058a12d5b43e67d225668fa1f8d618c13dc232df0ca...   541518023   \n",
       "2  2018-09-20  00007d2de826758b65a93dd24ce629ed66842531df6699...   505221004   \n",
       "3  2018-09-20  00007d2de826758b65a93dd24ce629ed66842531df6699...   685687003   \n",
       "4  2018-09-20  00007d2de826758b65a93dd24ce629ed66842531df6699...   685687004   \n",
       "\n",
       "      price  sales_channel_id  \n",
       "0  0.050831                 2  \n",
       "1  0.030492                 2  \n",
       "2  0.015237                 2  \n",
       "3  0.016932                 2  \n",
       "4  0.016932                 2  "
      ]
     },
     "execution_count": 6,
     "metadata": {},
     "output_type": "execute_result"
    }
   ],
   "source": [
    "pd.read_csv('../data/hmdata/transactions_train.csv.zip', nrows=5)"
   ]
  },
  {
   "cell_type": "markdown",
   "id": "5d3141c8",
   "metadata": {
    "heading_collapsed": true,
    "hidden": true
   },
   "source": [
    "### Splitting data"
   ]
  },
  {
   "cell_type": "code",
   "execution_count": 7,
   "id": "54c80cd8",
   "metadata": {
    "ExecuteTime": {
     "end_time": "2022-07-29T14:08:08.841656Z",
     "start_time": "2022-07-29T14:08:08.828146Z"
    },
    "hidden": true
   },
   "outputs": [],
   "source": [
    "def get_train_test_dates(all_data_df, train_days=30, test_days=7):\n",
    "    \n",
    "    all_data_df['t_dat'] = pd.to_datetime(all_data_df['t_dat'])\n",
    "    \n",
    "    test_end_date = (all_data_df['t_dat'].max() + pd.Timedelta(days=1))\n",
    "    test_start_date = test_end_date - pd.Timedelta(days=test_days)\n",
    "    train_start_date = test_start_date - pd.Timedelta(days=train_days)\n",
    "    \n",
    "    print('train start date:', train_start_date)\n",
    "    print('test start date:', test_start_date)\n",
    "    print('test end date:', test_end_date)\n",
    "    \n",
    "    return train_start_date, test_start_date, test_end_date"
   ]
  },
  {
   "cell_type": "code",
   "execution_count": 8,
   "id": "4b8700a5",
   "metadata": {
    "ExecuteTime": {
     "end_time": "2022-07-29T14:08:08.860029Z",
     "start_time": "2022-07-29T14:08:08.846974Z"
    },
    "hidden": true
   },
   "outputs": [],
   "source": [
    "def get_df(\n",
    "    start_date,\n",
    "    end_date\n",
    "):\n",
    "    df = all_data_df.loc[\n",
    "        (all_data_df['t_dat'] >= start_date)\n",
    "        & (all_data_df['t_dat'] < end_date),\n",
    "        :\n",
    "    ]\n",
    "    \n",
    "    return df\n",
    "\n",
    "def get_train_df():\n",
    "    train_start_date, test_start_date, test_end_date = get_train_test_dates(all_data_df)\n",
    "    train_df = get_df(train_start_date, test_start_date)\n",
    "    \n",
    "    return train_df\n",
    "\n",
    "def get_test_df():\n",
    "    train_start_date, test_start_date, test_end_date = get_train_test_dates(all_data_df)\n",
    "    test_df = get_df(test_start_date, test_end_date)\n",
    "    \n",
    "    return test_df"
   ]
  },
  {
   "cell_type": "markdown",
   "id": "991e0871",
   "metadata": {
    "heading_collapsed": true,
    "hidden": true
   },
   "source": [
    "### Cleaning data"
   ]
  },
  {
   "cell_type": "code",
   "execution_count": 9,
   "id": "90416658",
   "metadata": {
    "ExecuteTime": {
     "end_time": "2022-07-29T14:08:08.871920Z",
     "start_time": "2022-07-29T14:08:08.863963Z"
    },
    "hidden": true
   },
   "outputs": [],
   "source": [
    "def clean_article_id(\n",
    "    df\n",
    "):\n",
    "    df = df.copy()\n",
    "    df['article_id'] = df['article_id'].astype(str)\n",
    "    # zfill adds zeros (0) at the beginning of the string, until it reaches the specified length\n",
    "    df['article_id'] = df['article_id'].apply(lambda x: x.zfill(10))\n",
    "    \n",
    "    return df"
   ]
  },
  {
   "cell_type": "markdown",
   "id": "d6f30042",
   "metadata": {
    "heading_collapsed": true,
    "hidden": true
   },
   "source": [
    "### Munging data"
   ]
  },
  {
   "cell_type": "code",
   "execution_count": 10,
   "id": "b3a8bd3a",
   "metadata": {
    "ExecuteTime": {
     "end_time": "2022-07-29T14:08:08.886989Z",
     "start_time": "2022-07-29T14:08:08.880733Z"
    },
    "hidden": true
   },
   "outputs": [],
   "source": [
    "def add_article_features(\n",
    "    df\n",
    "):\n",
    "    df = df.join(\n",
    "        article_df.set_index('article_id'),\n",
    "        on='article_id'\n",
    "    )\n",
    "    \n",
    "    return df"
   ]
  },
  {
   "cell_type": "code",
   "execution_count": 11,
   "id": "a46be25f",
   "metadata": {
    "ExecuteTime": {
     "end_time": "2022-07-29T14:08:08.907763Z",
     "start_time": "2022-07-29T14:08:08.891084Z"
    },
    "hidden": true
   },
   "outputs": [],
   "source": [
    "def add_aggregated_customer_features(\n",
    "    df,\n",
    "    use_train_df\n",
    "):\n",
    "    if use_train_df:\n",
    "        feature_df = train_df.copy()\n",
    "    else:\n",
    "        feature_df = df.copy()\n",
    "    \n",
    "    dataframes = [\n",
    "        feature_df.groupby(\"customer_id\", as_index=False).article_id.nunique(), #unique articles\n",
    "        feature_df.groupby(\"customer_id\", as_index=False).t_dat.nunique(), #days active\n",
    "        feature_df.groupby(\"customer_id\", as_index=False).size(), #total purchases\n",
    "        feature_df.groupby(\"customer_id\", as_index=False).price.min(), #min price\n",
    "        feature_df.groupby(\"customer_id\", as_index=False).price.max(), #max price\n",
    "        feature_df.groupby(\"customer_id\", as_index=False).price.mean(), #mean price\n",
    "        feature_df.groupby(\"customer_id\", as_index=False).product_group_name.nunique(), #num unique product groups\n",
    "        feature_df.groupby(\"customer_id\", as_index=False).department_name.nunique(), #num unique department_name\n",
    "        feature_df.groupby(\"customer_id\", as_index=False).section_name.nunique(), #num unique section_name\n",
    "    ]\n",
    "    \n",
    "    agg_df = reduce(lambda left,right: pd.merge(left, right, on=['customer_id'], how='outer'), dataframes)\n",
    "    \n",
    "    agg_df.columns = [\n",
    "        'customer_id',\n",
    "        'nArticles',\n",
    "        'nDays',\n",
    "        'nPurchases',\n",
    "        'minPrice',\n",
    "        'maxPrice',\n",
    "        'meanPrice',\n",
    "        'nPGroups',\n",
    "        'nDept',\n",
    "        'nSect'\n",
    "    ]\n",
    "    \n",
    "    df = df.merge(agg_df, on='customer_id', how='outer')\n",
    "    \n",
    "    return df"
   ]
  },
  {
   "cell_type": "code",
   "execution_count": 12,
   "id": "5f1a39dd",
   "metadata": {
    "ExecuteTime": {
     "end_time": "2022-07-29T14:08:08.919509Z",
     "start_time": "2022-07-29T14:08:08.912155Z"
    },
    "hidden": true
   },
   "outputs": [],
   "source": [
    "def add_features(\n",
    "    df,\n",
    "    use_train_df\n",
    "):\n",
    "    df = add_article_features(df)\n",
    "    df = add_aggregated_customer_features(df, use_train_df)\n",
    "    \n",
    "    return df"
   ]
  },
  {
   "cell_type": "markdown",
   "id": "479271ca",
   "metadata": {
    "heading_collapsed": true,
    "hidden": true
   },
   "source": [
    "### Preparing data"
   ]
  },
  {
   "cell_type": "code",
   "execution_count": 13,
   "id": "03c997d7",
   "metadata": {
    "ExecuteTime": {
     "end_time": "2022-07-29T14:08:09.937606Z",
     "start_time": "2022-07-29T14:08:08.924304Z"
    },
    "hidden": true
   },
   "outputs": [],
   "source": [
    "article_df = pd.read_csv(\"../data/hmdata/articles.csv.zip\")\n",
    "article_df = clean_article_id(article_df)"
   ]
  },
  {
   "cell_type": "code",
   "execution_count": 14,
   "id": "85041fd5",
   "metadata": {
    "ExecuteTime": {
     "end_time": "2022-07-29T14:08:14.857814Z",
     "start_time": "2022-07-29T14:08:09.942033Z"
    },
    "hidden": true
   },
   "outputs": [],
   "source": [
    "customer_df = pd.read_csv(\"../data/hmdata/customers.csv.zip\")"
   ]
  },
  {
   "cell_type": "code",
   "execution_count": 15,
   "id": "6a48a659",
   "metadata": {
    "ExecuteTime": {
     "end_time": "2022-07-29T14:08:57.169226Z",
     "start_time": "2022-07-29T14:08:14.861837Z"
    },
    "hidden": true
   },
   "outputs": [],
   "source": [
    "all_data_df = pd.read_csv('../data/hmdata/transactions_train.csv.zip')"
   ]
  },
  {
   "cell_type": "code",
   "execution_count": 16,
   "id": "6acd74ae",
   "metadata": {
    "ExecuteTime": {
     "end_time": "2022-07-29T14:09:13.221464Z",
     "start_time": "2022-07-29T14:08:57.176642Z"
    },
    "hidden": true
   },
   "outputs": [
    {
     "name": "stdout",
     "output_type": "stream",
     "text": [
      "train start date: 2020-08-17 00:00:00\n",
      "test start date: 2020-09-16 00:00:00\n",
      "test end date: 2020-09-23 00:00:00\n"
     ]
    },
    {
     "data": {
      "text/html": [
       "<div>\n",
       "<style scoped>\n",
       "    .dataframe tbody tr th:only-of-type {\n",
       "        vertical-align: middle;\n",
       "    }\n",
       "\n",
       "    .dataframe tbody tr th {\n",
       "        vertical-align: top;\n",
       "    }\n",
       "\n",
       "    .dataframe thead th {\n",
       "        text-align: right;\n",
       "    }\n",
       "</style>\n",
       "<table border=\"1\" class=\"dataframe\">\n",
       "  <thead>\n",
       "    <tr style=\"text-align: right;\">\n",
       "      <th></th>\n",
       "      <th>t_dat</th>\n",
       "      <th>customer_id</th>\n",
       "      <th>article_id</th>\n",
       "      <th>price</th>\n",
       "      <th>sales_channel_id</th>\n",
       "      <th>product_code</th>\n",
       "      <th>prod_name</th>\n",
       "      <th>product_type_no</th>\n",
       "      <th>product_type_name</th>\n",
       "      <th>product_group_name</th>\n",
       "      <th>graphical_appearance_no</th>\n",
       "      <th>graphical_appearance_name</th>\n",
       "      <th>colour_group_code</th>\n",
       "      <th>colour_group_name</th>\n",
       "      <th>perceived_colour_value_id</th>\n",
       "      <th>perceived_colour_value_name</th>\n",
       "      <th>perceived_colour_master_id</th>\n",
       "      <th>perceived_colour_master_name</th>\n",
       "      <th>department_no</th>\n",
       "      <th>department_name</th>\n",
       "      <th>index_code</th>\n",
       "      <th>index_name</th>\n",
       "      <th>index_group_no</th>\n",
       "      <th>index_group_name</th>\n",
       "      <th>section_no</th>\n",
       "      <th>section_name</th>\n",
       "      <th>garment_group_no</th>\n",
       "      <th>garment_group_name</th>\n",
       "      <th>detail_desc</th>\n",
       "      <th>nArticles</th>\n",
       "      <th>nDays</th>\n",
       "      <th>nPurchases</th>\n",
       "      <th>minPrice</th>\n",
       "      <th>maxPrice</th>\n",
       "      <th>meanPrice</th>\n",
       "      <th>nPGroups</th>\n",
       "      <th>nDept</th>\n",
       "      <th>nSect</th>\n",
       "    </tr>\n",
       "  </thead>\n",
       "  <tbody>\n",
       "    <tr>\n",
       "      <th>0</th>\n",
       "      <td>2020-08-17</td>\n",
       "      <td>00009d946eec3ea54add5ba56d5210ea898def4b46c685...</td>\n",
       "      <td>0903326005</td>\n",
       "      <td>0.025407</td>\n",
       "      <td>2</td>\n",
       "      <td>903326</td>\n",
       "      <td>Bert Relaxed Printed Tee</td>\n",
       "      <td>255</td>\n",
       "      <td>T-shirt</td>\n",
       "      <td>Garment Upper body</td>\n",
       "      <td>1010014</td>\n",
       "      <td>Placement print</td>\n",
       "      <td>12</td>\n",
       "      <td>Light Beige</td>\n",
       "      <td>1</td>\n",
       "      <td>Dusty Light</td>\n",
       "      <td>11</td>\n",
       "      <td>Beige</td>\n",
       "      <td>5882</td>\n",
       "      <td>Jersey Fancy</td>\n",
       "      <td>F</td>\n",
       "      <td>Menswear</td>\n",
       "      <td>3</td>\n",
       "      <td>Menswear</td>\n",
       "      <td>55</td>\n",
       "      <td>Contemporary Street</td>\n",
       "      <td>1005</td>\n",
       "      <td>Jersey Fancy</td>\n",
       "      <td>Round-necked T-shirt in heavy cotton jersey wi...</td>\n",
       "      <td>14</td>\n",
       "      <td>2</td>\n",
       "      <td>22</td>\n",
       "      <td>0.013542</td>\n",
       "      <td>0.050831</td>\n",
       "      <td>0.032341</td>\n",
       "      <td>3</td>\n",
       "      <td>8</td>\n",
       "      <td>9</td>\n",
       "    </tr>\n",
       "    <tr>\n",
       "      <th>1</th>\n",
       "      <td>2020-08-17</td>\n",
       "      <td>00009d946eec3ea54add5ba56d5210ea898def4b46c685...</td>\n",
       "      <td>0903326005</td>\n",
       "      <td>0.025407</td>\n",
       "      <td>2</td>\n",
       "      <td>903326</td>\n",
       "      <td>Bert Relaxed Printed Tee</td>\n",
       "      <td>255</td>\n",
       "      <td>T-shirt</td>\n",
       "      <td>Garment Upper body</td>\n",
       "      <td>1010014</td>\n",
       "      <td>Placement print</td>\n",
       "      <td>12</td>\n",
       "      <td>Light Beige</td>\n",
       "      <td>1</td>\n",
       "      <td>Dusty Light</td>\n",
       "      <td>11</td>\n",
       "      <td>Beige</td>\n",
       "      <td>5882</td>\n",
       "      <td>Jersey Fancy</td>\n",
       "      <td>F</td>\n",
       "      <td>Menswear</td>\n",
       "      <td>3</td>\n",
       "      <td>Menswear</td>\n",
       "      <td>55</td>\n",
       "      <td>Contemporary Street</td>\n",
       "      <td>1005</td>\n",
       "      <td>Jersey Fancy</td>\n",
       "      <td>Round-necked T-shirt in heavy cotton jersey wi...</td>\n",
       "      <td>14</td>\n",
       "      <td>2</td>\n",
       "      <td>22</td>\n",
       "      <td>0.013542</td>\n",
       "      <td>0.050831</td>\n",
       "      <td>0.032341</td>\n",
       "      <td>3</td>\n",
       "      <td>8</td>\n",
       "      <td>9</td>\n",
       "    </tr>\n",
       "    <tr>\n",
       "      <th>2</th>\n",
       "      <td>2020-08-17</td>\n",
       "      <td>00009d946eec3ea54add5ba56d5210ea898def4b46c685...</td>\n",
       "      <td>0904736002</td>\n",
       "      <td>0.033881</td>\n",
       "      <td>2</td>\n",
       "      <td>904736</td>\n",
       "      <td>Swirl hip belt</td>\n",
       "      <td>67</td>\n",
       "      <td>Belt</td>\n",
       "      <td>Accessories</td>\n",
       "      <td>1010016</td>\n",
       "      <td>Solid</td>\n",
       "      <td>9</td>\n",
       "      <td>Black</td>\n",
       "      <td>4</td>\n",
       "      <td>Dark</td>\n",
       "      <td>5</td>\n",
       "      <td>Black</td>\n",
       "      <td>3509</td>\n",
       "      <td>Belts</td>\n",
       "      <td>C</td>\n",
       "      <td>Ladies Accessories</td>\n",
       "      <td>1</td>\n",
       "      <td>Ladieswear</td>\n",
       "      <td>65</td>\n",
       "      <td>Womens Big accessories</td>\n",
       "      <td>1019</td>\n",
       "      <td>Accessories</td>\n",
       "      <td>Wide belt with a round metal buckle.</td>\n",
       "      <td>14</td>\n",
       "      <td>2</td>\n",
       "      <td>22</td>\n",
       "      <td>0.013542</td>\n",
       "      <td>0.050831</td>\n",
       "      <td>0.032341</td>\n",
       "      <td>3</td>\n",
       "      <td>8</td>\n",
       "      <td>9</td>\n",
       "    </tr>\n",
       "    <tr>\n",
       "      <th>3</th>\n",
       "      <td>2020-08-17</td>\n",
       "      <td>00009d946eec3ea54add5ba56d5210ea898def4b46c685...</td>\n",
       "      <td>0904736002</td>\n",
       "      <td>0.033881</td>\n",
       "      <td>2</td>\n",
       "      <td>904736</td>\n",
       "      <td>Swirl hip belt</td>\n",
       "      <td>67</td>\n",
       "      <td>Belt</td>\n",
       "      <td>Accessories</td>\n",
       "      <td>1010016</td>\n",
       "      <td>Solid</td>\n",
       "      <td>9</td>\n",
       "      <td>Black</td>\n",
       "      <td>4</td>\n",
       "      <td>Dark</td>\n",
       "      <td>5</td>\n",
       "      <td>Black</td>\n",
       "      <td>3509</td>\n",
       "      <td>Belts</td>\n",
       "      <td>C</td>\n",
       "      <td>Ladies Accessories</td>\n",
       "      <td>1</td>\n",
       "      <td>Ladieswear</td>\n",
       "      <td>65</td>\n",
       "      <td>Womens Big accessories</td>\n",
       "      <td>1019</td>\n",
       "      <td>Accessories</td>\n",
       "      <td>Wide belt with a round metal buckle.</td>\n",
       "      <td>14</td>\n",
       "      <td>2</td>\n",
       "      <td>22</td>\n",
       "      <td>0.013542</td>\n",
       "      <td>0.050831</td>\n",
       "      <td>0.032341</td>\n",
       "      <td>3</td>\n",
       "      <td>8</td>\n",
       "      <td>9</td>\n",
       "    </tr>\n",
       "    <tr>\n",
       "      <th>4</th>\n",
       "      <td>2020-08-17</td>\n",
       "      <td>00009d946eec3ea54add5ba56d5210ea898def4b46c685...</td>\n",
       "      <td>0903428001</td>\n",
       "      <td>0.025407</td>\n",
       "      <td>2</td>\n",
       "      <td>903428</td>\n",
       "      <td>Lazer LS Tee</td>\n",
       "      <td>255</td>\n",
       "      <td>T-shirt</td>\n",
       "      <td>Garment Upper body</td>\n",
       "      <td>1010014</td>\n",
       "      <td>Placement print</td>\n",
       "      <td>9</td>\n",
       "      <td>Black</td>\n",
       "      <td>4</td>\n",
       "      <td>Dark</td>\n",
       "      <td>5</td>\n",
       "      <td>Black</td>\n",
       "      <td>5882</td>\n",
       "      <td>Jersey Fancy</td>\n",
       "      <td>F</td>\n",
       "      <td>Menswear</td>\n",
       "      <td>3</td>\n",
       "      <td>Menswear</td>\n",
       "      <td>55</td>\n",
       "      <td>Contemporary Street</td>\n",
       "      <td>1005</td>\n",
       "      <td>Jersey Fancy</td>\n",
       "      <td>Straight-style, long-sleeved top in soft cotto...</td>\n",
       "      <td>14</td>\n",
       "      <td>2</td>\n",
       "      <td>22</td>\n",
       "      <td>0.013542</td>\n",
       "      <td>0.050831</td>\n",
       "      <td>0.032341</td>\n",
       "      <td>3</td>\n",
       "      <td>8</td>\n",
       "      <td>9</td>\n",
       "    </tr>\n",
       "  </tbody>\n",
       "</table>\n",
       "</div>"
      ],
      "text/plain": [
       "       t_dat                                        customer_id  article_id  \\\n",
       "0 2020-08-17  00009d946eec3ea54add5ba56d5210ea898def4b46c685...  0903326005   \n",
       "1 2020-08-17  00009d946eec3ea54add5ba56d5210ea898def4b46c685...  0903326005   \n",
       "2 2020-08-17  00009d946eec3ea54add5ba56d5210ea898def4b46c685...  0904736002   \n",
       "3 2020-08-17  00009d946eec3ea54add5ba56d5210ea898def4b46c685...  0904736002   \n",
       "4 2020-08-17  00009d946eec3ea54add5ba56d5210ea898def4b46c685...  0903428001   \n",
       "\n",
       "      price  sales_channel_id  product_code                 prod_name  \\\n",
       "0  0.025407                 2        903326  Bert Relaxed Printed Tee   \n",
       "1  0.025407                 2        903326  Bert Relaxed Printed Tee   \n",
       "2  0.033881                 2        904736            Swirl hip belt   \n",
       "3  0.033881                 2        904736            Swirl hip belt   \n",
       "4  0.025407                 2        903428              Lazer LS Tee   \n",
       "\n",
       "   product_type_no product_type_name  product_group_name  \\\n",
       "0              255           T-shirt  Garment Upper body   \n",
       "1              255           T-shirt  Garment Upper body   \n",
       "2               67              Belt         Accessories   \n",
       "3               67              Belt         Accessories   \n",
       "4              255           T-shirt  Garment Upper body   \n",
       "\n",
       "   graphical_appearance_no graphical_appearance_name  colour_group_code  \\\n",
       "0                  1010014           Placement print                 12   \n",
       "1                  1010014           Placement print                 12   \n",
       "2                  1010016                     Solid                  9   \n",
       "3                  1010016                     Solid                  9   \n",
       "4                  1010014           Placement print                  9   \n",
       "\n",
       "  colour_group_name  perceived_colour_value_id perceived_colour_value_name  \\\n",
       "0       Light Beige                          1                 Dusty Light   \n",
       "1       Light Beige                          1                 Dusty Light   \n",
       "2             Black                          4                        Dark   \n",
       "3             Black                          4                        Dark   \n",
       "4             Black                          4                        Dark   \n",
       "\n",
       "   perceived_colour_master_id perceived_colour_master_name  department_no  \\\n",
       "0                          11                        Beige           5882   \n",
       "1                          11                        Beige           5882   \n",
       "2                           5                        Black           3509   \n",
       "3                           5                        Black           3509   \n",
       "4                           5                        Black           5882   \n",
       "\n",
       "  department_name index_code          index_name  index_group_no  \\\n",
       "0    Jersey Fancy          F            Menswear               3   \n",
       "1    Jersey Fancy          F            Menswear               3   \n",
       "2           Belts          C  Ladies Accessories               1   \n",
       "3           Belts          C  Ladies Accessories               1   \n",
       "4    Jersey Fancy          F            Menswear               3   \n",
       "\n",
       "  index_group_name  section_no            section_name  garment_group_no  \\\n",
       "0         Menswear          55     Contemporary Street              1005   \n",
       "1         Menswear          55     Contemporary Street              1005   \n",
       "2       Ladieswear          65  Womens Big accessories              1019   \n",
       "3       Ladieswear          65  Womens Big accessories              1019   \n",
       "4         Menswear          55     Contemporary Street              1005   \n",
       "\n",
       "  garment_group_name                                        detail_desc  \\\n",
       "0       Jersey Fancy  Round-necked T-shirt in heavy cotton jersey wi...   \n",
       "1       Jersey Fancy  Round-necked T-shirt in heavy cotton jersey wi...   \n",
       "2        Accessories               Wide belt with a round metal buckle.   \n",
       "3        Accessories               Wide belt with a round metal buckle.   \n",
       "4       Jersey Fancy  Straight-style, long-sleeved top in soft cotto...   \n",
       "\n",
       "   nArticles  nDays  nPurchases  minPrice  maxPrice  meanPrice  nPGroups  \\\n",
       "0         14      2          22  0.013542  0.050831   0.032341         3   \n",
       "1         14      2          22  0.013542  0.050831   0.032341         3   \n",
       "2         14      2          22  0.013542  0.050831   0.032341         3   \n",
       "3         14      2          22  0.013542  0.050831   0.032341         3   \n",
       "4         14      2          22  0.013542  0.050831   0.032341         3   \n",
       "\n",
       "   nDept  nSect  \n",
       "0      8      9  \n",
       "1      8      9  \n",
       "2      8      9  \n",
       "3      8      9  \n",
       "4      8      9  "
      ]
     },
     "execution_count": 16,
     "metadata": {},
     "output_type": "execute_result"
    }
   ],
   "source": [
    "train_df = get_train_df()\n",
    "train_df = clean_article_id(train_df)\n",
    "train_df = add_features(train_df, use_train_df=False)\n",
    "\n",
    "train_df.head()"
   ]
  },
  {
   "cell_type": "code",
   "execution_count": 17,
   "id": "4b03a11e",
   "metadata": {
    "ExecuteTime": {
     "end_time": "2022-07-29T14:09:23.827918Z",
     "start_time": "2022-07-29T14:09:13.225968Z"
    },
    "hidden": true
   },
   "outputs": [
    {
     "name": "stdout",
     "output_type": "stream",
     "text": [
      "train start date: 2020-08-17 00:00:00\n",
      "test start date: 2020-09-16 00:00:00\n",
      "test end date: 2020-09-23 00:00:00\n"
     ]
    },
    {
     "data": {
      "text/html": [
       "<div>\n",
       "<style scoped>\n",
       "    .dataframe tbody tr th:only-of-type {\n",
       "        vertical-align: middle;\n",
       "    }\n",
       "\n",
       "    .dataframe tbody tr th {\n",
       "        vertical-align: top;\n",
       "    }\n",
       "\n",
       "    .dataframe thead th {\n",
       "        text-align: right;\n",
       "    }\n",
       "</style>\n",
       "<table border=\"1\" class=\"dataframe\">\n",
       "  <thead>\n",
       "    <tr style=\"text-align: right;\">\n",
       "      <th></th>\n",
       "      <th>t_dat</th>\n",
       "      <th>customer_id</th>\n",
       "      <th>article_id</th>\n",
       "      <th>price</th>\n",
       "      <th>sales_channel_id</th>\n",
       "      <th>product_code</th>\n",
       "      <th>prod_name</th>\n",
       "      <th>product_type_no</th>\n",
       "      <th>product_type_name</th>\n",
       "      <th>product_group_name</th>\n",
       "      <th>graphical_appearance_no</th>\n",
       "      <th>graphical_appearance_name</th>\n",
       "      <th>colour_group_code</th>\n",
       "      <th>colour_group_name</th>\n",
       "      <th>perceived_colour_value_id</th>\n",
       "      <th>perceived_colour_value_name</th>\n",
       "      <th>perceived_colour_master_id</th>\n",
       "      <th>perceived_colour_master_name</th>\n",
       "      <th>department_no</th>\n",
       "      <th>department_name</th>\n",
       "      <th>index_code</th>\n",
       "      <th>index_name</th>\n",
       "      <th>index_group_no</th>\n",
       "      <th>index_group_name</th>\n",
       "      <th>section_no</th>\n",
       "      <th>section_name</th>\n",
       "      <th>garment_group_no</th>\n",
       "      <th>garment_group_name</th>\n",
       "      <th>detail_desc</th>\n",
       "      <th>nArticles</th>\n",
       "      <th>nDays</th>\n",
       "      <th>nPurchases</th>\n",
       "      <th>minPrice</th>\n",
       "      <th>maxPrice</th>\n",
       "      <th>meanPrice</th>\n",
       "      <th>nPGroups</th>\n",
       "      <th>nDept</th>\n",
       "      <th>nSect</th>\n",
       "    </tr>\n",
       "  </thead>\n",
       "  <tbody>\n",
       "    <tr>\n",
       "      <th>0</th>\n",
       "      <td>2020-09-16</td>\n",
       "      <td>000fb6e772c5d0023892065e659963da90b1866035558e...</td>\n",
       "      <td>0786022008</td>\n",
       "      <td>0.048441</td>\n",
       "      <td>2.0</td>\n",
       "      <td>786022.0</td>\n",
       "      <td>Vivaldi dress</td>\n",
       "      <td>265.0</td>\n",
       "      <td>Dress</td>\n",
       "      <td>Garment Full body</td>\n",
       "      <td>1010016.0</td>\n",
       "      <td>Solid</td>\n",
       "      <td>43.0</td>\n",
       "      <td>Dark Red</td>\n",
       "      <td>4.0</td>\n",
       "      <td>Dark</td>\n",
       "      <td>18.0</td>\n",
       "      <td>Red</td>\n",
       "      <td>1313.0</td>\n",
       "      <td>Dress</td>\n",
       "      <td>A</td>\n",
       "      <td>Ladieswear</td>\n",
       "      <td>1.0</td>\n",
       "      <td>Ladieswear</td>\n",
       "      <td>11.0</td>\n",
       "      <td>Womens Tailoring</td>\n",
       "      <td>1013.0</td>\n",
       "      <td>Dresses Ladies</td>\n",
       "      <td>Knee-length dress in a patterned crêpe weave w...</td>\n",
       "      <td>13.0</td>\n",
       "      <td>5.0</td>\n",
       "      <td>15.0</td>\n",
       "      <td>0.016271</td>\n",
       "      <td>0.098136</td>\n",
       "      <td>0.044877</td>\n",
       "      <td>4.0</td>\n",
       "      <td>9.0</td>\n",
       "      <td>7.0</td>\n",
       "    </tr>\n",
       "    <tr>\n",
       "      <th>1</th>\n",
       "      <td>2020-09-16</td>\n",
       "      <td>000fb6e772c5d0023892065e659963da90b1866035558e...</td>\n",
       "      <td>0913272003</td>\n",
       "      <td>0.032288</td>\n",
       "      <td>2.0</td>\n",
       "      <td>913272.0</td>\n",
       "      <td>Monsieur jumper</td>\n",
       "      <td>252.0</td>\n",
       "      <td>Sweater</td>\n",
       "      <td>Garment Upper body</td>\n",
       "      <td>1010016.0</td>\n",
       "      <td>Solid</td>\n",
       "      <td>11.0</td>\n",
       "      <td>Off White</td>\n",
       "      <td>1.0</td>\n",
       "      <td>Dusty Light</td>\n",
       "      <td>9.0</td>\n",
       "      <td>White</td>\n",
       "      <td>1616.0</td>\n",
       "      <td>Knitwear</td>\n",
       "      <td>A</td>\n",
       "      <td>Ladieswear</td>\n",
       "      <td>1.0</td>\n",
       "      <td>Ladieswear</td>\n",
       "      <td>11.0</td>\n",
       "      <td>Womens Tailoring</td>\n",
       "      <td>1003.0</td>\n",
       "      <td>Knitwear</td>\n",
       "      <td>Jumper in a soft, fine knit with decorative bu...</td>\n",
       "      <td>13.0</td>\n",
       "      <td>5.0</td>\n",
       "      <td>15.0</td>\n",
       "      <td>0.016271</td>\n",
       "      <td>0.098136</td>\n",
       "      <td>0.044877</td>\n",
       "      <td>4.0</td>\n",
       "      <td>9.0</td>\n",
       "      <td>7.0</td>\n",
       "    </tr>\n",
       "    <tr>\n",
       "      <th>2</th>\n",
       "      <td>2020-09-16</td>\n",
       "      <td>000fb6e772c5d0023892065e659963da90b1866035558e...</td>\n",
       "      <td>0889669006</td>\n",
       "      <td>0.056508</td>\n",
       "      <td>2.0</td>\n",
       "      <td>889669.0</td>\n",
       "      <td>Apollo barell leg trouser</td>\n",
       "      <td>272.0</td>\n",
       "      <td>Trousers</td>\n",
       "      <td>Garment Lower body</td>\n",
       "      <td>1010016.0</td>\n",
       "      <td>Solid</td>\n",
       "      <td>43.0</td>\n",
       "      <td>Dark Red</td>\n",
       "      <td>4.0</td>\n",
       "      <td>Dark</td>\n",
       "      <td>18.0</td>\n",
       "      <td>Red</td>\n",
       "      <td>1717.0</td>\n",
       "      <td>Trouser</td>\n",
       "      <td>A</td>\n",
       "      <td>Ladieswear</td>\n",
       "      <td>1.0</td>\n",
       "      <td>Ladieswear</td>\n",
       "      <td>11.0</td>\n",
       "      <td>Womens Tailoring</td>\n",
       "      <td>1009.0</td>\n",
       "      <td>Trousers</td>\n",
       "      <td>Ankle-length cigarette trousers in woven fabri...</td>\n",
       "      <td>13.0</td>\n",
       "      <td>5.0</td>\n",
       "      <td>15.0</td>\n",
       "      <td>0.016271</td>\n",
       "      <td>0.098136</td>\n",
       "      <td>0.044877</td>\n",
       "      <td>4.0</td>\n",
       "      <td>9.0</td>\n",
       "      <td>7.0</td>\n",
       "    </tr>\n",
       "    <tr>\n",
       "      <th>3</th>\n",
       "      <td>2020-09-18</td>\n",
       "      <td>000fb6e772c5d0023892065e659963da90b1866035558e...</td>\n",
       "      <td>0913272003</td>\n",
       "      <td>0.033881</td>\n",
       "      <td>2.0</td>\n",
       "      <td>913272.0</td>\n",
       "      <td>Monsieur jumper</td>\n",
       "      <td>252.0</td>\n",
       "      <td>Sweater</td>\n",
       "      <td>Garment Upper body</td>\n",
       "      <td>1010016.0</td>\n",
       "      <td>Solid</td>\n",
       "      <td>11.0</td>\n",
       "      <td>Off White</td>\n",
       "      <td>1.0</td>\n",
       "      <td>Dusty Light</td>\n",
       "      <td>9.0</td>\n",
       "      <td>White</td>\n",
       "      <td>1616.0</td>\n",
       "      <td>Knitwear</td>\n",
       "      <td>A</td>\n",
       "      <td>Ladieswear</td>\n",
       "      <td>1.0</td>\n",
       "      <td>Ladieswear</td>\n",
       "      <td>11.0</td>\n",
       "      <td>Womens Tailoring</td>\n",
       "      <td>1003.0</td>\n",
       "      <td>Knitwear</td>\n",
       "      <td>Jumper in a soft, fine knit with decorative bu...</td>\n",
       "      <td>13.0</td>\n",
       "      <td>5.0</td>\n",
       "      <td>15.0</td>\n",
       "      <td>0.016271</td>\n",
       "      <td>0.098136</td>\n",
       "      <td>0.044877</td>\n",
       "      <td>4.0</td>\n",
       "      <td>9.0</td>\n",
       "      <td>7.0</td>\n",
       "    </tr>\n",
       "    <tr>\n",
       "      <th>4</th>\n",
       "      <td>2020-09-18</td>\n",
       "      <td>000fb6e772c5d0023892065e659963da90b1866035558e...</td>\n",
       "      <td>0889669006</td>\n",
       "      <td>0.059305</td>\n",
       "      <td>2.0</td>\n",
       "      <td>889669.0</td>\n",
       "      <td>Apollo barell leg trouser</td>\n",
       "      <td>272.0</td>\n",
       "      <td>Trousers</td>\n",
       "      <td>Garment Lower body</td>\n",
       "      <td>1010016.0</td>\n",
       "      <td>Solid</td>\n",
       "      <td>43.0</td>\n",
       "      <td>Dark Red</td>\n",
       "      <td>4.0</td>\n",
       "      <td>Dark</td>\n",
       "      <td>18.0</td>\n",
       "      <td>Red</td>\n",
       "      <td>1717.0</td>\n",
       "      <td>Trouser</td>\n",
       "      <td>A</td>\n",
       "      <td>Ladieswear</td>\n",
       "      <td>1.0</td>\n",
       "      <td>Ladieswear</td>\n",
       "      <td>11.0</td>\n",
       "      <td>Womens Tailoring</td>\n",
       "      <td>1009.0</td>\n",
       "      <td>Trousers</td>\n",
       "      <td>Ankle-length cigarette trousers in woven fabri...</td>\n",
       "      <td>13.0</td>\n",
       "      <td>5.0</td>\n",
       "      <td>15.0</td>\n",
       "      <td>0.016271</td>\n",
       "      <td>0.098136</td>\n",
       "      <td>0.044877</td>\n",
       "      <td>4.0</td>\n",
       "      <td>9.0</td>\n",
       "      <td>7.0</td>\n",
       "    </tr>\n",
       "  </tbody>\n",
       "</table>\n",
       "</div>"
      ],
      "text/plain": [
       "       t_dat                                        customer_id  article_id  \\\n",
       "0 2020-09-16  000fb6e772c5d0023892065e659963da90b1866035558e...  0786022008   \n",
       "1 2020-09-16  000fb6e772c5d0023892065e659963da90b1866035558e...  0913272003   \n",
       "2 2020-09-16  000fb6e772c5d0023892065e659963da90b1866035558e...  0889669006   \n",
       "3 2020-09-18  000fb6e772c5d0023892065e659963da90b1866035558e...  0913272003   \n",
       "4 2020-09-18  000fb6e772c5d0023892065e659963da90b1866035558e...  0889669006   \n",
       "\n",
       "      price  sales_channel_id  product_code                  prod_name  \\\n",
       "0  0.048441               2.0      786022.0              Vivaldi dress   \n",
       "1  0.032288               2.0      913272.0            Monsieur jumper   \n",
       "2  0.056508               2.0      889669.0  Apollo barell leg trouser   \n",
       "3  0.033881               2.0      913272.0            Monsieur jumper   \n",
       "4  0.059305               2.0      889669.0  Apollo barell leg trouser   \n",
       "\n",
       "   product_type_no product_type_name  product_group_name  \\\n",
       "0            265.0             Dress   Garment Full body   \n",
       "1            252.0           Sweater  Garment Upper body   \n",
       "2            272.0          Trousers  Garment Lower body   \n",
       "3            252.0           Sweater  Garment Upper body   \n",
       "4            272.0          Trousers  Garment Lower body   \n",
       "\n",
       "   graphical_appearance_no graphical_appearance_name  colour_group_code  \\\n",
       "0                1010016.0                     Solid               43.0   \n",
       "1                1010016.0                     Solid               11.0   \n",
       "2                1010016.0                     Solid               43.0   \n",
       "3                1010016.0                     Solid               11.0   \n",
       "4                1010016.0                     Solid               43.0   \n",
       "\n",
       "  colour_group_name  perceived_colour_value_id perceived_colour_value_name  \\\n",
       "0          Dark Red                        4.0                        Dark   \n",
       "1         Off White                        1.0                 Dusty Light   \n",
       "2          Dark Red                        4.0                        Dark   \n",
       "3         Off White                        1.0                 Dusty Light   \n",
       "4          Dark Red                        4.0                        Dark   \n",
       "\n",
       "   perceived_colour_master_id perceived_colour_master_name  department_no  \\\n",
       "0                        18.0                          Red         1313.0   \n",
       "1                         9.0                        White         1616.0   \n",
       "2                        18.0                          Red         1717.0   \n",
       "3                         9.0                        White         1616.0   \n",
       "4                        18.0                          Red         1717.0   \n",
       "\n",
       "  department_name index_code  index_name  index_group_no index_group_name  \\\n",
       "0           Dress          A  Ladieswear             1.0       Ladieswear   \n",
       "1        Knitwear          A  Ladieswear             1.0       Ladieswear   \n",
       "2         Trouser          A  Ladieswear             1.0       Ladieswear   \n",
       "3        Knitwear          A  Ladieswear             1.0       Ladieswear   \n",
       "4         Trouser          A  Ladieswear             1.0       Ladieswear   \n",
       "\n",
       "   section_no      section_name  garment_group_no garment_group_name  \\\n",
       "0        11.0  Womens Tailoring            1013.0     Dresses Ladies   \n",
       "1        11.0  Womens Tailoring            1003.0           Knitwear   \n",
       "2        11.0  Womens Tailoring            1009.0           Trousers   \n",
       "3        11.0  Womens Tailoring            1003.0           Knitwear   \n",
       "4        11.0  Womens Tailoring            1009.0           Trousers   \n",
       "\n",
       "                                         detail_desc  nArticles  nDays  \\\n",
       "0  Knee-length dress in a patterned crêpe weave w...       13.0    5.0   \n",
       "1  Jumper in a soft, fine knit with decorative bu...       13.0    5.0   \n",
       "2  Ankle-length cigarette trousers in woven fabri...       13.0    5.0   \n",
       "3  Jumper in a soft, fine knit with decorative bu...       13.0    5.0   \n",
       "4  Ankle-length cigarette trousers in woven fabri...       13.0    5.0   \n",
       "\n",
       "   nPurchases  minPrice  maxPrice  meanPrice  nPGroups  nDept  nSect  \n",
       "0        15.0  0.016271  0.098136   0.044877       4.0    9.0    7.0  \n",
       "1        15.0  0.016271  0.098136   0.044877       4.0    9.0    7.0  \n",
       "2        15.0  0.016271  0.098136   0.044877       4.0    9.0    7.0  \n",
       "3        15.0  0.016271  0.098136   0.044877       4.0    9.0    7.0  \n",
       "4        15.0  0.016271  0.098136   0.044877       4.0    9.0    7.0  "
      ]
     },
     "execution_count": 17,
     "metadata": {},
     "output_type": "execute_result"
    }
   ],
   "source": [
    "# has to be run after above for train_df to exist\n",
    "test_df = get_test_df()\n",
    "test_df = clean_article_id(test_df)\n",
    "test_df = add_features(test_df, use_train_df=True)\n",
    "\n",
    "test_df.head()"
   ]
  },
  {
   "cell_type": "code",
   "execution_count": 18,
   "id": "bc8e795d",
   "metadata": {
    "ExecuteTime": {
     "end_time": "2022-07-29T14:09:23.842030Z",
     "start_time": "2022-07-29T14:09:23.833037Z"
    },
    "hidden": true
   },
   "outputs": [
    {
     "name": "stdout",
     "output_type": "stream",
     "text": [
      "number of training samples: 1127168\n",
      "number of test samples: 454324\n"
     ]
    }
   ],
   "source": [
    "print('number of training samples:', len(train_df))\n",
    "print('number of test samples:', len(test_df))"
   ]
  },
  {
   "cell_type": "code",
   "execution_count": 19,
   "id": "9d25a719",
   "metadata": {
    "ExecuteTime": {
     "end_time": "2022-07-29T14:09:24.880224Z",
     "start_time": "2022-07-29T14:09:23.846630Z"
    },
    "hidden": true
   },
   "outputs": [
    {
     "name": "stdout",
     "output_type": "stream",
     "text": [
      "91.28734689295574\n",
      "94.7714349861973\n"
     ]
    }
   ],
   "source": [
    "print(psutil.virtual_memory().available * 100 / psutil.virtual_memory().total)\n",
    "\n",
    "del all_data_df\n",
    "gc.collect()\n",
    "\n",
    "print(psutil.virtual_memory().available * 100 / psutil.virtual_memory().total)"
   ]
  },
  {
   "cell_type": "code",
   "execution_count": 20,
   "id": "57cad2b8",
   "metadata": {
    "ExecuteTime": {
     "end_time": "2022-07-29T14:09:26.670108Z",
     "start_time": "2022-07-29T14:09:24.884237Z"
    },
    "hidden": true
   },
   "outputs": [],
   "source": [
    "# Remove records where we don't have all customer features\n",
    "train_df = train_df[~train_df['customer_id'].isnull()]\n",
    "test_df = test_df[~test_df['customer_id'].isnull()]\n",
    "\n",
    "# Use 40k customers from train_df only so we can quickly test our methods\n",
    "CUSTOMER_IDS = train_df['customer_id'].unique()[:40000]\n",
    "train_df = train_df[train_df['customer_id'].isin(CUSTOMER_IDS)]\n",
    "test_df = test_df[test_df['customer_id'].isin(CUSTOMER_IDS)]"
   ]
  },
  {
   "cell_type": "code",
   "execution_count": 21,
   "id": "17e145d3",
   "metadata": {
    "ExecuteTime": {
     "end_time": "2022-07-29T14:09:26.681480Z",
     "start_time": "2022-07-29T14:09:26.675264Z"
    },
    "hidden": true
   },
   "outputs": [
    {
     "name": "stdout",
     "output_type": "stream",
     "text": [
      "number of training samples: 233096\n",
      "number of test samples: 57309\n"
     ]
    }
   ],
   "source": [
    "print('number of training samples:', len(train_df))\n",
    "print('number of test samples:', len(test_df))"
   ]
  },
  {
   "cell_type": "markdown",
   "id": "16d63bc3",
   "metadata": {
    "heading_collapsed": true,
    "hidden": true
   },
   "source": [
    "## Generating negative samples"
   ]
  },
  {
   "cell_type": "code",
   "execution_count": 22,
   "id": "e7fe5102",
   "metadata": {
    "ExecuteTime": {
     "end_time": "2022-07-29T14:09:26.773651Z",
     "start_time": "2022-07-29T14:09:26.685190Z"
    },
    "hidden": true
   },
   "outputs": [],
   "source": [
    "unique_articles = list(article_df['article_id'].unique())"
   ]
  },
  {
   "cell_type": "code",
   "execution_count": 23,
   "id": "07d03ada",
   "metadata": {
    "ExecuteTime": {
     "end_time": "2022-07-29T14:09:26.794226Z",
     "start_time": "2022-07-29T14:09:26.778196Z"
    },
    "hidden": true
   },
   "outputs": [],
   "source": [
    "def generate_negative_samples(\n",
    "    df,\n",
    "    unique_articles,\n",
    "    num_neg=1\n",
    "):\n",
    "    # get a unique list of purchased articles for each customer\n",
    "    customer_purchases_df = df.groupby(\"customer_id\",).article_id.agg(['unique']).reset_index()\n",
    "    customer_purchases_df.columns = ['customer_id', 'purchased_articles']\n",
    "    \n",
    "    customer_negative_samples = []\n",
    "    \n",
    "    for index, row in customer_purchases_df.iterrows():\n",
    "        customer_id = row['customer_id']\n",
    "        purchased_articles = row['purchased_articles']\n",
    "        \n",
    "        unpurchased_articles = list(set(unique_articles) - set(purchased_articles))\n",
    "        \n",
    "        negative_samples = random.sample(unpurchased_articles, num_neg)\n",
    "        \n",
    "        for article_id in negative_samples:\n",
    "            customer_negative_samples.append(\n",
    "                {\n",
    "                    'customer_id': customer_id,\n",
    "                    'article_id': article_id\n",
    "                }\n",
    "            )\n",
    "    \n",
    "    negative_samples_df = pd.DataFrame(customer_negative_samples)\n",
    "    \n",
    "    return negative_samples_df"
   ]
  },
  {
   "cell_type": "code",
   "execution_count": 24,
   "id": "26007d54",
   "metadata": {
    "ExecuteTime": {
     "end_time": "2022-07-29T14:27:13.582271Z",
     "start_time": "2022-07-29T14:09:26.798777Z"
    },
    "hidden": true
   },
   "outputs": [
    {
     "data": {
      "text/plain": [
       "((80000, 2), (80000, 2))"
      ]
     },
     "execution_count": 24,
     "metadata": {},
     "output_type": "execute_result"
    }
   ],
   "source": [
    "train_neg_df = generate_negative_samples(train_df, unique_articles, num_neg=2)\n",
    "test_neg_df = generate_negative_samples(test_df, unique_articles, num_neg=2)\n",
    "\n",
    "train_neg_df.shape, test_neg_df.shape"
   ]
  },
  {
   "cell_type": "code",
   "execution_count": 25,
   "id": "4b6b4a93",
   "metadata": {
    "ExecuteTime": {
     "end_time": "2022-07-29T14:27:13.600076Z",
     "start_time": "2022-07-29T14:27:13.589194Z"
    },
    "hidden": true
   },
   "outputs": [],
   "source": [
    "def combine_positive_and_negative_samples(\n",
    "    positive_samples_df,\n",
    "    negative_samples_df\n",
    "):\n",
    "    negative_samples_df = add_features(negative_samples_df, use_train_df=True)\n",
    "    \n",
    "    positive_samples_df['is_purchased'] = 1\n",
    "    negative_samples_df['is_purchased'] = 0\n",
    "    \n",
    "    combined_df = pd.concat([positive_samples_df, negative_samples_df])\n",
    "    \n",
    "    return combined_df"
   ]
  },
  {
   "cell_type": "code",
   "execution_count": 26,
   "id": "b4b20f7b",
   "metadata": {
    "ExecuteTime": {
     "end_time": "2022-07-29T14:27:16.884738Z",
     "start_time": "2022-07-29T14:27:13.604393Z"
    },
    "hidden": true,
    "scrolled": false
   },
   "outputs": [],
   "source": [
    "combined_train_df = combine_positive_and_negative_samples(train_df, train_neg_df)\n",
    "combined_test_df = combine_positive_and_negative_samples(test_df, test_neg_df)"
   ]
  },
  {
   "cell_type": "markdown",
   "id": "4d1fef59",
   "metadata": {
    "heading_collapsed": true,
    "hidden": true
   },
   "source": [
    "## Building a single task model"
   ]
  },
  {
   "cell_type": "code",
   "execution_count": 27,
   "id": "0d827e80",
   "metadata": {
    "ExecuteTime": {
     "end_time": "2022-07-29T14:27:16.894359Z",
     "start_time": "2022-07-29T14:27:16.888321Z"
    },
    "hidden": true
   },
   "outputs": [],
   "source": [
    "numerical_features = ['nArticles','nDays','nPurchases','minPrice','maxPrice','meanPrice','nPGroups','nDept','nSect']\n",
    "categorical_features = ['product_group_name']"
   ]
  },
  {
   "cell_type": "code",
   "execution_count": 100,
   "id": "c41eee99",
   "metadata": {
    "ExecuteTime": {
     "end_time": "2022-07-29T15:09:15.822698Z",
     "start_time": "2022-07-29T15:09:15.508288Z"
    },
    "hidden": true
   },
   "outputs": [],
   "source": [
    "X_numerical = combined_train_df[numerical_features].to_numpy()\n",
    "X_categorical = combined_train_df[categorical_features].to_numpy().astype(str)"
   ]
  },
  {
   "cell_type": "code",
   "execution_count": 101,
   "id": "538d1503",
   "metadata": {
    "ExecuteTime": {
     "end_time": "2022-07-29T15:09:16.514463Z",
     "start_time": "2022-07-29T15:09:16.507136Z"
    },
    "hidden": true
   },
   "outputs": [],
   "source": [
    "y_is_purchased = combined_train_df['is_purchased'].to_numpy()"
   ]
  },
  {
   "cell_type": "code",
   "execution_count": 102,
   "id": "c582ce35",
   "metadata": {
    "ExecuteTime": {
     "end_time": "2022-07-29T15:09:17.134749Z",
     "start_time": "2022-07-29T15:09:17.097083Z"
    },
    "hidden": true
   },
   "outputs": [],
   "source": [
    "inputs_numerical = tf.keras.Input((len(numerical_features)))\n",
    "numerical_tower = tf.keras.layers.Dense(50, activation='relu')(inputs_numerical)"
   ]
  },
  {
   "cell_type": "code",
   "execution_count": 103,
   "id": "96161f87",
   "metadata": {
    "ExecuteTime": {
     "end_time": "2022-07-29T15:09:17.593654Z",
     "start_time": "2022-07-29T15:09:17.568485Z"
    },
    "hidden": true
   },
   "outputs": [],
   "source": [
    "unique_product_group_names = article_df['product_group_name'].unique().astype(str)"
   ]
  },
  {
   "cell_type": "code",
   "execution_count": 104,
   "id": "1b3629d1",
   "metadata": {
    "ExecuteTime": {
     "end_time": "2022-07-29T15:09:18.035367Z",
     "start_time": "2022-07-29T15:09:17.943672Z"
    },
    "hidden": true
   },
   "outputs": [],
   "source": [
    "inputs_categorical = tf.keras.Input((len(categorical_features)), dtype=tf.string)\n",
    "categorical_tower = tf.keras.layers.StringLookup(vocabulary=unique_product_group_names, mask_token=None)(inputs_categorical)\n",
    "categorical_tower = tf.keras.layers.Embedding(len(unique_product_group_names)+1, 50)(categorical_tower)\n",
    "categorical_tower = tf.keras.layers.Dense(50, activation='relu')(categorical_tower)\n",
    "categorical_tower = tf.keras.layers.Flatten()(categorical_tower)"
   ]
  },
  {
   "cell_type": "code",
   "execution_count": 105,
   "id": "2a1139db",
   "metadata": {
    "ExecuteTime": {
     "end_time": "2022-07-29T15:09:18.581855Z",
     "start_time": "2022-07-29T15:09:18.529962Z"
    },
    "hidden": true
   },
   "outputs": [],
   "source": [
    "combined_tower = tf.keras.layers.concatenate([numerical_tower, categorical_tower])\n",
    "combined_tower = tf.keras.layers.Dense(50, activation='relu')(combined_tower)\n",
    "output_is_purchased = tf.keras.layers.Dense(1, activation='sigmoid')(combined_tower)"
   ]
  },
  {
   "cell_type": "code",
   "execution_count": 137,
   "id": "b15a31d0",
   "metadata": {
    "ExecuteTime": {
     "end_time": "2022-07-29T15:34:50.524392Z",
     "start_time": "2022-07-29T15:34:50.484389Z"
    },
    "hidden": true
   },
   "outputs": [],
   "source": [
    "single_task_model = tf.keras.Model([inputs_numerical, inputs_categorical], output_is_purchased)\n",
    "single_task_model.compile(\n",
    "    loss=tf.keras.losses.BinaryCrossentropy(from_logits=False),\n",
    "    optimizer=tf.keras.optimizers.Adagrad(learning_rate=0.1),\n",
    "    metrics=[tf.keras.metrics.BinaryAccuracy()]\n",
    ")"
   ]
  },
  {
   "cell_type": "code",
   "execution_count": 138,
   "id": "cc52ab24",
   "metadata": {
    "ExecuteTime": {
     "end_time": "2022-07-29T15:35:14.649325Z",
     "start_time": "2022-07-29T15:34:51.373599Z"
    },
    "hidden": true
   },
   "outputs": [
    {
     "name": "stdout",
     "output_type": "stream",
     "text": [
      "Epoch 1/10\n",
      "314/314 [==============================] - 3s 7ms/step - loss: 0.4724 - binary_accuracy: 0.7809\n",
      "Epoch 2/10\n",
      "314/314 [==============================] - 2s 7ms/step - loss: 0.4712 - binary_accuracy: 0.7818\n",
      "Epoch 3/10\n",
      "314/314 [==============================] - 2s 7ms/step - loss: 0.4709 - binary_accuracy: 0.7821\n",
      "Epoch 4/10\n",
      "314/314 [==============================] - 2s 7ms/step - loss: 0.4702 - binary_accuracy: 0.7824\n",
      "Epoch 5/10\n",
      "314/314 [==============================] - 2s 7ms/step - loss: 0.4699 - binary_accuracy: 0.7826\n",
      "Epoch 6/10\n",
      "314/314 [==============================] - 2s 7ms/step - loss: 0.4697 - binary_accuracy: 0.7829\n",
      "Epoch 7/10\n",
      "314/314 [==============================] - 2s 7ms/step - loss: 0.4696 - binary_accuracy: 0.7823\n",
      "Epoch 8/10\n",
      "314/314 [==============================] - 2s 7ms/step - loss: 0.4693 - binary_accuracy: 0.7825\n",
      "Epoch 9/10\n",
      "314/314 [==============================] - 2s 7ms/step - loss: 0.4692 - binary_accuracy: 0.7827\n",
      "Epoch 10/10\n",
      "314/314 [==============================] - 2s 7ms/step - loss: 0.4691 - binary_accuracy: 0.7826\n"
     ]
    }
   ],
   "source": [
    "history = single_task_model.fit(\n",
    "    [X_numerical, X_categorical],\n",
    "    [y_is_purchased],\n",
    "    epochs=10,\n",
    "    batch_size=1000\n",
    ")"
   ]
  },
  {
   "cell_type": "code",
   "execution_count": 139,
   "id": "09031313",
   "metadata": {
    "ExecuteTime": {
     "end_time": "2022-07-29T15:35:26.462973Z",
     "start_time": "2022-07-29T15:35:14.656912Z"
    },
    "hidden": true
   },
   "outputs": [
    {
     "name": "stdout",
     "output_type": "stream",
     "text": [
      "4291/4291 [==============================] - 10s 2ms/step\n"
     ]
    },
    {
     "data": {
      "text/plain": [
       "0.44894362350610667"
      ]
     },
     "execution_count": 139,
     "metadata": {},
     "output_type": "execute_result"
    }
   ],
   "source": [
    "X_numerical_test = combined_test_df[numerical_features].to_numpy()\n",
    "X_categorical_test = combined_test_df[categorical_features].to_numpy().astype(str)\n",
    "\n",
    "predictions_is_purchased_test = single_task_model.predict(\n",
    "    [X_numerical_test, X_categorical_test]\n",
    ")\n",
    "predictions_is_purchased_test = (predictions_is_purchased_test >= 0.5).astype(int).flatten()\n",
    "sum(predictions_is_purchased_test == combined_test_df['is_purchased'].values)/len(predictions_is_purchased_test)"
   ]
  },
  {
   "cell_type": "markdown",
   "id": "f5726e71",
   "metadata": {
    "heading_collapsed": true,
    "hidden": true
   },
   "source": [
    "## Building a multi-task model"
   ]
  },
  {
   "cell_type": "code",
   "execution_count": 95,
   "id": "023d8009",
   "metadata": {
    "ExecuteTime": {
     "end_time": "2022-07-29T14:58:45.526483Z",
     "start_time": "2022-07-29T14:58:45.514548Z"
    },
    "hidden": true
   },
   "outputs": [],
   "source": [
    "def add_has_purchased_category_label(df):\n",
    "    \n",
    "    customer_category_purchases_df = train_df[['customer_id', 'product_group_name']].drop_duplicates()\n",
    "    customer_category_purchases_df['has_purchased_category'] = 1\n",
    "    \n",
    "    df = df.join(\n",
    "        customer_category_purchases_df.set_index(['customer_id', 'product_group_name']),\n",
    "        on=['customer_id', 'product_group_name']\n",
    "    )\n",
    "    \n",
    "    df['has_purchased_category'] = df['has_purchased_category'].fillna(0).astype(int)\n",
    "    \n",
    "    return df"
   ]
  },
  {
   "cell_type": "code",
   "execution_count": 97,
   "id": "ed5d0dfd",
   "metadata": {
    "ExecuteTime": {
     "end_time": "2022-07-29T15:00:24.166755Z",
     "start_time": "2022-07-29T15:00:23.347999Z"
    },
    "hidden": true,
    "scrolled": false
   },
   "outputs": [],
   "source": [
    "combined_train_df = add_has_purchased_category_label(combined_train_df)\n",
    "combined_test_df = add_has_purchased_category_label(combined_test_df)"
   ]
  },
  {
   "cell_type": "code",
   "execution_count": 140,
   "id": "f6891373",
   "metadata": {
    "ExecuteTime": {
     "end_time": "2022-07-29T15:43:14.530892Z",
     "start_time": "2022-07-29T15:43:14.521877Z"
    },
    "hidden": true
   },
   "outputs": [],
   "source": [
    "numerical_features = ['nArticles','nDays','nPurchases','minPrice','maxPrice','meanPrice','nPGroups','nDept','nSect']\n",
    "categorical_features = ['product_group_name']"
   ]
  },
  {
   "cell_type": "code",
   "execution_count": 141,
   "id": "b1921289",
   "metadata": {
    "ExecuteTime": {
     "end_time": "2022-07-29T15:43:14.803978Z",
     "start_time": "2022-07-29T15:43:14.656431Z"
    },
    "hidden": true
   },
   "outputs": [],
   "source": [
    "X_numerical = combined_train_df[numerical_features].to_numpy()\n",
    "X_categorical = combined_train_df[categorical_features].to_numpy().astype(str)"
   ]
  },
  {
   "cell_type": "code",
   "execution_count": 142,
   "id": "8e448a0f",
   "metadata": {
    "ExecuteTime": {
     "end_time": "2022-07-29T15:43:14.826765Z",
     "start_time": "2022-07-29T15:43:14.821540Z"
    },
    "hidden": true
   },
   "outputs": [],
   "source": [
    "y_is_purchased = combined_train_df['is_purchased'].to_numpy()\n",
    "y_has_purchased_category = combined_train_df['has_purchased_category'].to_numpy()"
   ]
  },
  {
   "cell_type": "code",
   "execution_count": 143,
   "id": "20c94e0d",
   "metadata": {
    "ExecuteTime": {
     "end_time": "2022-07-29T15:43:15.009746Z",
     "start_time": "2022-07-29T15:43:14.976140Z"
    },
    "hidden": true
   },
   "outputs": [],
   "source": [
    "inputs_numerical = tf.keras.Input((len(numerical_features)))\n",
    "numerical_tower = tf.keras.layers.Dense(64, activation='relu')(inputs_numerical)"
   ]
  },
  {
   "cell_type": "code",
   "execution_count": 144,
   "id": "64673e65",
   "metadata": {
    "ExecuteTime": {
     "end_time": "2022-07-29T15:43:15.154558Z",
     "start_time": "2022-07-29T15:43:15.131360Z"
    },
    "hidden": true
   },
   "outputs": [],
   "source": [
    "unique_product_group_names = article_df['product_group_name'].unique().astype(str)"
   ]
  },
  {
   "cell_type": "code",
   "execution_count": 145,
   "id": "0d84eea6",
   "metadata": {
    "ExecuteTime": {
     "end_time": "2022-07-29T15:43:15.622690Z",
     "start_time": "2022-07-29T15:43:15.535639Z"
    },
    "hidden": true
   },
   "outputs": [],
   "source": [
    "inputs_categorical = tf.keras.Input((len(categorical_features)), dtype=tf.string)\n",
    "categorical_tower = tf.keras.layers.StringLookup(vocabulary=unique_product_group_names, mask_token=None)(inputs_categorical)\n",
    "categorical_tower = tf.keras.layers.Embedding(len(unique_product_group_names)+1, 50)(categorical_tower)\n",
    "categorical_tower = tf.keras.layers.Dense(64, activation='relu')(categorical_tower)\n",
    "categorical_tower = tf.keras.layers.Flatten()(categorical_tower)"
   ]
  },
  {
   "cell_type": "code",
   "execution_count": 146,
   "id": "876b138f",
   "metadata": {
    "ExecuteTime": {
     "end_time": "2022-07-29T15:43:15.947386Z",
     "start_time": "2022-07-29T15:43:15.910315Z"
    },
    "hidden": true
   },
   "outputs": [],
   "source": [
    "combined_tower = tf.keras.layers.concatenate([numerical_tower, categorical_tower])\n",
    "combined_tower = tf.keras.layers.Dense(64, activation='relu')(combined_tower)"
   ]
  },
  {
   "cell_type": "code",
   "execution_count": 147,
   "id": "5a5522c4",
   "metadata": {
    "ExecuteTime": {
     "end_time": "2022-07-29T15:43:16.614584Z",
     "start_time": "2022-07-29T15:43:16.550441Z"
    },
    "hidden": true
   },
   "outputs": [],
   "source": [
    "is_purchased_tower = tf.keras.layers.Dense(\n",
    "    32, activation='relu', name='is_purchased_layer_1')(combined_tower)\n",
    "\n",
    "is_purchased_tower = tf.keras.layers.Dense(\n",
    "    16, activation='relu', name='is_purchased_layer_2')(is_purchased_tower)\n",
    "\n",
    "output_is_purchased = tf.keras.layers.Dense(\n",
    "    1, activation='sigmoid', name='is_purchased_output')(is_purchased_tower)"
   ]
  },
  {
   "cell_type": "code",
   "execution_count": 148,
   "id": "6f255093",
   "metadata": {
    "ExecuteTime": {
     "end_time": "2022-07-29T15:43:17.170394Z",
     "start_time": "2022-07-29T15:43:17.110889Z"
    },
    "hidden": true
   },
   "outputs": [],
   "source": [
    "has_purchased_category_tower = tf.keras.layers.Dense(\n",
    "    32, activation='relu', name='has_purchased_category_layer_1')(combined_tower)\n",
    "\n",
    "has_purchased_category_tower = tf.keras.layers.Dense(\n",
    "    16, activation='relu', name='has_purchased_category_layer_2')(has_purchased_category_tower)\n",
    "\n",
    "output_has_purchased_category = tf.keras.layers.Dense(\n",
    "    1, activation='sigmoid', name='has_purchased_category_output')(has_purchased_category_tower)"
   ]
  },
  {
   "cell_type": "code",
   "execution_count": 149,
   "id": "a101c9fb",
   "metadata": {
    "ExecuteTime": {
     "end_time": "2022-07-29T15:43:17.921660Z",
     "start_time": "2022-07-29T15:43:17.884189Z"
    },
    "hidden": true
   },
   "outputs": [],
   "source": [
    "multi_task_model = tf.keras.Model(\n",
    "    inputs=[inputs_numerical, inputs_categorical],\n",
    "    outputs=[output_is_purchased, output_has_purchased_category]\n",
    ")\n",
    "\n",
    "multi_task_model.compile(\n",
    "    loss=tf.keras.losses.BinaryCrossentropy(from_logits=False),\n",
    "    optimizer=tf.keras.optimizers.Adagrad(learning_rate=0.1),\n",
    "    metrics=[tf.keras.metrics.BinaryAccuracy()]\n",
    ")"
   ]
  },
  {
   "cell_type": "code",
   "execution_count": 150,
   "id": "0779c626",
   "metadata": {
    "ExecuteTime": {
     "end_time": "2022-07-29T15:43:43.488593Z",
     "start_time": "2022-07-29T15:43:18.506612Z"
    },
    "hidden": true
   },
   "outputs": [
    {
     "name": "stdout",
     "output_type": "stream",
     "text": [
      "Epoch 1/10\n",
      "314/314 [==============================] - 4s 8ms/step - loss: 0.8590 - is_purchased_output_loss: 0.5212 - has_purchased_category_output_loss: 0.3377 - is_purchased_output_binary_accuracy: 0.7436 - has_purchased_category_output_binary_accuracy: 0.8550\n",
      "Epoch 2/10\n",
      "314/314 [==============================] - 2s 8ms/step - loss: 0.8022 - is_purchased_output_loss: 0.4956 - has_purchased_category_output_loss: 0.3067 - is_purchased_output_binary_accuracy: 0.7671 - has_purchased_category_output_binary_accuracy: 0.8684\n",
      "Epoch 3/10\n",
      "314/314 [==============================] - 2s 8ms/step - loss: 0.7900 - is_purchased_output_loss: 0.4882 - has_purchased_category_output_loss: 0.3018 - is_purchased_output_binary_accuracy: 0.7730 - has_purchased_category_output_binary_accuracy: 0.8708\n",
      "Epoch 4/10\n",
      "314/314 [==============================] - 2s 7ms/step - loss: 0.7832 - is_purchased_output_loss: 0.4842 - has_purchased_category_output_loss: 0.2990 - is_purchased_output_binary_accuracy: 0.7741 - has_purchased_category_output_binary_accuracy: 0.8712\n",
      "Epoch 5/10\n",
      "314/314 [==============================] - 2s 7ms/step - loss: 0.7790 - is_purchased_output_loss: 0.4816 - has_purchased_category_output_loss: 0.2973 - is_purchased_output_binary_accuracy: 0.7757 - has_purchased_category_output_binary_accuracy: 0.8708\n",
      "Epoch 6/10\n",
      "314/314 [==============================] - 2s 7ms/step - loss: 0.7746 - is_purchased_output_loss: 0.4793 - has_purchased_category_output_loss: 0.2953 - is_purchased_output_binary_accuracy: 0.7765 - has_purchased_category_output_binary_accuracy: 0.8714\n",
      "Epoch 7/10\n",
      "314/314 [==============================] - 2s 7ms/step - loss: 0.7713 - is_purchased_output_loss: 0.4775 - has_purchased_category_output_loss: 0.2938 - is_purchased_output_binary_accuracy: 0.7782 - has_purchased_category_output_binary_accuracy: 0.8721\n",
      "Epoch 8/10\n",
      "314/314 [==============================] - 2s 7ms/step - loss: 0.7686 - is_purchased_output_loss: 0.4761 - has_purchased_category_output_loss: 0.2925 - is_purchased_output_binary_accuracy: 0.7786 - has_purchased_category_output_binary_accuracy: 0.8726\n",
      "Epoch 9/10\n",
      "314/314 [==============================] - 2s 8ms/step - loss: 0.7670 - is_purchased_output_loss: 0.4754 - has_purchased_category_output_loss: 0.2916 - is_purchased_output_binary_accuracy: 0.7795 - has_purchased_category_output_binary_accuracy: 0.8732\n",
      "Epoch 10/10\n",
      "314/314 [==============================] - 2s 8ms/step - loss: 0.7651 - is_purchased_output_loss: 0.4746 - has_purchased_category_output_loss: 0.2905 - is_purchased_output_binary_accuracy: 0.7795 - has_purchased_category_output_binary_accuracy: 0.8736\n"
     ]
    }
   ],
   "source": [
    "history = multi_task_model.fit(\n",
    "    [X_numerical, X_categorical],\n",
    "    [y_is_purchased, y_has_purchased_category],\n",
    "    epochs=10,\n",
    "    batch_size=1000\n",
    ")"
   ]
  },
  {
   "cell_type": "code",
   "execution_count": 151,
   "id": "f3c2c573",
   "metadata": {
    "ExecuteTime": {
     "end_time": "2022-07-29T15:44:02.078731Z",
     "start_time": "2022-07-29T15:43:47.760270Z"
    },
    "hidden": true
   },
   "outputs": [
    {
     "name": "stdout",
     "output_type": "stream",
     "text": [
      "4291/4291 [==============================] - 11s 3ms/step\n"
     ]
    },
    {
     "data": {
      "text/plain": [
       "0.546351659395961"
      ]
     },
     "execution_count": 151,
     "metadata": {},
     "output_type": "execute_result"
    }
   ],
   "source": [
    "X_numerical_test = combined_test_df[numerical_features].to_numpy()\n",
    "X_categorical_test = combined_test_df[categorical_features].to_numpy().astype(str)\n",
    "\n",
    "predictions_is_purchased_test = multi_task_model.predict(\n",
    "    [X_numerical_test, X_categorical_test]\n",
    ")\n",
    "predictions_is_purchased_test = (predictions_is_purchased_test[0] >= 0.5).astype(int).flatten()\n",
    "sum(predictions_is_purchased_test == combined_test_df['is_purchased'].values)/len(predictions_is_purchased_test)"
   ]
  },
  {
   "cell_type": "markdown",
   "id": "6ca23a74",
   "metadata": {
    "heading_collapsed": true,
    "hidden": true
   },
   "source": [
    "### Freezing layers"
   ]
  },
  {
   "cell_type": "code",
   "execution_count": 156,
   "id": "0a3fd6c0",
   "metadata": {
    "ExecuteTime": {
     "end_time": "2022-07-29T15:46:14.778102Z",
     "start_time": "2022-07-29T15:46:14.770204Z"
    },
    "hidden": true
   },
   "outputs": [
    {
     "name": "stdout",
     "output_type": "stream",
     "text": [
      "input_10, trainable: True\n",
      "string_lookup_4, trainable: True\n",
      "embedding_4, trainable: True\n",
      "input_9, trainable: True\n",
      "dense_31, trainable: True\n",
      "dense_30, trainable: True\n",
      "flatten_4, trainable: True\n",
      "concatenate_4, trainable: True\n",
      "dense_32, trainable: True\n",
      "is_purchased_layer_1, trainable: True\n",
      "has_purchased_category_layer_1, trainable: True\n",
      "is_purchased_layer_2, trainable: True\n",
      "has_purchased_category_layer_2, trainable: True\n",
      "is_purchased_output, trainable: True\n",
      "has_purchased_category_output, trainable: True\n"
     ]
    }
   ],
   "source": [
    "for layer in multi_task_model.layers:\n",
    "    print(f'{layer.name}, trainable: {layer.trainable}')"
   ]
  },
  {
   "cell_type": "code",
   "execution_count": 157,
   "id": "a39df343",
   "metadata": {
    "ExecuteTime": {
     "end_time": "2022-07-29T15:47:25.552715Z",
     "start_time": "2022-07-29T15:47:25.543102Z"
    },
    "hidden": true
   },
   "outputs": [],
   "source": [
    "for layer in multi_task_model.layers:\n",
    "    if layer.name in [\n",
    "        'has_purchased_category_layer_1',\n",
    "        'has_purchased_category_layer_2',\n",
    "        'has_purchased_category_output'\n",
    "    ]:\n",
    "        layer.trainable = False"
   ]
  },
  {
   "cell_type": "code",
   "execution_count": 158,
   "id": "f6900fdf",
   "metadata": {
    "ExecuteTime": {
     "end_time": "2022-07-29T15:47:29.159811Z",
     "start_time": "2022-07-29T15:47:29.151743Z"
    },
    "hidden": true
   },
   "outputs": [
    {
     "name": "stdout",
     "output_type": "stream",
     "text": [
      "input_10, trainable: True\n",
      "string_lookup_4, trainable: True\n",
      "embedding_4, trainable: True\n",
      "input_9, trainable: True\n",
      "dense_31, trainable: True\n",
      "dense_30, trainable: True\n",
      "flatten_4, trainable: True\n",
      "concatenate_4, trainable: True\n",
      "dense_32, trainable: True\n",
      "is_purchased_layer_1, trainable: True\n",
      "has_purchased_category_layer_1, trainable: False\n",
      "is_purchased_layer_2, trainable: True\n",
      "has_purchased_category_layer_2, trainable: False\n",
      "is_purchased_output, trainable: True\n",
      "has_purchased_category_output, trainable: False\n"
     ]
    }
   ],
   "source": [
    "for layer in multi_task_model.layers:\n",
    "    print(f'{layer.name}, trainable: {layer.trainable}')"
   ]
  },
  {
   "cell_type": "code",
   "execution_count": 159,
   "id": "c22d293e",
   "metadata": {
    "ExecuteTime": {
     "end_time": "2022-07-29T15:48:07.862445Z",
     "start_time": "2022-07-29T15:48:07.829481Z"
    },
    "hidden": true
   },
   "outputs": [],
   "source": [
    "multi_task_model.compile(\n",
    "    loss=tf.keras.losses.BinaryCrossentropy(from_logits=False),\n",
    "    optimizer=tf.keras.optimizers.Adagrad(learning_rate=0.1),\n",
    "    metrics=[tf.keras.metrics.BinaryAccuracy()]\n",
    ")"
   ]
  },
  {
   "cell_type": "code",
   "execution_count": 160,
   "id": "c1a08e94",
   "metadata": {
    "ExecuteTime": {
     "end_time": "2022-07-29T15:48:33.975010Z",
     "start_time": "2022-07-29T15:48:08.671850Z"
    },
    "hidden": true
   },
   "outputs": [
    {
     "name": "stdout",
     "output_type": "stream",
     "text": [
      "Epoch 1/10\n",
      "314/314 [==============================] - 4s 8ms/step - loss: 0.7757 - is_purchased_output_loss: 0.4811 - has_purchased_category_output_loss: 0.2946 - is_purchased_output_binary_accuracy: 0.7762 - has_purchased_category_output_binary_accuracy: 0.8720\n",
      "Epoch 2/10\n",
      "314/314 [==============================] - 2s 7ms/step - loss: 0.7651 - is_purchased_output_loss: 0.4749 - has_purchased_category_output_loss: 0.2902 - is_purchased_output_binary_accuracy: 0.7794 - has_purchased_category_output_binary_accuracy: 0.8736\n",
      "Epoch 3/10\n",
      "314/314 [==============================] - 2s 7ms/step - loss: 0.7637 - is_purchased_output_loss: 0.4742 - has_purchased_category_output_loss: 0.2895 - is_purchased_output_binary_accuracy: 0.7796 - has_purchased_category_output_binary_accuracy: 0.8740\n",
      "Epoch 4/10\n",
      "314/314 [==============================] - 2s 7ms/step - loss: 0.7620 - is_purchased_output_loss: 0.4733 - has_purchased_category_output_loss: 0.2888 - is_purchased_output_binary_accuracy: 0.7805 - has_purchased_category_output_binary_accuracy: 0.8742\n",
      "Epoch 5/10\n",
      "314/314 [==============================] - 2s 8ms/step - loss: 0.7612 - is_purchased_output_loss: 0.4728 - has_purchased_category_output_loss: 0.2884 - is_purchased_output_binary_accuracy: 0.7808 - has_purchased_category_output_binary_accuracy: 0.8741\n",
      "Epoch 6/10\n",
      "314/314 [==============================] - 2s 8ms/step - loss: 0.7602 - is_purchased_output_loss: 0.4722 - has_purchased_category_output_loss: 0.2880 - is_purchased_output_binary_accuracy: 0.7809 - has_purchased_category_output_binary_accuracy: 0.8741\n",
      "Epoch 7/10\n",
      "314/314 [==============================] - 2s 8ms/step - loss: 0.7597 - is_purchased_output_loss: 0.4719 - has_purchased_category_output_loss: 0.2877 - is_purchased_output_binary_accuracy: 0.7812 - has_purchased_category_output_binary_accuracy: 0.8744\n",
      "Epoch 8/10\n",
      "314/314 [==============================] - 2s 8ms/step - loss: 0.7587 - is_purchased_output_loss: 0.4715 - has_purchased_category_output_loss: 0.2872 - is_purchased_output_binary_accuracy: 0.7814 - has_purchased_category_output_binary_accuracy: 0.8745\n",
      "Epoch 9/10\n",
      "314/314 [==============================] - 2s 8ms/step - loss: 0.7584 - is_purchased_output_loss: 0.4714 - has_purchased_category_output_loss: 0.2870 - is_purchased_output_binary_accuracy: 0.7813 - has_purchased_category_output_binary_accuracy: 0.8747\n",
      "Epoch 10/10\n",
      "314/314 [==============================] - 2s 8ms/step - loss: 0.7576 - is_purchased_output_loss: 0.4709 - has_purchased_category_output_loss: 0.2867 - is_purchased_output_binary_accuracy: 0.7818 - has_purchased_category_output_binary_accuracy: 0.8749\n"
     ]
    }
   ],
   "source": [
    "history = multi_task_model.fit(\n",
    "    [X_numerical, X_categorical],\n",
    "    [y_is_purchased, y_has_purchased_category],\n",
    "    epochs=10,\n",
    "    batch_size=1000\n",
    ")"
   ]
  },
  {
   "cell_type": "markdown",
   "id": "7cd3477c",
   "metadata": {
    "heading_collapsed": true
   },
   "source": [
    "# Contextual Bandits"
   ]
  },
  {
   "cell_type": "markdown",
   "id": "1332d170",
   "metadata": {
    "heading_collapsed": true,
    "hidden": true
   },
   "source": [
    "## Setting up"
   ]
  },
  {
   "cell_type": "code",
   "execution_count": 16,
   "id": "c2d43ddd",
   "metadata": {
    "ExecuteTime": {
     "end_time": "2022-07-29T16:46:59.304109Z",
     "start_time": "2022-07-29T16:46:59.297108Z"
    },
    "hidden": true
   },
   "outputs": [],
   "source": [
    "import numpy as np\n",
    "import fileinput\n",
    "import random\n",
    "import time"
   ]
  },
  {
   "cell_type": "markdown",
   "id": "ceaa8e6c",
   "metadata": {
    "heading_collapsed": true,
    "hidden": true
   },
   "source": [
    "## Getting data"
   ]
  },
  {
   "cell_type": "code",
   "execution_count": 9,
   "id": "8bea9fce",
   "metadata": {
    "ExecuteTime": {
     "end_time": "2022-07-29T16:27:01.623054Z",
     "start_time": "2022-07-29T16:27:01.616967Z"
    },
    "hidden": true
   },
   "outputs": [],
   "source": [
    "files = ('../data/yahoo/data.txt')"
   ]
  },
  {
   "cell_type": "code",
   "execution_count": 10,
   "id": "b96d6b93",
   "metadata": {
    "ExecuteTime": {
     "end_time": "2022-07-29T16:27:02.017915Z",
     "start_time": "2022-07-29T16:27:01.993703Z"
    },
    "hidden": true
   },
   "outputs": [],
   "source": [
    "def read_data(filenames):\n",
    "    \"\"\"\n",
    "    Reads a stream of events from the list of given files.\n",
    "    \n",
    "    Parameters\n",
    "    ----------\n",
    "    filenames : list\n",
    "        List of filenames\n",
    "    \n",
    "    Stores\n",
    "    -------    \n",
    "    articles : [article_ids]\n",
    "    features : [[article_1_features] .. [article_n_features]]\n",
    "    events : [\n",
    "                 0 : displayed_article_index (relative to the pool),\n",
    "                 1 : user_click,\n",
    "                 2 : [user_features],\n",
    "                 3 : [pool_indexes]\n",
    "             ]\n",
    "    \"\"\"\n",
    "\n",
    "    global articles, features, events, n_arms, n_events\n",
    "    articles = []\n",
    "    features = []\n",
    "    events = []\n",
    "\n",
    "    skipped = 0\n",
    "\n",
    "    with fileinput.input(files=filenames) as f:\n",
    "        for line in f:\n",
    "            cols = line.split()\n",
    "            if (len(cols) - 10) % 7 != 0:\n",
    "                skipped += 1\n",
    "            else:\n",
    "                pool_idx = []\n",
    "                pool_ids = []\n",
    "                for i in range(10, len(cols) - 6, 7):\n",
    "                    id = cols[i][1:]\n",
    "                    if id not in articles:\n",
    "                        articles.append(id)\n",
    "                        features.append([float(x[2:]) for x in cols[i + 1: i + 7]])\n",
    "                    pool_idx.append(articles.index(id))\n",
    "                    pool_ids.append(id)\n",
    "\n",
    "                events.append(\n",
    "                    [\n",
    "                        pool_ids.index(cols[1]),\n",
    "                        int(cols[2]),\n",
    "                        [float(x[2:]) for x in cols[4:10]],\n",
    "                        pool_idx,\n",
    "                    ]\n",
    "                )\n",
    "    features = np.array(features)\n",
    "    n_arms = len(articles)\n",
    "    n_events = len(events)\n",
    "    print(n_events, \"events with\", n_arms, \"articles\")\n",
    "    if skipped != 0:\n",
    "        print(\"Skipped events:\", skipped)"
   ]
  },
  {
   "cell_type": "code",
   "execution_count": 11,
   "id": "beaf26eb",
   "metadata": {
    "ExecuteTime": {
     "end_time": "2022-07-29T16:27:07.319951Z",
     "start_time": "2022-07-29T16:27:02.636537Z"
    },
    "hidden": true
   },
   "outputs": [
    {
     "name": "stdout",
     "output_type": "stream",
     "text": [
      "100000 events with 21 articles\n"
     ]
    }
   ],
   "source": [
    "read_data(files)"
   ]
  },
  {
   "cell_type": "markdown",
   "id": "80b5b605",
   "metadata": {
    "heading_collapsed": true,
    "hidden": true
   },
   "source": [
    "## Evaluating policies"
   ]
  },
  {
   "cell_type": "code",
   "execution_count": 17,
   "id": "72784529",
   "metadata": {
    "ExecuteTime": {
     "end_time": "2022-07-29T16:49:14.293151Z",
     "start_time": "2022-07-29T16:49:14.264177Z"
    },
    "hidden": true
   },
   "outputs": [],
   "source": [
    "def evaluate(A, size=100, learn_ratio = 0.9):\n",
    "    '''\n",
    "    Policy evaluator as described in the paper\n",
    "    Parameters\n",
    "    ----------\n",
    "    A : class (algorithm)\n",
    "    size : number (run the evaluation only on a portion of the dataset)\n",
    "    learn_ratio : number (perform learning(update parameters) only on a small portion of the traffic)\n",
    "    Returns\n",
    "    -------\n",
    "    learn : array (contains the ctr for each trial for the learning bucket)\n",
    "    deploy : array (contains the ctr for each trial for the deployment bucket)\n",
    "    '''\n",
    "    \n",
    "    start = time.time()\n",
    "    # we initialize the payoff and events parameters separately for learning phase of the events and deployment phase of events.\n",
    "    Payoff_deploy = 0 # total payoff for the deployment bucket\n",
    "    Payoff_learn = 0  # total payoff for the learning bucket\n",
    "    Events_deploy = 1 # counter of valid events for the deployment bucket\n",
    "    Events_learn = 0  # counter of valid events for the learning bucket\n",
    "\n",
    "    learn = []\n",
    "    deploy = []\n",
    "    global events\n",
    "    if size != 100:\n",
    "        k = int(n_events * size / 100)\n",
    "        events = random.sample(events, k)\n",
    "\n",
    "    '''\n",
    "    we run through the logged events, and treat each event either for learning & updating the parameters,\n",
    "    or for deployment purposes wherein we use the reward obtained as evaluation metric\n",
    "    '''\n",
    "    for t, event in enumerate(events):\n",
    "\n",
    "        displayed = event[0]\n",
    "        reward = event[1]\n",
    "        user = event[2]\n",
    "        pool_idx = event[3]\n",
    "\n",
    "        # select the arm based on the bandit policy\n",
    "        chosen = A.choose_arm(Payoff_learn + Payoff_deploy, user, pool_idx)\n",
    "        \n",
    "        '''\n",
    "        If, given the current history ht−1, it happens that the policy A chooses the same arm a\n",
    "        as the one that was selected by the logging policy, then the event is retained\n",
    "        (that is, added to the history), and the total payoff updated.\n",
    "        Otherwise, if the policy A selects a different arm from the one that was taken by the logging policy,\n",
    "        then the event is entirely ignored, and the algorithm proceeds to the next event without any change in its state.\n",
    "        '''\n",
    "        if chosen == displayed:\n",
    "            if random.random() < learn_ratio:\n",
    "                Payoff_learn += event[1]\n",
    "                Events_learn += 1\n",
    "                A.update(displayed, reward, user, pool_idx)\n",
    "                learn.append(Payoff_learn / Events_learn)\n",
    "            else:\n",
    "                Payoff_deploy += event[1]\n",
    "                Events_deploy += 1\n",
    "                deploy.append(Payoff_deploy / Events_deploy)\n",
    "\n",
    "    end = time.time()\n",
    "\n",
    "    execution_time = round(end - start, 1)\n",
    "    execution_time = (\n",
    "        str(round(execution_time / 60, 1)) + 'm'\n",
    "        if execution_time > 60\n",
    "        else str(execution_time) + 's'\n",
    "    )\n",
    "    print(\n",
    "        '{:<20}{:<10}{}'.format(\n",
    "            A.algorithm, round(Payoff_deploy / Events_deploy, 4), execution_time\n",
    "        )\n",
    "    )\n",
    "\n",
    "    return learn, deploy"
   ]
  },
  {
   "cell_type": "markdown",
   "id": "d4685c47",
   "metadata": {
    "heading_collapsed": true,
    "hidden": true
   },
   "source": [
    "## ϵ-greedy"
   ]
  },
  {
   "cell_type": "code",
   "execution_count": 15,
   "id": "07149f98",
   "metadata": {
    "ExecuteTime": {
     "end_time": "2022-07-29T16:41:01.612200Z",
     "start_time": "2022-07-29T16:41:01.590470Z"
    },
    "hidden": true
   },
   "outputs": [],
   "source": [
    "class Egreedy:\n",
    "    '''\n",
    "    Epsilon greedy algorithm implementation\n",
    "    '''\n",
    "\n",
    "    def __init__(self, epsilon):\n",
    "        '''\n",
    "        Parameters\n",
    "        ----------\n",
    "        epsilon : number (Egreedy parameter, ideally between 0 and 1)\n",
    "        '''\n",
    "\n",
    "        self.e = round(epsilon, 1)  # epsilon parameter for Egreedy \n",
    "        self.algorithm = f'Egreedy (ε={self.e})'\n",
    "        self.q = np.zeros(n_arms)  # average reward for each arm -- this represents the known mean reward for each arm\n",
    "        self.n = np.zeros(n_arms)  # number of times each arm was chosen\n",
    "\n",
    "    def choose_arm(self, t, user, pool_idx):\n",
    "        '''\n",
    "        Returns the best arm's index relative to the pool\n",
    "        Parameters\n",
    "        ----------\n",
    "        t : number (number of trial)\n",
    "        user : array (user features)\n",
    "        pool_idx : array of indexes (pool indexes for article identification)\n",
    "        '''\n",
    "\n",
    "        p = np.random.rand()\n",
    "        if p > self.e:\n",
    "            return np.argmax(self.q[pool_idx])\n",
    "        else:\n",
    "            return np.random.randint(low=0, high=len(pool_idx))\n",
    "\n",
    "    def update(self, displayed, reward, user, pool_idx):\n",
    "        '''\n",
    "        Updates algorithm's parameters(matrices)\n",
    "        Parameters\n",
    "        ----------\n",
    "        displayed : index (displayed article index relative to the pool)\n",
    "        reward : binary (user clicked or not)\n",
    "        user : array (user features)\n",
    "        pool_idx : array of indexes (pool indexes for article identification)\n",
    "        '''\n",
    "\n",
    "        a = pool_idx[displayed]\n",
    "        \n",
    "        # update counts pulled for chosen arm\n",
    "        self.n[a] += 1\n",
    "        \n",
    "        # update average/mean value/reward for chosen arm\n",
    "        self.q[a] += (reward - self.q[a]) / self.n[a]\n",
    "        '''\n",
    "        this can also be written as:\n",
    "        value = self.q[a]\n",
    "        new_value = ((self.n[a]-1)/float(self.n[a])) * value + (1 / float(self.n[a])) * reward\n",
    "        self.q[a] = new_value\n",
    "        '''"
   ]
  },
  {
   "cell_type": "code",
   "execution_count": 24,
   "id": "0592f29f",
   "metadata": {
    "ExecuteTime": {
     "end_time": "2022-07-29T16:52:12.852671Z",
     "start_time": "2022-07-29T16:52:10.060481Z"
    },
    "hidden": true
   },
   "outputs": [
    {
     "name": "stdout",
     "output_type": "stream",
     "text": [
      "Egreedy (ε=0.1)     0.0444    1.1s\n",
      "Egreedy (ε=0.5)     0.0222    0.9s\n",
      "Egreedy (ε=0.9)     0.0323    0.7s\n"
     ]
    }
   ],
   "source": [
    "_, deploy = evaluate(Egreedy(0.1),learn_ratio=0.99)\n",
    "rnd_ctr = deploy[-1]\n",
    "\n",
    "_, deploy = evaluate(Egreedy(0.5),learn_ratio=0.99)\n",
    "rnd_ctr = deploy[-1]\n",
    "\n",
    "_, deploy = evaluate(Egreedy(0.9),learn_ratio=0.99)\n",
    "rnd_ctr = deploy[-1]"
   ]
  },
  {
   "cell_type": "markdown",
   "id": "2881c45a",
   "metadata": {
    "heading_collapsed": true,
    "hidden": true
   },
   "source": [
    "## UCB-1"
   ]
  },
  {
   "cell_type": "code",
   "execution_count": 36,
   "id": "c5297bd9",
   "metadata": {
    "ExecuteTime": {
     "end_time": "2022-07-29T17:08:03.502251Z",
     "start_time": "2022-07-29T17:08:03.483916Z"
    },
    "hidden": true
   },
   "outputs": [],
   "source": [
    "class Ucb1:\n",
    "    def __init__(self, alpha):\n",
    "        '''\n",
    "        Parameters\n",
    "        ----------\n",
    "        alpha : number (ucb parameter)\n",
    "        '''\n",
    "\n",
    "        self.alpha = round(alpha, 1)\n",
    "        self.algorithm = f'UCB1 (α={self.alpha})'\n",
    "\n",
    "        self.q = np.zeros(n_arms)  # average reward for each arm\n",
    "        self.n = np.ones(n_arms)  # number of times each arm was chosen\n",
    "\n",
    "    def choose_arm(self, t, user, pool_idx):\n",
    "        '''\n",
    "        Returns the best arm's index relative to the pool\n",
    "        Parameters\n",
    "        ----------\n",
    "        t : number (number of trial)\n",
    "        user : array (user features)\n",
    "        pool_idx : array of indexes (pool indexes for article identification)\n",
    "        '''\n",
    "        \n",
    "        upper_bounds = self.q[pool_idx] + np.sqrt( self.alpha*np.log(t+1) / self.n[pool_idx] )\n",
    "        \n",
    "        return np.argmax(upper_bounds)\n",
    "\n",
    "    def update(self, displayed, reward, user, pool_idx):\n",
    "        '''\n",
    "        Updates algorithm's parameters(matrices)\n",
    "        Parameters\n",
    "        ----------\n",
    "        displayed : index (displayed article index relative to the pool)\n",
    "        reward : binary (user clicked or not)\n",
    "        user : array (user features)\n",
    "        pool_idx : array of indexes (pool indexes for article identification)\n",
    "        '''\n",
    "\n",
    "        a = pool_idx[displayed]\n",
    "        \n",
    "        # update counts pulled for chosen arm\n",
    "        self.n[a] += 1\n",
    "        \n",
    "        # update average/mean value/reward for chosen arm\n",
    "        self.q[a] += (reward - self.q[a]) / self.n[a]\n"
   ]
  },
  {
   "cell_type": "code",
   "execution_count": 37,
   "id": "b33c8546",
   "metadata": {
    "ExecuteTime": {
     "end_time": "2022-07-29T17:08:06.394187Z",
     "start_time": "2022-07-29T17:08:03.918870Z"
    },
    "hidden": true
   },
   "outputs": [
    {
     "name": "stdout",
     "output_type": "stream",
     "text": [
      "UCB1 (α=2)          0.0488    2.5s\n"
     ]
    }
   ],
   "source": [
    "_, deploy = evaluate(Ucb1(2),learn_ratio=0.99)\n",
    "rnd_ctr = deploy[-1]"
   ]
  }
 ],
 "metadata": {
  "kernelspec": {
   "display_name": "Python 3 (ipykernel)",
   "language": "python",
   "name": "python3"
  },
  "language_info": {
   "codemirror_mode": {
    "name": "ipython",
    "version": 3
   },
   "file_extension": ".py",
   "mimetype": "text/x-python",
   "name": "python",
   "nbconvert_exporter": "python",
   "pygments_lexer": "ipython3",
   "version": "3.8.13"
  }
 },
 "nbformat": 4,
 "nbformat_minor": 5
}
