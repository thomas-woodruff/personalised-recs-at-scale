{
 "cells": [
  {
   "cell_type": "markdown",
   "id": "fd6389ea",
   "metadata": {
    "heading_collapsed": true
   },
   "source": [
    "# Setting up"
   ]
  },
  {
   "cell_type": "code",
   "execution_count": 1,
   "id": "0ef5b434",
   "metadata": {
    "ExecuteTime": {
     "end_time": "2022-07-17T12:49:47.120883Z",
     "start_time": "2022-07-17T12:49:39.893020Z"
    },
    "hidden": true
   },
   "outputs": [],
   "source": [
    "import pandas as pd\n",
    "import numpy as np\n",
    "\n",
    "import os\n",
    "os.environ['TF_CPP_MIN_LOG_LEVEL'] = '2' \n",
    "\n",
    "import tensorflow as tf\n",
    "import tensorflow_recommenders as tfrs\n",
    "\n",
    "import seaborn as sns\n",
    "from matplotlib import pyplot as plt\n",
    "\n",
    "from tqdm.notebook import tqdm\n",
    "from pathlib import Path\n",
    "from typing import Dict, Text\n",
    "import random\n",
    "from collections import Counter"
   ]
  },
  {
   "cell_type": "code",
   "execution_count": 2,
   "id": "bb93f27b",
   "metadata": {
    "ExecuteTime": {
     "end_time": "2022-07-17T12:49:47.131157Z",
     "start_time": "2022-07-17T12:49:47.126937Z"
    },
    "hidden": true
   },
   "outputs": [],
   "source": [
    "pd.set_option('display.max_columns', None)\n",
    "pd.set_option('display.max_rows', None)"
   ]
  },
  {
   "cell_type": "markdown",
   "id": "6ae24229",
   "metadata": {},
   "source": [
    "# Getting data"
   ]
  },
  {
   "cell_type": "markdown",
   "id": "8e22108d",
   "metadata": {
    "heading_collapsed": true
   },
   "source": [
    "## Inspecting data"
   ]
  },
  {
   "cell_type": "code",
   "execution_count": 3,
   "id": "2387006d",
   "metadata": {
    "ExecuteTime": {
     "end_time": "2022-07-17T12:49:47.183530Z",
     "start_time": "2022-07-17T12:49:47.134707Z"
    },
    "hidden": true
   },
   "outputs": [
    {
     "data": {
      "text/html": [
       "<div>\n",
       "<style scoped>\n",
       "    .dataframe tbody tr th:only-of-type {\n",
       "        vertical-align: middle;\n",
       "    }\n",
       "\n",
       "    .dataframe tbody tr th {\n",
       "        vertical-align: top;\n",
       "    }\n",
       "\n",
       "    .dataframe thead th {\n",
       "        text-align: right;\n",
       "    }\n",
       "</style>\n",
       "<table border=\"1\" class=\"dataframe\">\n",
       "  <thead>\n",
       "    <tr style=\"text-align: right;\">\n",
       "      <th></th>\n",
       "      <th>article_id</th>\n",
       "      <th>product_code</th>\n",
       "      <th>prod_name</th>\n",
       "      <th>product_type_no</th>\n",
       "      <th>product_type_name</th>\n",
       "      <th>product_group_name</th>\n",
       "      <th>graphical_appearance_no</th>\n",
       "      <th>graphical_appearance_name</th>\n",
       "      <th>colour_group_code</th>\n",
       "      <th>colour_group_name</th>\n",
       "      <th>perceived_colour_value_id</th>\n",
       "      <th>perceived_colour_value_name</th>\n",
       "      <th>perceived_colour_master_id</th>\n",
       "      <th>perceived_colour_master_name</th>\n",
       "      <th>department_no</th>\n",
       "      <th>department_name</th>\n",
       "      <th>index_code</th>\n",
       "      <th>index_name</th>\n",
       "      <th>index_group_no</th>\n",
       "      <th>index_group_name</th>\n",
       "      <th>section_no</th>\n",
       "      <th>section_name</th>\n",
       "      <th>garment_group_no</th>\n",
       "      <th>garment_group_name</th>\n",
       "      <th>detail_desc</th>\n",
       "    </tr>\n",
       "  </thead>\n",
       "  <tbody>\n",
       "    <tr>\n",
       "      <th>0</th>\n",
       "      <td>108775015</td>\n",
       "      <td>108775</td>\n",
       "      <td>Strap top</td>\n",
       "      <td>253</td>\n",
       "      <td>Vest top</td>\n",
       "      <td>Garment Upper body</td>\n",
       "      <td>1010016</td>\n",
       "      <td>Solid</td>\n",
       "      <td>9</td>\n",
       "      <td>Black</td>\n",
       "      <td>4</td>\n",
       "      <td>Dark</td>\n",
       "      <td>5</td>\n",
       "      <td>Black</td>\n",
       "      <td>1676</td>\n",
       "      <td>Jersey Basic</td>\n",
       "      <td>A</td>\n",
       "      <td>Ladieswear</td>\n",
       "      <td>1</td>\n",
       "      <td>Ladieswear</td>\n",
       "      <td>16</td>\n",
       "      <td>Womens Everyday Basics</td>\n",
       "      <td>1002</td>\n",
       "      <td>Jersey Basic</td>\n",
       "      <td>Jersey top with narrow shoulder straps.</td>\n",
       "    </tr>\n",
       "    <tr>\n",
       "      <th>1</th>\n",
       "      <td>108775044</td>\n",
       "      <td>108775</td>\n",
       "      <td>Strap top</td>\n",
       "      <td>253</td>\n",
       "      <td>Vest top</td>\n",
       "      <td>Garment Upper body</td>\n",
       "      <td>1010016</td>\n",
       "      <td>Solid</td>\n",
       "      <td>10</td>\n",
       "      <td>White</td>\n",
       "      <td>3</td>\n",
       "      <td>Light</td>\n",
       "      <td>9</td>\n",
       "      <td>White</td>\n",
       "      <td>1676</td>\n",
       "      <td>Jersey Basic</td>\n",
       "      <td>A</td>\n",
       "      <td>Ladieswear</td>\n",
       "      <td>1</td>\n",
       "      <td>Ladieswear</td>\n",
       "      <td>16</td>\n",
       "      <td>Womens Everyday Basics</td>\n",
       "      <td>1002</td>\n",
       "      <td>Jersey Basic</td>\n",
       "      <td>Jersey top with narrow shoulder straps.</td>\n",
       "    </tr>\n",
       "    <tr>\n",
       "      <th>2</th>\n",
       "      <td>108775051</td>\n",
       "      <td>108775</td>\n",
       "      <td>Strap top (1)</td>\n",
       "      <td>253</td>\n",
       "      <td>Vest top</td>\n",
       "      <td>Garment Upper body</td>\n",
       "      <td>1010017</td>\n",
       "      <td>Stripe</td>\n",
       "      <td>11</td>\n",
       "      <td>Off White</td>\n",
       "      <td>1</td>\n",
       "      <td>Dusty Light</td>\n",
       "      <td>9</td>\n",
       "      <td>White</td>\n",
       "      <td>1676</td>\n",
       "      <td>Jersey Basic</td>\n",
       "      <td>A</td>\n",
       "      <td>Ladieswear</td>\n",
       "      <td>1</td>\n",
       "      <td>Ladieswear</td>\n",
       "      <td>16</td>\n",
       "      <td>Womens Everyday Basics</td>\n",
       "      <td>1002</td>\n",
       "      <td>Jersey Basic</td>\n",
       "      <td>Jersey top with narrow shoulder straps.</td>\n",
       "    </tr>\n",
       "    <tr>\n",
       "      <th>3</th>\n",
       "      <td>110065001</td>\n",
       "      <td>110065</td>\n",
       "      <td>OP T-shirt (Idro)</td>\n",
       "      <td>306</td>\n",
       "      <td>Bra</td>\n",
       "      <td>Underwear</td>\n",
       "      <td>1010016</td>\n",
       "      <td>Solid</td>\n",
       "      <td>9</td>\n",
       "      <td>Black</td>\n",
       "      <td>4</td>\n",
       "      <td>Dark</td>\n",
       "      <td>5</td>\n",
       "      <td>Black</td>\n",
       "      <td>1339</td>\n",
       "      <td>Clean Lingerie</td>\n",
       "      <td>B</td>\n",
       "      <td>Lingeries/Tights</td>\n",
       "      <td>1</td>\n",
       "      <td>Ladieswear</td>\n",
       "      <td>61</td>\n",
       "      <td>Womens Lingerie</td>\n",
       "      <td>1017</td>\n",
       "      <td>Under-, Nightwear</td>\n",
       "      <td>Microfibre T-shirt bra with underwired, moulde...</td>\n",
       "    </tr>\n",
       "    <tr>\n",
       "      <th>4</th>\n",
       "      <td>110065002</td>\n",
       "      <td>110065</td>\n",
       "      <td>OP T-shirt (Idro)</td>\n",
       "      <td>306</td>\n",
       "      <td>Bra</td>\n",
       "      <td>Underwear</td>\n",
       "      <td>1010016</td>\n",
       "      <td>Solid</td>\n",
       "      <td>10</td>\n",
       "      <td>White</td>\n",
       "      <td>3</td>\n",
       "      <td>Light</td>\n",
       "      <td>9</td>\n",
       "      <td>White</td>\n",
       "      <td>1339</td>\n",
       "      <td>Clean Lingerie</td>\n",
       "      <td>B</td>\n",
       "      <td>Lingeries/Tights</td>\n",
       "      <td>1</td>\n",
       "      <td>Ladieswear</td>\n",
       "      <td>61</td>\n",
       "      <td>Womens Lingerie</td>\n",
       "      <td>1017</td>\n",
       "      <td>Under-, Nightwear</td>\n",
       "      <td>Microfibre T-shirt bra with underwired, moulde...</td>\n",
       "    </tr>\n",
       "  </tbody>\n",
       "</table>\n",
       "</div>"
      ],
      "text/plain": [
       "   article_id  product_code          prod_name  product_type_no  \\\n",
       "0   108775015        108775          Strap top              253   \n",
       "1   108775044        108775          Strap top              253   \n",
       "2   108775051        108775      Strap top (1)              253   \n",
       "3   110065001        110065  OP T-shirt (Idro)              306   \n",
       "4   110065002        110065  OP T-shirt (Idro)              306   \n",
       "\n",
       "  product_type_name  product_group_name  graphical_appearance_no  \\\n",
       "0          Vest top  Garment Upper body                  1010016   \n",
       "1          Vest top  Garment Upper body                  1010016   \n",
       "2          Vest top  Garment Upper body                  1010017   \n",
       "3               Bra           Underwear                  1010016   \n",
       "4               Bra           Underwear                  1010016   \n",
       "\n",
       "  graphical_appearance_name  colour_group_code colour_group_name  \\\n",
       "0                     Solid                  9             Black   \n",
       "1                     Solid                 10             White   \n",
       "2                    Stripe                 11         Off White   \n",
       "3                     Solid                  9             Black   \n",
       "4                     Solid                 10             White   \n",
       "\n",
       "   perceived_colour_value_id perceived_colour_value_name  \\\n",
       "0                          4                        Dark   \n",
       "1                          3                       Light   \n",
       "2                          1                 Dusty Light   \n",
       "3                          4                        Dark   \n",
       "4                          3                       Light   \n",
       "\n",
       "   perceived_colour_master_id perceived_colour_master_name  department_no  \\\n",
       "0                           5                        Black           1676   \n",
       "1                           9                        White           1676   \n",
       "2                           9                        White           1676   \n",
       "3                           5                        Black           1339   \n",
       "4                           9                        White           1339   \n",
       "\n",
       "  department_name index_code        index_name  index_group_no  \\\n",
       "0    Jersey Basic          A        Ladieswear               1   \n",
       "1    Jersey Basic          A        Ladieswear               1   \n",
       "2    Jersey Basic          A        Ladieswear               1   \n",
       "3  Clean Lingerie          B  Lingeries/Tights               1   \n",
       "4  Clean Lingerie          B  Lingeries/Tights               1   \n",
       "\n",
       "  index_group_name  section_no            section_name  garment_group_no  \\\n",
       "0       Ladieswear          16  Womens Everyday Basics              1002   \n",
       "1       Ladieswear          16  Womens Everyday Basics              1002   \n",
       "2       Ladieswear          16  Womens Everyday Basics              1002   \n",
       "3       Ladieswear          61         Womens Lingerie              1017   \n",
       "4       Ladieswear          61         Womens Lingerie              1017   \n",
       "\n",
       "  garment_group_name                                        detail_desc  \n",
       "0       Jersey Basic            Jersey top with narrow shoulder straps.  \n",
       "1       Jersey Basic            Jersey top with narrow shoulder straps.  \n",
       "2       Jersey Basic            Jersey top with narrow shoulder straps.  \n",
       "3  Under-, Nightwear  Microfibre T-shirt bra with underwired, moulde...  \n",
       "4  Under-, Nightwear  Microfibre T-shirt bra with underwired, moulde...  "
      ]
     },
     "execution_count": 3,
     "metadata": {},
     "output_type": "execute_result"
    }
   ],
   "source": [
    "pd.read_csv(\"../data/../data/hmdata/articles.csv.zip\", nrows=5)"
   ]
  },
  {
   "cell_type": "code",
   "execution_count": 4,
   "id": "7889341c",
   "metadata": {
    "ExecuteTime": {
     "end_time": "2022-07-17T12:49:47.210414Z",
     "start_time": "2022-07-17T12:49:47.186769Z"
    },
    "hidden": true
   },
   "outputs": [
    {
     "data": {
      "text/html": [
       "<div>\n",
       "<style scoped>\n",
       "    .dataframe tbody tr th:only-of-type {\n",
       "        vertical-align: middle;\n",
       "    }\n",
       "\n",
       "    .dataframe tbody tr th {\n",
       "        vertical-align: top;\n",
       "    }\n",
       "\n",
       "    .dataframe thead th {\n",
       "        text-align: right;\n",
       "    }\n",
       "</style>\n",
       "<table border=\"1\" class=\"dataframe\">\n",
       "  <thead>\n",
       "    <tr style=\"text-align: right;\">\n",
       "      <th></th>\n",
       "      <th>customer_id</th>\n",
       "      <th>FN</th>\n",
       "      <th>Active</th>\n",
       "      <th>club_member_status</th>\n",
       "      <th>fashion_news_frequency</th>\n",
       "      <th>age</th>\n",
       "      <th>postal_code</th>\n",
       "    </tr>\n",
       "  </thead>\n",
       "  <tbody>\n",
       "    <tr>\n",
       "      <th>0</th>\n",
       "      <td>00000dbacae5abe5e23885899a1fa44253a17956c6d1c3...</td>\n",
       "      <td>NaN</td>\n",
       "      <td>NaN</td>\n",
       "      <td>ACTIVE</td>\n",
       "      <td>NONE</td>\n",
       "      <td>49</td>\n",
       "      <td>52043ee2162cf5aa7ee79974281641c6f11a68d276429a...</td>\n",
       "    </tr>\n",
       "    <tr>\n",
       "      <th>1</th>\n",
       "      <td>0000423b00ade91418cceaf3b26c6af3dd342b51fd051e...</td>\n",
       "      <td>NaN</td>\n",
       "      <td>NaN</td>\n",
       "      <td>ACTIVE</td>\n",
       "      <td>NONE</td>\n",
       "      <td>25</td>\n",
       "      <td>2973abc54daa8a5f8ccfe9362140c63247c5eee03f1d93...</td>\n",
       "    </tr>\n",
       "    <tr>\n",
       "      <th>2</th>\n",
       "      <td>000058a12d5b43e67d225668fa1f8d618c13dc232df0ca...</td>\n",
       "      <td>NaN</td>\n",
       "      <td>NaN</td>\n",
       "      <td>ACTIVE</td>\n",
       "      <td>NONE</td>\n",
       "      <td>24</td>\n",
       "      <td>64f17e6a330a85798e4998f62d0930d14db8db1c054af6...</td>\n",
       "    </tr>\n",
       "    <tr>\n",
       "      <th>3</th>\n",
       "      <td>00005ca1c9ed5f5146b52ac8639a40ca9d57aeff4d1bd2...</td>\n",
       "      <td>NaN</td>\n",
       "      <td>NaN</td>\n",
       "      <td>ACTIVE</td>\n",
       "      <td>NONE</td>\n",
       "      <td>54</td>\n",
       "      <td>5d36574f52495e81f019b680c843c443bd343d5ca5b1c2...</td>\n",
       "    </tr>\n",
       "    <tr>\n",
       "      <th>4</th>\n",
       "      <td>00006413d8573cd20ed7128e53b7b13819fe5cfc2d801f...</td>\n",
       "      <td>1.0</td>\n",
       "      <td>1.0</td>\n",
       "      <td>ACTIVE</td>\n",
       "      <td>Regularly</td>\n",
       "      <td>52</td>\n",
       "      <td>25fa5ddee9aac01b35208d01736e57942317d756b32ddd...</td>\n",
       "    </tr>\n",
       "  </tbody>\n",
       "</table>\n",
       "</div>"
      ],
      "text/plain": [
       "                                         customer_id   FN  Active  \\\n",
       "0  00000dbacae5abe5e23885899a1fa44253a17956c6d1c3...  NaN     NaN   \n",
       "1  0000423b00ade91418cceaf3b26c6af3dd342b51fd051e...  NaN     NaN   \n",
       "2  000058a12d5b43e67d225668fa1f8d618c13dc232df0ca...  NaN     NaN   \n",
       "3  00005ca1c9ed5f5146b52ac8639a40ca9d57aeff4d1bd2...  NaN     NaN   \n",
       "4  00006413d8573cd20ed7128e53b7b13819fe5cfc2d801f...  1.0     1.0   \n",
       "\n",
       "  club_member_status fashion_news_frequency  age  \\\n",
       "0             ACTIVE                   NONE   49   \n",
       "1             ACTIVE                   NONE   25   \n",
       "2             ACTIVE                   NONE   24   \n",
       "3             ACTIVE                   NONE   54   \n",
       "4             ACTIVE              Regularly   52   \n",
       "\n",
       "                                         postal_code  \n",
       "0  52043ee2162cf5aa7ee79974281641c6f11a68d276429a...  \n",
       "1  2973abc54daa8a5f8ccfe9362140c63247c5eee03f1d93...  \n",
       "2  64f17e6a330a85798e4998f62d0930d14db8db1c054af6...  \n",
       "3  5d36574f52495e81f019b680c843c443bd343d5ca5b1c2...  \n",
       "4  25fa5ddee9aac01b35208d01736e57942317d756b32ddd...  "
      ]
     },
     "execution_count": 4,
     "metadata": {},
     "output_type": "execute_result"
    }
   ],
   "source": [
    "pd.read_csv(\"../data/../data/hmdata/customers.csv.zip\", nrows=5)"
   ]
  },
  {
   "cell_type": "code",
   "execution_count": 5,
   "id": "51064816",
   "metadata": {
    "ExecuteTime": {
     "end_time": "2022-07-17T12:49:47.231012Z",
     "start_time": "2022-07-17T12:49:47.213158Z"
    },
    "hidden": true
   },
   "outputs": [
    {
     "data": {
      "text/html": [
       "<div>\n",
       "<style scoped>\n",
       "    .dataframe tbody tr th:only-of-type {\n",
       "        vertical-align: middle;\n",
       "    }\n",
       "\n",
       "    .dataframe tbody tr th {\n",
       "        vertical-align: top;\n",
       "    }\n",
       "\n",
       "    .dataframe thead th {\n",
       "        text-align: right;\n",
       "    }\n",
       "</style>\n",
       "<table border=\"1\" class=\"dataframe\">\n",
       "  <thead>\n",
       "    <tr style=\"text-align: right;\">\n",
       "      <th></th>\n",
       "      <th>t_dat</th>\n",
       "      <th>customer_id</th>\n",
       "      <th>article_id</th>\n",
       "      <th>price</th>\n",
       "      <th>sales_channel_id</th>\n",
       "    </tr>\n",
       "  </thead>\n",
       "  <tbody>\n",
       "    <tr>\n",
       "      <th>0</th>\n",
       "      <td>2018-09-20</td>\n",
       "      <td>000058a12d5b43e67d225668fa1f8d618c13dc232df0ca...</td>\n",
       "      <td>663713001</td>\n",
       "      <td>0.050831</td>\n",
       "      <td>2</td>\n",
       "    </tr>\n",
       "    <tr>\n",
       "      <th>1</th>\n",
       "      <td>2018-09-20</td>\n",
       "      <td>000058a12d5b43e67d225668fa1f8d618c13dc232df0ca...</td>\n",
       "      <td>541518023</td>\n",
       "      <td>0.030492</td>\n",
       "      <td>2</td>\n",
       "    </tr>\n",
       "    <tr>\n",
       "      <th>2</th>\n",
       "      <td>2018-09-20</td>\n",
       "      <td>00007d2de826758b65a93dd24ce629ed66842531df6699...</td>\n",
       "      <td>505221004</td>\n",
       "      <td>0.015237</td>\n",
       "      <td>2</td>\n",
       "    </tr>\n",
       "    <tr>\n",
       "      <th>3</th>\n",
       "      <td>2018-09-20</td>\n",
       "      <td>00007d2de826758b65a93dd24ce629ed66842531df6699...</td>\n",
       "      <td>685687003</td>\n",
       "      <td>0.016932</td>\n",
       "      <td>2</td>\n",
       "    </tr>\n",
       "    <tr>\n",
       "      <th>4</th>\n",
       "      <td>2018-09-20</td>\n",
       "      <td>00007d2de826758b65a93dd24ce629ed66842531df6699...</td>\n",
       "      <td>685687004</td>\n",
       "      <td>0.016932</td>\n",
       "      <td>2</td>\n",
       "    </tr>\n",
       "  </tbody>\n",
       "</table>\n",
       "</div>"
      ],
      "text/plain": [
       "        t_dat                                        customer_id  article_id  \\\n",
       "0  2018-09-20  000058a12d5b43e67d225668fa1f8d618c13dc232df0ca...   663713001   \n",
       "1  2018-09-20  000058a12d5b43e67d225668fa1f8d618c13dc232df0ca...   541518023   \n",
       "2  2018-09-20  00007d2de826758b65a93dd24ce629ed66842531df6699...   505221004   \n",
       "3  2018-09-20  00007d2de826758b65a93dd24ce629ed66842531df6699...   685687003   \n",
       "4  2018-09-20  00007d2de826758b65a93dd24ce629ed66842531df6699...   685687004   \n",
       "\n",
       "      price  sales_channel_id  \n",
       "0  0.050831                 2  \n",
       "1  0.030492                 2  \n",
       "2  0.015237                 2  \n",
       "3  0.016932                 2  \n",
       "4  0.016932                 2  "
      ]
     },
     "execution_count": 5,
     "metadata": {},
     "output_type": "execute_result"
    }
   ],
   "source": [
    "pd.read_csv('../data/../data/hmdata/transactions_train.csv.zip', nrows=5)"
   ]
  },
  {
   "cell_type": "markdown",
   "id": "5d3141c8",
   "metadata": {},
   "source": [
    "## Splitting data"
   ]
  },
  {
   "cell_type": "code",
   "execution_count": 6,
   "id": "54c80cd8",
   "metadata": {
    "ExecuteTime": {
     "end_time": "2022-07-17T12:49:47.243597Z",
     "start_time": "2022-07-17T12:49:47.234333Z"
    }
   },
   "outputs": [],
   "source": [
    "def get_train_test_dates(all_data_df):\n",
    "    all_data_df['t_dat'] = pd.to_datetime(all_data_df['t_dat'])\n",
    "    test_end_date = (all_data_df['t_dat'].max() + pd.Timedelta(days=1))\n",
    "    test_start_date = test_end_date - pd.Timedelta(days=7)\n",
    "    train_start_date = test_start_date - pd.Timedelta(days=7*6)\n",
    "    \n",
    "    print('train start date:', train_start_date)\n",
    "    print('test start date:', test_start_date)\n",
    "    print('test end date:', test_end_date)\n",
    "    \n",
    "    return train_start_date, test_start_date, test_end_date"
   ]
  },
  {
   "cell_type": "code",
   "execution_count": 7,
   "id": "4b8700a5",
   "metadata": {
    "ExecuteTime": {
     "end_time": "2022-07-17T12:49:47.255095Z",
     "start_time": "2022-07-17T12:49:47.247090Z"
    }
   },
   "outputs": [],
   "source": [
    "def get_df(\n",
    "    start_date,\n",
    "    end_date\n",
    "):\n",
    "    df = all_data_df.loc[\n",
    "        (all_data_df['t_dat'] >= start_date)\n",
    "        & (all_data_df['t_dat'] < end_date),\n",
    "        :\n",
    "    ]\n",
    "    \n",
    "    return df\n",
    "\n",
    "def get_train_df():\n",
    "    train_start_date, test_start_date, test_end_date = get_train_test_dates(all_data_df)\n",
    "    train_df = get_df(train_start_date, test_start_date)\n",
    "    \n",
    "    return train_df\n",
    "\n",
    "def get_test_df():\n",
    "    train_start_date, test_start_date, test_end_date = get_train_test_dates(all_data_df)\n",
    "    test_df = get_df(test_start_date, test_end_date)\n",
    "    \n",
    "    return test_df"
   ]
  },
  {
   "cell_type": "markdown",
   "id": "991e0871",
   "metadata": {},
   "source": [
    "## Cleaning data"
   ]
  },
  {
   "cell_type": "code",
   "execution_count": 8,
   "id": "90416658",
   "metadata": {
    "ExecuteTime": {
     "end_time": "2022-07-17T12:49:47.262679Z",
     "start_time": "2022-07-17T12:49:47.257635Z"
    }
   },
   "outputs": [],
   "source": [
    "def clean_article_id(\n",
    "    df\n",
    "):\n",
    "    df = df.copy()\n",
    "    df['article_id'] = df['article_id'].astype(str)\n",
    "    # zfill adds zeros (0) at the beginning of the string, until it reaches the specified length\n",
    "    df['article_id'] = df['article_id'].apply(lambda x: x.zfill(10))\n",
    "    \n",
    "    return df"
   ]
  },
  {
   "cell_type": "markdown",
   "id": "d6f30042",
   "metadata": {},
   "source": [
    "## Munging data"
   ]
  },
  {
   "cell_type": "code",
   "execution_count": 9,
   "id": "b3a8bd3a",
   "metadata": {
    "ExecuteTime": {
     "end_time": "2022-07-17T12:49:47.270991Z",
     "start_time": "2022-07-17T12:49:47.265808Z"
    }
   },
   "outputs": [],
   "source": [
    "article_columns = [\n",
    "    'garment_group_name'\n",
    "]\n",
    "\n",
    "def add_article_features(\n",
    "    df\n",
    "):\n",
    "    df = df.join(\n",
    "        article_df.set_index('article_id')[article_columns],\n",
    "        on='article_id'\n",
    "    )\n",
    "    \n",
    "    return df"
   ]
  },
  {
   "cell_type": "code",
   "execution_count": 10,
   "id": "4695fe54",
   "metadata": {
    "ExecuteTime": {
     "end_time": "2022-07-17T12:49:47.281838Z",
     "start_time": "2022-07-17T12:49:47.276357Z"
    }
   },
   "outputs": [],
   "source": [
    "customer_columns = [\n",
    "    'age'\n",
    "]\n",
    "\n",
    "def add_customer_features(\n",
    "    df\n",
    "):\n",
    "    df = df.join(\n",
    "        customer_df.set_index('customer_id')[customer_columns],\n",
    "        on='customer_id'\n",
    "    )\n",
    "    \n",
    "    return df"
   ]
  },
  {
   "cell_type": "code",
   "execution_count": 11,
   "id": "5f1a39dd",
   "metadata": {
    "ExecuteTime": {
     "end_time": "2022-07-17T12:49:47.288975Z",
     "start_time": "2022-07-17T12:49:47.284308Z"
    }
   },
   "outputs": [],
   "source": [
    "def add_features(\n",
    "    df\n",
    "):\n",
    "    df = add_article_features(df)\n",
    "    df = add_customer_features(df)\n",
    "    \n",
    "    return df"
   ]
  },
  {
   "cell_type": "markdown",
   "id": "479271ca",
   "metadata": {},
   "source": [
    "## Preparing data"
   ]
  },
  {
   "cell_type": "code",
   "execution_count": 12,
   "id": "03c997d7",
   "metadata": {
    "ExecuteTime": {
     "end_time": "2022-07-17T12:49:48.033768Z",
     "start_time": "2022-07-17T12:49:47.291816Z"
    }
   },
   "outputs": [],
   "source": [
    "article_df = pd.read_csv(\"../data/../data/hmdata/articles.csv.zip\")\n",
    "article_df = clean_article_id(article_df)"
   ]
  },
  {
   "cell_type": "code",
   "execution_count": 13,
   "id": "85041fd5",
   "metadata": {
    "ExecuteTime": {
     "end_time": "2022-07-17T12:49:53.153633Z",
     "start_time": "2022-07-17T12:49:48.037184Z"
    }
   },
   "outputs": [],
   "source": [
    "customer_df = pd.read_csv(\"../data/../data/hmdata/customers.csv.zip\")"
   ]
  },
  {
   "cell_type": "code",
   "execution_count": 14,
   "id": "6a48a659",
   "metadata": {
    "ExecuteTime": {
     "end_time": "2022-07-17T12:50:41.826754Z",
     "start_time": "2022-07-17T12:49:53.156493Z"
    }
   },
   "outputs": [],
   "source": [
    "all_data_df = pd.read_csv('../data/../data/hmdata/transactions_train.csv.zip')"
   ]
  },
  {
   "cell_type": "code",
   "execution_count": 15,
   "id": "6acd74ae",
   "metadata": {
    "ExecuteTime": {
     "end_time": "2022-07-17T12:50:47.343736Z",
     "start_time": "2022-07-17T12:50:41.831295Z"
    }
   },
   "outputs": [
    {
     "name": "stdout",
     "output_type": "stream",
     "text": [
      "train start date: 2020-08-05 00:00:00\n",
      "test start date: 2020-09-16 00:00:00\n",
      "test end date: 2020-09-23 00:00:00\n"
     ]
    },
    {
     "data": {
      "text/html": [
       "<div>\n",
       "<style scoped>\n",
       "    .dataframe tbody tr th:only-of-type {\n",
       "        vertical-align: middle;\n",
       "    }\n",
       "\n",
       "    .dataframe tbody tr th {\n",
       "        vertical-align: top;\n",
       "    }\n",
       "\n",
       "    .dataframe thead th {\n",
       "        text-align: right;\n",
       "    }\n",
       "</style>\n",
       "<table border=\"1\" class=\"dataframe\">\n",
       "  <thead>\n",
       "    <tr style=\"text-align: right;\">\n",
       "      <th></th>\n",
       "      <th>t_dat</th>\n",
       "      <th>customer_id</th>\n",
       "      <th>article_id</th>\n",
       "      <th>price</th>\n",
       "      <th>sales_channel_id</th>\n",
       "      <th>garment_group_name</th>\n",
       "      <th>age</th>\n",
       "    </tr>\n",
       "  </thead>\n",
       "  <tbody>\n",
       "    <tr>\n",
       "      <th>29933918</th>\n",
       "      <td>2020-08-05</td>\n",
       "      <td>0011e0bd4c39195ff342c0ca0ac0601ce2b943a8265506...</td>\n",
       "      <td>0751471042</td>\n",
       "      <td>0.032746</td>\n",
       "      <td>2</td>\n",
       "      <td>Trousers</td>\n",
       "      <td>22.0</td>\n",
       "    </tr>\n",
       "    <tr>\n",
       "      <th>29933919</th>\n",
       "      <td>2020-08-05</td>\n",
       "      <td>0011e0bd4c39195ff342c0ca0ac0601ce2b943a8265506...</td>\n",
       "      <td>0824499006</td>\n",
       "      <td>0.065525</td>\n",
       "      <td>2</td>\n",
       "      <td>Dressed</td>\n",
       "      <td>22.0</td>\n",
       "    </tr>\n",
       "    <tr>\n",
       "      <th>29933920</th>\n",
       "      <td>2020-08-05</td>\n",
       "      <td>0011e0bd4c39195ff342c0ca0ac0601ce2b943a8265506...</td>\n",
       "      <td>0824499006</td>\n",
       "      <td>0.065525</td>\n",
       "      <td>2</td>\n",
       "      <td>Dressed</td>\n",
       "      <td>22.0</td>\n",
       "    </tr>\n",
       "    <tr>\n",
       "      <th>29933921</th>\n",
       "      <td>2020-08-05</td>\n",
       "      <td>0011e0bd4c39195ff342c0ca0ac0601ce2b943a8265506...</td>\n",
       "      <td>0913688001</td>\n",
       "      <td>0.032746</td>\n",
       "      <td>2</td>\n",
       "      <td>Blouses</td>\n",
       "      <td>22.0</td>\n",
       "    </tr>\n",
       "    <tr>\n",
       "      <th>29933922</th>\n",
       "      <td>2020-08-05</td>\n",
       "      <td>0013bde09d10db6b0a6a3b0987ac60b643013dfc6f924b...</td>\n",
       "      <td>0776237020</td>\n",
       "      <td>0.025407</td>\n",
       "      <td>2</td>\n",
       "      <td>Swimwear</td>\n",
       "      <td>27.0</td>\n",
       "    </tr>\n",
       "  </tbody>\n",
       "</table>\n",
       "</div>"
      ],
      "text/plain": [
       "              t_dat                                        customer_id  \\\n",
       "29933918 2020-08-05  0011e0bd4c39195ff342c0ca0ac0601ce2b943a8265506...   \n",
       "29933919 2020-08-05  0011e0bd4c39195ff342c0ca0ac0601ce2b943a8265506...   \n",
       "29933920 2020-08-05  0011e0bd4c39195ff342c0ca0ac0601ce2b943a8265506...   \n",
       "29933921 2020-08-05  0011e0bd4c39195ff342c0ca0ac0601ce2b943a8265506...   \n",
       "29933922 2020-08-05  0013bde09d10db6b0a6a3b0987ac60b643013dfc6f924b...   \n",
       "\n",
       "          article_id     price  sales_channel_id garment_group_name   age  \n",
       "29933918  0751471042  0.032746                 2           Trousers  22.0  \n",
       "29933919  0824499006  0.065525                 2            Dressed  22.0  \n",
       "29933920  0824499006  0.065525                 2            Dressed  22.0  \n",
       "29933921  0913688001  0.032746                 2            Blouses  22.0  \n",
       "29933922  0776237020  0.025407                 2           Swimwear  27.0  "
      ]
     },
     "execution_count": 15,
     "metadata": {},
     "output_type": "execute_result"
    }
   ],
   "source": [
    "train_df = get_train_df()\n",
    "train_df = clean_article_id(train_df)\n",
    "train_df = add_features(train_df)\n",
    "\n",
    "train_df.head()"
   ]
  },
  {
   "cell_type": "code",
   "execution_count": 16,
   "id": "4b03a11e",
   "metadata": {
    "ExecuteTime": {
     "end_time": "2022-07-17T12:50:48.816937Z",
     "start_time": "2022-07-17T12:50:47.346762Z"
    }
   },
   "outputs": [
    {
     "name": "stdout",
     "output_type": "stream",
     "text": [
      "train start date: 2020-08-05 00:00:00\n",
      "test start date: 2020-09-16 00:00:00\n",
      "test end date: 2020-09-23 00:00:00\n"
     ]
    },
    {
     "data": {
      "text/html": [
       "<div>\n",
       "<style scoped>\n",
       "    .dataframe tbody tr th:only-of-type {\n",
       "        vertical-align: middle;\n",
       "    }\n",
       "\n",
       "    .dataframe tbody tr th {\n",
       "        vertical-align: top;\n",
       "    }\n",
       "\n",
       "    .dataframe thead th {\n",
       "        text-align: right;\n",
       "    }\n",
       "</style>\n",
       "<table border=\"1\" class=\"dataframe\">\n",
       "  <thead>\n",
       "    <tr style=\"text-align: right;\">\n",
       "      <th></th>\n",
       "      <th>t_dat</th>\n",
       "      <th>customer_id</th>\n",
       "      <th>article_id</th>\n",
       "      <th>price</th>\n",
       "      <th>sales_channel_id</th>\n",
       "      <th>garment_group_name</th>\n",
       "      <th>age</th>\n",
       "    </tr>\n",
       "  </thead>\n",
       "  <tbody>\n",
       "    <tr>\n",
       "      <th>31548013</th>\n",
       "      <td>2020-09-16</td>\n",
       "      <td>000fb6e772c5d0023892065e659963da90b1866035558e...</td>\n",
       "      <td>0786022008</td>\n",
       "      <td>0.048441</td>\n",
       "      <td>2</td>\n",
       "      <td>Dresses Ladies</td>\n",
       "      <td>42.0</td>\n",
       "    </tr>\n",
       "    <tr>\n",
       "      <th>31548014</th>\n",
       "      <td>2020-09-16</td>\n",
       "      <td>000fb6e772c5d0023892065e659963da90b1866035558e...</td>\n",
       "      <td>0913272003</td>\n",
       "      <td>0.032288</td>\n",
       "      <td>2</td>\n",
       "      <td>Knitwear</td>\n",
       "      <td>42.0</td>\n",
       "    </tr>\n",
       "    <tr>\n",
       "      <th>31548015</th>\n",
       "      <td>2020-09-16</td>\n",
       "      <td>000fb6e772c5d0023892065e659963da90b1866035558e...</td>\n",
       "      <td>0889669006</td>\n",
       "      <td>0.056508</td>\n",
       "      <td>2</td>\n",
       "      <td>Trousers</td>\n",
       "      <td>42.0</td>\n",
       "    </tr>\n",
       "    <tr>\n",
       "      <th>31548016</th>\n",
       "      <td>2020-09-16</td>\n",
       "      <td>0010e8eb18f131e724d6997909af0808adbba057529edb...</td>\n",
       "      <td>0237347060</td>\n",
       "      <td>0.033881</td>\n",
       "      <td>1</td>\n",
       "      <td>Jersey Basic</td>\n",
       "      <td>25.0</td>\n",
       "    </tr>\n",
       "    <tr>\n",
       "      <th>31548017</th>\n",
       "      <td>2020-09-16</td>\n",
       "      <td>0010e8eb18f131e724d6997909af0808adbba057529edb...</td>\n",
       "      <td>0562245001</td>\n",
       "      <td>0.013542</td>\n",
       "      <td>1</td>\n",
       "      <td>Trousers</td>\n",
       "      <td>25.0</td>\n",
       "    </tr>\n",
       "  </tbody>\n",
       "</table>\n",
       "</div>"
      ],
      "text/plain": [
       "              t_dat                                        customer_id  \\\n",
       "31548013 2020-09-16  000fb6e772c5d0023892065e659963da90b1866035558e...   \n",
       "31548014 2020-09-16  000fb6e772c5d0023892065e659963da90b1866035558e...   \n",
       "31548015 2020-09-16  000fb6e772c5d0023892065e659963da90b1866035558e...   \n",
       "31548016 2020-09-16  0010e8eb18f131e724d6997909af0808adbba057529edb...   \n",
       "31548017 2020-09-16  0010e8eb18f131e724d6997909af0808adbba057529edb...   \n",
       "\n",
       "          article_id     price  sales_channel_id garment_group_name   age  \n",
       "31548013  0786022008  0.048441                 2     Dresses Ladies  42.0  \n",
       "31548014  0913272003  0.032288                 2           Knitwear  42.0  \n",
       "31548015  0889669006  0.056508                 2           Trousers  42.0  \n",
       "31548016  0237347060  0.033881                 1       Jersey Basic  25.0  \n",
       "31548017  0562245001  0.013542                 1           Trousers  25.0  "
      ]
     },
     "execution_count": 16,
     "metadata": {},
     "output_type": "execute_result"
    }
   ],
   "source": [
    "test_df = get_test_df()\n",
    "test_df = clean_article_id(test_df)\n",
    "test_df = add_features(test_df)\n",
    "\n",
    "test_df.head()"
   ]
  },
  {
   "cell_type": "code",
   "execution_count": 17,
   "id": "bc8e795d",
   "metadata": {
    "ExecuteTime": {
     "end_time": "2022-07-17T12:50:48.825586Z",
     "start_time": "2022-07-17T12:50:48.819844Z"
    }
   },
   "outputs": [
    {
     "name": "stdout",
     "output_type": "stream",
     "text": [
      "number of training samples: 1614095\n",
      "number of test samples: 240311\n"
     ]
    }
   ],
   "source": [
    "print('number of training samples:', len(train_df))\n",
    "print('number of test samples:', len(test_df))"
   ]
  },
  {
   "cell_type": "markdown",
   "id": "afebd919",
   "metadata": {},
   "source": [
    "# Building candidate generators"
   ]
  },
  {
   "cell_type": "markdown",
   "id": "c2d41130",
   "metadata": {
    "heading_collapsed": true
   },
   "source": [
    "## Helpers"
   ]
  },
  {
   "cell_type": "code",
   "execution_count": 18,
   "id": "96f6c67c",
   "metadata": {
    "ExecuteTime": {
     "end_time": "2022-07-17T12:50:49.009501Z",
     "start_time": "2022-07-17T12:50:48.828362Z"
    },
    "hidden": true
   },
   "outputs": [
    {
     "data": {
      "text/plain": [
       "32792"
      ]
     },
     "execution_count": 18,
     "metadata": {},
     "output_type": "execute_result"
    }
   ],
   "source": [
    "all_train_articles = set(train_df['article_id'])\n",
    "len(all_train_articles)"
   ]
  },
  {
   "cell_type": "code",
   "execution_count": 19,
   "id": "7c0cf20b",
   "metadata": {
    "ExecuteTime": {
     "end_time": "2022-07-17T12:50:49.222727Z",
     "start_time": "2022-07-17T12:50:49.012603Z"
    },
    "hidden": true
   },
   "outputs": [
    {
     "data": {
      "text/plain": [
       "312215"
      ]
     },
     "execution_count": 19,
     "metadata": {},
     "output_type": "execute_result"
    }
   ],
   "source": [
    "all_train_customers = set(train_df['customer_id'])\n",
    "len(all_train_customers)"
   ]
  },
  {
   "cell_type": "markdown",
   "id": "5a5a18cb",
   "metadata": {
    "heading_collapsed": true
   },
   "source": [
    "## Random"
   ]
  },
  {
   "cell_type": "code",
   "execution_count": 20,
   "id": "3414f811",
   "metadata": {
    "ExecuteTime": {
     "end_time": "2022-07-17T12:50:49.255625Z",
     "start_time": "2022-07-17T12:50:49.227640Z"
    },
    "hidden": true
   },
   "outputs": [],
   "source": [
    "def get_random_candidates(\n",
    "    customer_id,\n",
    "    num_candidates,\n",
    "    all_articles=None\n",
    "):\n",
    "    if not all_articles:\n",
    "        all_articles = set(train_df['article_id'])\n",
    "    \n",
    "    random_articles = list(random.sample(all_articles, num_candidates))\n",
    "    \n",
    "    return random_articles"
   ]
  },
  {
   "cell_type": "code",
   "execution_count": 21,
   "id": "fe7f72e8",
   "metadata": {
    "ExecuteTime": {
     "end_time": "2022-07-17T12:50:49.275488Z",
     "start_time": "2022-07-17T12:50:49.261049Z"
    },
    "hidden": true
   },
   "outputs": [
    {
     "data": {
      "text/plain": [
       "['0794321002', '0901452003', '0894766003']"
      ]
     },
     "execution_count": 21,
     "metadata": {},
     "output_type": "execute_result"
    }
   ],
   "source": [
    "# with all articles specified\n",
    "get_random_candidates(\n",
    "    customer_id=None,\n",
    "    num_candidates=3,\n",
    "    all_articles=all_train_articles\n",
    ")"
   ]
  },
  {
   "cell_type": "code",
   "execution_count": 22,
   "id": "25534d50",
   "metadata": {
    "ExecuteTime": {
     "end_time": "2022-07-17T12:50:49.510399Z",
     "start_time": "2022-07-17T12:50:49.281157Z"
    },
    "hidden": true
   },
   "outputs": [
    {
     "data": {
      "text/plain": [
       "['0863308002', '0841668001', '0589662003']"
      ]
     },
     "execution_count": 22,
     "metadata": {},
     "output_type": "execute_result"
    }
   ],
   "source": [
    "# with all articles calculated\n",
    "get_random_candidates(\n",
    "    customer_id=None,\n",
    "    num_candidates=3\n",
    ")"
   ]
  },
  {
   "cell_type": "markdown",
   "id": "f2b1fecd",
   "metadata": {
    "heading_collapsed": true
   },
   "source": [
    "## Most popular"
   ]
  },
  {
   "cell_type": "code",
   "execution_count": 23,
   "id": "d07fa1ca",
   "metadata": {
    "ExecuteTime": {
     "end_time": "2022-07-17T12:50:49.520064Z",
     "start_time": "2022-07-17T12:50:49.514389Z"
    },
    "hidden": true
   },
   "outputs": [],
   "source": [
    "def get_most_popular_articles(\n",
    "    num_articles\n",
    "):\n",
    "    articles_counter = Counter(train_df['article_id'])\n",
    "    most_popular_articles = [article_id for article_id, _ in articles_counter.most_common(num_articles)]\n",
    "    \n",
    "    return most_popular_articles"
   ]
  },
  {
   "cell_type": "code",
   "execution_count": 24,
   "id": "21c1f922",
   "metadata": {
    "ExecuteTime": {
     "end_time": "2022-07-17T12:50:50.357814Z",
     "start_time": "2022-07-17T12:50:49.524147Z"
    },
    "hidden": true
   },
   "outputs": [],
   "source": [
    "most_popular_articles_3 = get_most_popular_articles(3)\n",
    "most_popular_articles_100 = get_most_popular_articles(100)\n",
    "most_popular_articles_1000 = get_most_popular_articles(1000)"
   ]
  },
  {
   "cell_type": "code",
   "execution_count": 25,
   "id": "888f13ff",
   "metadata": {
    "ExecuteTime": {
     "end_time": "2022-07-17T12:50:50.367359Z",
     "start_time": "2022-07-17T12:50:50.361765Z"
    },
    "hidden": true
   },
   "outputs": [],
   "source": [
    "def get_most_popular_candidates(\n",
    "    customer_id,\n",
    "    num_candidates,\n",
    "    most_popular_articles=None\n",
    "):\n",
    "    if not most_popular_articles:\n",
    "        most_popular_articles = get_most_popular_articles(num_candidates)\n",
    "    \n",
    "    assert len(most_popular_articles) == num_candidates,\\\n",
    "    f'most_popular_articles wrong length: {len(most_popular_articles)} != {num_candidates}'\n",
    "    \n",
    "    return most_popular_articles"
   ]
  },
  {
   "cell_type": "code",
   "execution_count": 26,
   "id": "47f0f82b",
   "metadata": {
    "ExecuteTime": {
     "end_time": "2022-07-17T12:50:50.378556Z",
     "start_time": "2022-07-17T12:50:50.369876Z"
    },
    "hidden": true
   },
   "outputs": [
    {
     "data": {
      "text/plain": [
       "['0751471001', '0706016001', '0918292001']"
      ]
     },
     "execution_count": 26,
     "metadata": {},
     "output_type": "execute_result"
    }
   ],
   "source": [
    "# with most popular articles specified\n",
    "get_most_popular_candidates(\n",
    "    customer_id=None,\n",
    "    num_candidates=3,\n",
    "    most_popular_articles=most_popular_articles_3\n",
    ")"
   ]
  },
  {
   "cell_type": "code",
   "execution_count": 27,
   "id": "55c13701",
   "metadata": {
    "ExecuteTime": {
     "end_time": "2022-07-17T12:50:50.661353Z",
     "start_time": "2022-07-17T12:50:50.381437Z"
    },
    "hidden": true
   },
   "outputs": [
    {
     "data": {
      "text/plain": [
       "['0751471001', '0706016001', '0918292001']"
      ]
     },
     "execution_count": 27,
     "metadata": {},
     "output_type": "execute_result"
    }
   ],
   "source": [
    "# with most popular articles calculated\n",
    "get_most_popular_candidates(\n",
    "    customer_id=None,\n",
    "    num_candidates=3\n",
    ")"
   ]
  },
  {
   "cell_type": "code",
   "execution_count": 28,
   "id": "665aed68",
   "metadata": {
    "ExecuteTime": {
     "end_time": "2022-07-17T12:50:50.671303Z",
     "start_time": "2022-07-17T12:50:50.667451Z"
    },
    "hidden": true
   },
   "outputs": [
    {
     "name": "stdout",
     "output_type": "stream",
     "text": [
      "most_popular_articles wrong length: 2 != 3\n"
     ]
    }
   ],
   "source": [
    "# with most popular articles incorrectly specified\n",
    "try:\n",
    "    get_most_popular_candidates(\n",
    "        customer_id=None,\n",
    "        num_candidates=3,\n",
    "        most_popular_articles=[1, 2]\n",
    "    )\n",
    "except AssertionError as e:\n",
    "    print(e)"
   ]
  },
  {
   "cell_type": "markdown",
   "id": "9ac49c17",
   "metadata": {
    "heading_collapsed": true
   },
   "source": [
    "## Most popular customer category\n",
    "\n",
    "- Find the categories that the customer has previously purchased from\n",
    "- Find the most popular articles from these categories"
   ]
  },
  {
   "cell_type": "code",
   "execution_count": 29,
   "id": "767113e5",
   "metadata": {
    "ExecuteTime": {
     "end_time": "2022-07-17T12:50:50.685192Z",
     "start_time": "2022-07-17T12:50:50.675557Z"
    },
    "hidden": true
   },
   "outputs": [],
   "source": [
    "def get_most_popular_customer_categories(\n",
    "    customer_id,\n",
    "    num_candidates,\n",
    "    most_popular_articles=None\n",
    "):\n",
    "    customer_train_df = train_df.loc[train_df['customer_id'] == customer_id, :]\n",
    "    if len(customer_train_df) == 0:\n",
    "        raise Exception('no customer training data')\n",
    "    \n",
    "    customer_categories = set(customer_train_df['garment_group_name'])\n",
    "    categories_train_df = train_df.loc[train_df['garment_group_name'].isin(customer_categories), :]\n",
    "    \n",
    "    articles_counter = Counter(categories_train_df['article_id'])\n",
    "    most_popular_articles = [article_id for article_id, _ in articles_counter.most_common(num_candidates)]\n",
    "    \n",
    "    return most_popular_articles"
   ]
  },
  {
   "cell_type": "code",
   "execution_count": 30,
   "id": "afb0fd7a",
   "metadata": {
    "ExecuteTime": {
     "end_time": "2022-07-17T12:50:50.993953Z",
     "start_time": "2022-07-17T12:50:50.688862Z"
    },
    "hidden": true
   },
   "outputs": [
    {
     "data": {
      "text/plain": [
       "['0758034001', '0812668001', '0464297007']"
      ]
     },
     "execution_count": 30,
     "metadata": {},
     "output_type": "execute_result"
    }
   ],
   "source": [
    "get_most_popular_customer_categories(\n",
    "    customer_id=train_df['customer_id'].sample(1).iloc[0],\n",
    "    num_candidates=3\n",
    ")"
   ]
  },
  {
   "cell_type": "code",
   "execution_count": 31,
   "id": "c2f3182b",
   "metadata": {
    "ExecuteTime": {
     "end_time": "2022-07-17T12:50:51.001394Z",
     "start_time": "2022-07-17T12:50:50.997041Z"
    },
    "hidden": true
   },
   "outputs": [],
   "source": [
    "def get_most_popular_customer_category_candidates(\n",
    "    customer_id,\n",
    "    num_candidates,\n",
    "    most_popular_articles=None\n",
    "):\n",
    "    \n",
    "    try:\n",
    "        most_popular_category_articles = get_most_popular_customer_categories(customer_id, num_candidates)\n",
    "        \n",
    "        return most_popular_category_articles\n",
    "    except:\n",
    "        most_popular_articles = get_most_popular_candidates(\n",
    "            customer_id,\n",
    "            num_candidates,\n",
    "            most_popular_articles\n",
    "        )\n",
    "        \n",
    "        return most_popular_articles"
   ]
  },
  {
   "cell_type": "code",
   "execution_count": 32,
   "id": "c28e4bfa",
   "metadata": {
    "ExecuteTime": {
     "end_time": "2022-07-17T12:50:51.331244Z",
     "start_time": "2022-07-17T12:50:51.004887Z"
    },
    "hidden": true
   },
   "outputs": [
    {
     "data": {
      "text/plain": [
       "['0918292001', '0916468003', '0915526001']"
      ]
     },
     "execution_count": 32,
     "metadata": {},
     "output_type": "execute_result"
    }
   ],
   "source": [
    "get_most_popular_customer_category_candidates(\n",
    "    customer_id=train_df['customer_id'].sample(1).iloc[0],\n",
    "    num_candidates=3\n",
    ")"
   ]
  },
  {
   "cell_type": "markdown",
   "id": "da3566b1",
   "metadata": {
    "heading_collapsed": true
   },
   "source": [
    "## Most popular customer price range\n",
    "\n",
    "- Find the mean price of articles the customer has previously purchased\n",
    "- Set the customer's price range to be within x% of this\n",
    "- Find the most popular articles within the customer's price range"
   ]
  },
  {
   "cell_type": "code",
   "execution_count": 33,
   "id": "f588cc3f",
   "metadata": {
    "ExecuteTime": {
     "end_time": "2022-07-17T12:50:51.342230Z",
     "start_time": "2022-07-17T12:50:51.335119Z"
    },
    "hidden": true
   },
   "outputs": [],
   "source": [
    "def get_most_popular_customer_price(\n",
    "    customer_id,\n",
    "    num_candidates,\n",
    "    most_popular_articles=None\n",
    "):\n",
    "    customer_train_df = train_df.loc[train_df['customer_id'] == customer_id, :]\n",
    "    if len(customer_train_df) == 0:\n",
    "        raise Exception('no customer training data')\n",
    "    \n",
    "    customer_mean_price = customer_train_df['price'].mean()\n",
    "    customer_lower_price = customer_mean_price * 0.8\n",
    "    customer_upper_price = customer_mean_price * 1.2\n",
    "    \n",
    "    price_train_df = train_df.loc[\n",
    "        train_df['price'].between(customer_lower_price, customer_upper_price), :]\n",
    "    \n",
    "    articles_counter = Counter(price_train_df['article_id'])\n",
    "    most_popular_articles = [article_id for article_id, _ in articles_counter.most_common(num_candidates)]\n",
    "    \n",
    "    return most_popular_articles"
   ]
  },
  {
   "cell_type": "code",
   "execution_count": 34,
   "id": "704d6720",
   "metadata": {
    "ExecuteTime": {
     "end_time": "2022-07-17T12:50:51.566656Z",
     "start_time": "2022-07-17T12:50:51.348332Z"
    },
    "hidden": true
   },
   "outputs": [
    {
     "data": {
      "text/plain": [
       "['0751471001', '0706016001', '0915526001']"
      ]
     },
     "execution_count": 34,
     "metadata": {},
     "output_type": "execute_result"
    }
   ],
   "source": [
    "get_most_popular_customer_price(\n",
    "    customer_id=train_df['customer_id'].sample(1).iloc[0],\n",
    "    num_candidates=3\n",
    ")"
   ]
  },
  {
   "cell_type": "code",
   "execution_count": 35,
   "id": "9895b8c4",
   "metadata": {
    "ExecuteTime": {
     "end_time": "2022-07-17T12:50:51.576217Z",
     "start_time": "2022-07-17T12:50:51.569789Z"
    },
    "hidden": true
   },
   "outputs": [],
   "source": [
    "def get_most_popular_customer_price_candidates(\n",
    "    customer_id,\n",
    "    num_candidates,\n",
    "    most_popular_articles=None\n",
    "):\n",
    "    \n",
    "    try:\n",
    "        most_popular_category_articles = get_most_popular_customer_price(customer_id, num_candidates)\n",
    "        \n",
    "        return most_popular_category_articles\n",
    "    except:\n",
    "        most_popular_articles = get_most_popular_candidates(\n",
    "            customer_id,\n",
    "            num_candidates,\n",
    "            most_popular_articles\n",
    "        )\n",
    "        \n",
    "        return most_popular_articles"
   ]
  },
  {
   "cell_type": "code",
   "execution_count": 36,
   "id": "c49b4d05",
   "metadata": {
    "ExecuteTime": {
     "end_time": "2022-07-17T12:50:51.811381Z",
     "start_time": "2022-07-17T12:50:51.582789Z"
    },
    "hidden": true
   },
   "outputs": [
    {
     "data": {
      "text/plain": [
       "['0751471001', '0918292001', '0706016001']"
      ]
     },
     "execution_count": 36,
     "metadata": {},
     "output_type": "execute_result"
    }
   ],
   "source": [
    "get_most_popular_customer_price_candidates(\n",
    "    customer_id=train_df['customer_id'].sample(1).iloc[0],\n",
    "    num_candidates=3\n",
    ")"
   ]
  },
  {
   "cell_type": "markdown",
   "id": "18c91099",
   "metadata": {},
   "source": [
    "## Two tower model\n",
    "\n",
    "- Two tower model using customer and article embeddings only"
   ]
  },
  {
   "cell_type": "markdown",
   "id": "b684c935",
   "metadata": {},
   "source": [
    "### Getting data"
   ]
  },
  {
   "cell_type": "code",
   "execution_count": 37,
   "id": "4fc853da",
   "metadata": {
    "ExecuteTime": {
     "end_time": "2022-07-17T12:55:24.432536Z",
     "start_time": "2022-07-17T12:55:05.108071Z"
    }
   },
   "outputs": [],
   "source": [
    "two_tower_features = [\n",
    "    'customer_id',\n",
    "    'article_id'\n",
    "]\n",
    "\n",
    "batch_size = 2048\n",
    "\n",
    "tf.random.set_seed(42)\n",
    "\n",
    "train_ds = tf.data.Dataset.from_tensor_slices(dict(train_df[two_tower_features]))\n",
    "train_ds = train_ds.shuffle(100_000).batch(batch_size)\n",
    "\n",
    "test_ds = tf.data.Dataset.from_tensor_slices(dict(test_df[two_tower_features]))\n",
    "test_ds = test_ds.batch(batch_size)"
   ]
  },
  {
   "cell_type": "code",
   "execution_count": 38,
   "id": "1b753a33",
   "metadata": {
    "ExecuteTime": {
     "end_time": "2022-07-17T12:55:24.514101Z",
     "start_time": "2022-07-17T12:55:24.435662Z"
    }
   },
   "outputs": [],
   "source": [
    "articles = test_ds.map(lambda x: x['article_id'])"
   ]
  },
  {
   "cell_type": "markdown",
   "id": "e6c7ff6f",
   "metadata": {},
   "source": [
    "### Building model"
   ]
  },
  {
   "cell_type": "code",
   "execution_count": 96,
   "id": "2bab62f4",
   "metadata": {
    "ExecuteTime": {
     "end_time": "2022-07-17T13:33:27.199677Z",
     "start_time": "2022-07-17T13:33:27.185108Z"
    }
   },
   "outputs": [],
   "source": [
    "customer_article_embedding_dimension = 64"
   ]
  },
  {
   "cell_type": "code",
   "execution_count": 97,
   "id": "069bddaf",
   "metadata": {
    "ExecuteTime": {
     "end_time": "2022-07-17T13:33:27.807208Z",
     "start_time": "2022-07-17T13:33:27.398516Z"
    }
   },
   "outputs": [],
   "source": [
    "customer_model = tf.keras.Sequential([\n",
    "    tf.keras.layers.StringLookup(\n",
    "        vocabulary=np.array(list(all_train_customers))\n",
    "    ),\n",
    "    tf.keras.layers.Embedding(\n",
    "        input_dim=len(all_train_customers) + 1,\n",
    "        output_dim=customer_article_embedding_dimension\n",
    "    ),\n",
    "    # Removed non-linear fully-connected layer\n",
    "])"
   ]
  },
  {
   "cell_type": "code",
   "execution_count": 98,
   "id": "8c928d17",
   "metadata": {
    "ExecuteTime": {
     "end_time": "2022-07-17T13:33:27.856183Z",
     "start_time": "2022-07-17T13:33:27.810284Z"
    }
   },
   "outputs": [],
   "source": [
    "article_model = tf.keras.Sequential([\n",
    "    tf.keras.layers.StringLookup(\n",
    "        vocabulary=np.array(list(all_train_articles))\n",
    "    ),\n",
    "    tf.keras.layers.Embedding(\n",
    "        input_dim=len(all_train_articles) + 1,\n",
    "        output_dim=customer_article_embedding_dimension\n",
    "    ),\n",
    "    # Removed non-linear fully-connected layer\n",
    "])"
   ]
  },
  {
   "cell_type": "code",
   "execution_count": 99,
   "id": "07e53a57",
   "metadata": {
    "ExecuteTime": {
     "end_time": "2022-07-17T13:33:27.865765Z",
     "start_time": "2022-07-17T13:33:27.859294Z"
    }
   },
   "outputs": [],
   "source": [
    "class TwoTowerModel(tfrs.Model):\n",
    "    \n",
    "    def __init__(\n",
    "        self,\n",
    "        customer_model,\n",
    "        article_model\n",
    "    ):\n",
    "        super().__init__()\n",
    "        \n",
    "        self.customer_model: tf.keras.Model = customer_model\n",
    "        self.article_model: tf.keras.Model = article_model\n",
    "            \n",
    "        self.task = tfrs.tasks.Retrieval()\n",
    "    \n",
    "    def compute_loss(\n",
    "        self,\n",
    "        features: Dict[Text, tf.Tensor],\n",
    "        training=False\n",
    "    ):\n",
    "        customer_embeddings = self.customer_model(features['customer_id'])\n",
    "        article_embeddings = self.article_model(features['article_id'])\n",
    "        \n",
    "        loss = self.task(\n",
    "            query_embeddings=customer_embeddings,\n",
    "            candidate_embeddings=article_embeddings\n",
    "        )\n",
    "        \n",
    "        return loss"
   ]
  },
  {
   "cell_type": "markdown",
   "id": "2a3af78b",
   "metadata": {},
   "source": [
    "### Training model"
   ]
  },
  {
   "cell_type": "code",
   "execution_count": 100,
   "id": "18c363c6",
   "metadata": {
    "ExecuteTime": {
     "end_time": "2022-07-17T13:33:28.340046Z",
     "start_time": "2022-07-17T13:33:28.320017Z"
    }
   },
   "outputs": [],
   "source": [
    "two_tower_model = TwoTowerModel(customer_model, article_model)\n",
    "two_tower_model.compile(optimizer=tf.keras.optimizers.Adagrad(learning_rate=0.01))"
   ]
  },
  {
   "cell_type": "code",
   "execution_count": 101,
   "id": "b591ff07",
   "metadata": {
    "ExecuteTime": {
     "end_time": "2022-07-17T13:35:40.040578Z",
     "start_time": "2022-07-17T13:33:28.739236Z"
    }
   },
   "outputs": [
    {
     "name": "stdout",
     "output_type": "stream",
     "text": [
      "Epoch 1/4\n",
      "789/789 [==============================] - 34s 42ms/step - loss: 15578.4814 - regularization_loss: 0.0000e+00 - total_loss: 15578.4814 - val_loss: 4547.9976 - val_regularization_loss: 0.0000e+00 - val_total_loss: 4547.9976\n",
      "Epoch 2/4\n",
      "789/789 [==============================] - 33s 42ms/step - loss: 15567.8875 - regularization_loss: 0.0000e+00 - total_loss: 15567.8875 - val_loss: 4547.9399 - val_regularization_loss: 0.0000e+00 - val_total_loss: 4547.9399\n",
      "Epoch 3/4\n",
      "789/789 [==============================] - 33s 42ms/step - loss: 15548.9341 - regularization_loss: 0.0000e+00 - total_loss: 15548.9341 - val_loss: 4547.7500 - val_regularization_loss: 0.0000e+00 - val_total_loss: 4547.7500\n",
      "Epoch 4/4\n",
      "789/789 [==============================] - 31s 40ms/step - loss: 15512.9608 - regularization_loss: 0.0000e+00 - total_loss: 15512.9608 - val_loss: 4547.2847 - val_regularization_loss: 0.0000e+00 - val_total_loss: 4547.2847\n"
     ]
    }
   ],
   "source": [
    "two_tower_history = two_tower_model.fit(\n",
    "    train_ds,\n",
    "    epochs=4,\n",
    "    validation_data=test_ds\n",
    ")"
   ]
  },
  {
   "cell_type": "markdown",
   "id": "6455a348",
   "metadata": {},
   "source": [
    "### Making recommendations"
   ]
  },
  {
   "cell_type": "code",
   "execution_count": 102,
   "id": "b3283248",
   "metadata": {
    "ExecuteTime": {
     "end_time": "2022-07-17T13:35:40.050598Z",
     "start_time": "2022-07-17T13:35:40.044836Z"
    }
   },
   "outputs": [],
   "source": [
    "def get_two_tower_candidates(\n",
    "    customer_id,\n",
    "    num_candidates\n",
    "):\n",
    "    index = tfrs.layers.factorized_top_k.BruteForce(\n",
    "        query_model=two_tower_model.customer_model,\n",
    "        k=num_candidates\n",
    "    )\n",
    "    \n",
    "    index.index_from_dataset(\n",
    "        candidates=tf.data.Dataset.zip((articles, articles.map(two_tower_model.article_model)))\n",
    "    )\n",
    "    \n",
    "    _, candidates_tensor = index(tf.constant([customer_id]))\n",
    "    candidates = [i.decode('utf-8') for i in candidates_tensor.numpy().tolist()[0]]\n",
    "    \n",
    "    \n",
    "    return candidates"
   ]
  },
  {
   "cell_type": "code",
   "execution_count": 103,
   "id": "46f24b5e",
   "metadata": {
    "ExecuteTime": {
     "end_time": "2022-07-17T13:35:40.562081Z",
     "start_time": "2022-07-17T13:35:40.053488Z"
    }
   },
   "outputs": [
    {
     "data": {
      "text/plain": [
       "['0556255001', '0556255001', '0556255001']"
      ]
     },
     "execution_count": 103,
     "metadata": {},
     "output_type": "execute_result"
    }
   ],
   "source": [
    "get_two_tower_candidates(\n",
    "    customer_id=train_df['customer_id'].sample(1).iloc[0],\n",
    "    num_candidates=3\n",
    ")"
   ]
  },
  {
   "cell_type": "markdown",
   "id": "71e56bde",
   "metadata": {},
   "source": [
    "# Evaluating candidate generators"
   ]
  },
  {
   "cell_type": "markdown",
   "id": "554da3a7",
   "metadata": {},
   "source": [
    "## Helpers"
   ]
  },
  {
   "cell_type": "code",
   "execution_count": 104,
   "id": "9bf4a14b",
   "metadata": {
    "ExecuteTime": {
     "end_time": "2022-07-17T13:35:40.572717Z",
     "start_time": "2022-07-17T13:35:40.568213Z"
    }
   },
   "outputs": [],
   "source": [
    "def get_customer_test_purchases(\n",
    "    customer_id\n",
    "):\n",
    "    test_purchases = set(test_df.loc[test_df['customer_id'] == customer_id, 'article_id'])\n",
    "\n",
    "    return test_purchases"
   ]
  },
  {
   "cell_type": "code",
   "execution_count": 105,
   "id": "be85ffd7",
   "metadata": {
    "ExecuteTime": {
     "end_time": "2022-07-17T13:35:40.591138Z",
     "start_time": "2022-07-17T13:35:40.579372Z"
    }
   },
   "outputs": [],
   "source": [
    "def calculate_recall(\n",
    "    candidates,\n",
    "    test_purchases\n",
    "):\n",
    "    true_positives = set(candidates).intersection(set(test_purchases))\n",
    "    recall = len(true_positives) / len(test_purchases)\n",
    "    \n",
    "    return recall"
   ]
  },
  {
   "cell_type": "code",
   "execution_count": 106,
   "id": "78488a07",
   "metadata": {
    "ExecuteTime": {
     "end_time": "2022-07-17T13:35:40.949702Z",
     "start_time": "2022-07-17T13:35:40.599921Z"
    }
   },
   "outputs": [
    {
     "name": "stdout",
     "output_type": "stream",
     "text": [
      "number of common customers: 37522\n"
     ]
    }
   ],
   "source": [
    "all_train_customers = set(train_df['customer_id'])\n",
    "all_test_customers = set(test_df['customer_id'])\n",
    "\n",
    "common_customers = all_train_customers.intersection(all_test_customers)\n",
    "\n",
    "print('number of common customers:', len(common_customers))"
   ]
  },
  {
   "cell_type": "code",
   "execution_count": 107,
   "id": "f7dd64e3",
   "metadata": {
    "ExecuteTime": {
     "end_time": "2022-07-17T13:35:40.965466Z",
     "start_time": "2022-07-17T13:35:40.954015Z"
    }
   },
   "outputs": [],
   "source": [
    "sampled_common_customers_100 = random.sample(common_customers, 100)\n",
    "sampled_common_customers_1000 = random.sample(common_customers, 1000)"
   ]
  },
  {
   "cell_type": "code",
   "execution_count": 108,
   "id": "ba53d85d",
   "metadata": {
    "ExecuteTime": {
     "end_time": "2022-07-17T13:35:40.977800Z",
     "start_time": "2022-07-17T13:35:40.969051Z"
    }
   },
   "outputs": [],
   "source": [
    "def calculate_candidate_generator_recall(\n",
    "    get_candidate_fn,\n",
    "    num_candidates,\n",
    "    common_customers,\n",
    "    get_candidate_fn_kwargs=None,\n",
    "):\n",
    "    recall_values = []\n",
    "    for customer_id in common_customers:\n",
    "        if get_candidate_fn_kwargs:\n",
    "            candidates = get_candidate_fn(customer_id, num_candidates, **get_candidate_fn_kwargs)\n",
    "        else:\n",
    "            candidates = get_candidate_fn(customer_id, num_candidates)\n",
    "        \n",
    "        test_purchases = get_customer_test_purchases(customer_id)\n",
    "        recall = calculate_recall(candidates, test_purchases)\n",
    "        recall_values.append(recall)\n",
    "    \n",
    "    average_recall = np.mean(recall_values)\n",
    "    \n",
    "    return average_recall"
   ]
  },
  {
   "cell_type": "markdown",
   "id": "286a474e",
   "metadata": {},
   "source": [
    "## Random"
   ]
  },
  {
   "cell_type": "markdown",
   "id": "32cc43b0",
   "metadata": {},
   "source": [
    "### num_candidates = 100"
   ]
  },
  {
   "cell_type": "code",
   "execution_count": 109,
   "id": "3fe3b8f6",
   "metadata": {
    "ExecuteTime": {
     "end_time": "2022-07-17T13:35:55.887327Z",
     "start_time": "2022-07-17T13:35:40.982058Z"
    }
   },
   "outputs": [
    {
     "data": {
      "text/plain": [
       "0.002302631578947368"
      ]
     },
     "execution_count": 109,
     "metadata": {},
     "output_type": "execute_result"
    }
   ],
   "source": [
    "calculate_candidate_generator_recall(\n",
    "    get_candidate_fn=get_random_candidates,\n",
    "    num_candidates=100,\n",
    "    common_customers=sampled_common_customers_1000,\n",
    "    get_candidate_fn_kwargs=dict(all_articles=all_train_articles),\n",
    ")"
   ]
  },
  {
   "cell_type": "markdown",
   "id": "88027cfe",
   "metadata": {},
   "source": [
    "### num_candidates = 1000"
   ]
  },
  {
   "cell_type": "code",
   "execution_count": 110,
   "id": "1d5e5053",
   "metadata": {
    "ExecuteTime": {
     "end_time": "2022-07-17T13:36:10.576982Z",
     "start_time": "2022-07-17T13:35:55.897459Z"
    }
   },
   "outputs": [
    {
     "data": {
      "text/plain": [
       "0.027884784921820525"
      ]
     },
     "execution_count": 110,
     "metadata": {},
     "output_type": "execute_result"
    }
   ],
   "source": [
    "calculate_candidate_generator_recall(\n",
    "    get_candidate_fn=get_random_candidates,\n",
    "    num_candidates=1000,\n",
    "    common_customers=sampled_common_customers_1000,\n",
    "    get_candidate_fn_kwargs=dict(all_articles=all_train_articles),\n",
    ")"
   ]
  },
  {
   "cell_type": "markdown",
   "id": "b2322ebd",
   "metadata": {},
   "source": [
    "## Most popular"
   ]
  },
  {
   "cell_type": "markdown",
   "id": "ad109a3c",
   "metadata": {},
   "source": [
    "### num_candidates = 100"
   ]
  },
  {
   "cell_type": "code",
   "execution_count": 111,
   "id": "2696010a",
   "metadata": {
    "ExecuteTime": {
     "end_time": "2022-07-17T13:36:22.588757Z",
     "start_time": "2022-07-17T13:36:10.584012Z"
    }
   },
   "outputs": [
    {
     "data": {
      "text/plain": [
       "0.08124936561976036"
      ]
     },
     "execution_count": 111,
     "metadata": {},
     "output_type": "execute_result"
    }
   ],
   "source": [
    "calculate_candidate_generator_recall(\n",
    "    get_candidate_fn=get_most_popular_candidates,\n",
    "    num_candidates=100,\n",
    "    common_customers=sampled_common_customers_1000,\n",
    "    get_candidate_fn_kwargs=dict(most_popular_articles=most_popular_articles_100),\n",
    ")"
   ]
  },
  {
   "cell_type": "markdown",
   "id": "4ff333b4",
   "metadata": {},
   "source": [
    "### num_candidates = 1000"
   ]
  },
  {
   "cell_type": "code",
   "execution_count": 112,
   "id": "aed8a6f3",
   "metadata": {
    "ExecuteTime": {
     "end_time": "2022-07-17T13:36:34.961198Z",
     "start_time": "2022-07-17T13:36:22.595408Z"
    }
   },
   "outputs": [
    {
     "data": {
      "text/plain": [
       "0.3248333492230164"
      ]
     },
     "execution_count": 112,
     "metadata": {},
     "output_type": "execute_result"
    }
   ],
   "source": [
    "calculate_candidate_generator_recall(\n",
    "    get_candidate_fn=get_most_popular_candidates,\n",
    "    num_candidates=1000,\n",
    "    common_customers=sampled_common_customers_1000,\n",
    "    get_candidate_fn_kwargs=dict(most_popular_articles=most_popular_articles_1000),\n",
    ")"
   ]
  },
  {
   "cell_type": "markdown",
   "id": "128475fb",
   "metadata": {},
   "source": [
    "## Most popular customer category"
   ]
  },
  {
   "cell_type": "markdown",
   "id": "3507365c",
   "metadata": {},
   "source": [
    "### num_candidates = 100"
   ]
  },
  {
   "cell_type": "code",
   "execution_count": 113,
   "id": "8013da40",
   "metadata": {
    "ExecuteTime": {
     "end_time": "2022-07-17T13:40:27.884993Z",
     "start_time": "2022-07-17T13:36:34.969256Z"
    }
   },
   "outputs": [
    {
     "data": {
      "text/plain": [
       "0.08022992570295201"
      ]
     },
     "execution_count": 113,
     "metadata": {},
     "output_type": "execute_result"
    }
   ],
   "source": [
    "calculate_candidate_generator_recall(\n",
    "    get_candidate_fn=get_most_popular_customer_category_candidates,\n",
    "    num_candidates=100,\n",
    "    common_customers=sampled_common_customers_1000,\n",
    "    get_candidate_fn_kwargs=dict(most_popular_articles=most_popular_articles_100),\n",
    ")"
   ]
  },
  {
   "cell_type": "markdown",
   "id": "9ccbd59e",
   "metadata": {},
   "source": [
    "### num_candidates = 1000"
   ]
  },
  {
   "cell_type": "code",
   "execution_count": 114,
   "id": "fc3cb688",
   "metadata": {
    "ExecuteTime": {
     "end_time": "2022-07-17T13:44:13.882681Z",
     "start_time": "2022-07-17T13:40:27.890403Z"
    }
   },
   "outputs": [
    {
     "data": {
      "text/plain": [
       "0.2687018737841106"
      ]
     },
     "execution_count": 114,
     "metadata": {},
     "output_type": "execute_result"
    }
   ],
   "source": [
    "calculate_candidate_generator_recall(\n",
    "    get_candidate_fn=get_most_popular_customer_category_candidates,\n",
    "    num_candidates=1000,\n",
    "    common_customers=sampled_common_customers_1000,\n",
    "    get_candidate_fn_kwargs=dict(most_popular_articles=most_popular_articles_1000),\n",
    ")"
   ]
  },
  {
   "cell_type": "markdown",
   "id": "28cb7342",
   "metadata": {},
   "source": [
    "## Most popular customer price range"
   ]
  },
  {
   "cell_type": "markdown",
   "id": "bc9f9291",
   "metadata": {},
   "source": [
    "### num_candidates = 100"
   ]
  },
  {
   "cell_type": "code",
   "execution_count": 115,
   "id": "3de23efa",
   "metadata": {
    "ExecuteTime": {
     "end_time": "2022-07-17T13:46:56.670531Z",
     "start_time": "2022-07-17T13:44:13.885445Z"
    }
   },
   "outputs": [
    {
     "data": {
      "text/plain": [
       "0.061017261758709126"
      ]
     },
     "execution_count": 115,
     "metadata": {},
     "output_type": "execute_result"
    }
   ],
   "source": [
    "calculate_candidate_generator_recall(\n",
    "    get_candidate_fn=get_most_popular_customer_price_candidates,\n",
    "    num_candidates=100,\n",
    "    common_customers=sampled_common_customers_1000,\n",
    "    get_candidate_fn_kwargs=dict(most_popular_articles=most_popular_articles_100),\n",
    ")"
   ]
  },
  {
   "cell_type": "markdown",
   "id": "5d5331ea",
   "metadata": {},
   "source": [
    "### num_candidates = 1000"
   ]
  },
  {
   "cell_type": "code",
   "execution_count": 116,
   "id": "30572beb",
   "metadata": {
    "ExecuteTime": {
     "end_time": "2022-07-17T13:49:40.708592Z",
     "start_time": "2022-07-17T13:46:56.673786Z"
    }
   },
   "outputs": [
    {
     "data": {
      "text/plain": [
       "0.20214366551491164"
      ]
     },
     "execution_count": 116,
     "metadata": {},
     "output_type": "execute_result"
    }
   ],
   "source": [
    "calculate_candidate_generator_recall(\n",
    "    get_candidate_fn=get_most_popular_customer_price_candidates,\n",
    "    num_candidates=1000,\n",
    "    common_customers=sampled_common_customers_1000,\n",
    "    get_candidate_fn_kwargs=dict(most_popular_articles=most_popular_articles_1000),\n",
    ")"
   ]
  },
  {
   "cell_type": "markdown",
   "id": "1d49b845",
   "metadata": {},
   "source": [
    "## Two tower model"
   ]
  },
  {
   "cell_type": "markdown",
   "id": "149a3946",
   "metadata": {},
   "source": [
    "### num_candidates = 100"
   ]
  },
  {
   "cell_type": "code",
   "execution_count": 73,
   "id": "bdd3cf5a",
   "metadata": {
    "ExecuteTime": {
     "end_time": "2022-07-17T13:21:05.747311Z",
     "start_time": "2022-07-17T13:20:31.951329Z"
    }
   },
   "outputs": [
    {
     "data": {
      "text/plain": [
       "0.0"
      ]
     },
     "execution_count": 73,
     "metadata": {},
     "output_type": "execute_result"
    }
   ],
   "source": [
    "calculate_candidate_generator_recall(\n",
    "    get_candidate_fn=get_two_tower_candidates,\n",
    "    num_candidates=100,\n",
    "    common_customers=sampled_common_customers_1000\n",
    ")"
   ]
  },
  {
   "cell_type": "markdown",
   "id": "d3d0eb6e",
   "metadata": {},
   "source": [
    "### num_candidates = 1000"
   ]
  },
  {
   "cell_type": "code",
   "execution_count": 74,
   "id": "49759f30",
   "metadata": {
    "ExecuteTime": {
     "end_time": "2022-07-17T13:21:39.933835Z",
     "start_time": "2022-07-17T13:21:05.750152Z"
    }
   },
   "outputs": [
    {
     "data": {
      "text/plain": [
       "0.002"
      ]
     },
     "execution_count": 74,
     "metadata": {},
     "output_type": "execute_result"
    }
   ],
   "source": [
    "calculate_candidate_generator_recall(\n",
    "    get_candidate_fn=get_two_tower_candidates,\n",
    "    num_candidates=1000,\n",
    "    common_customers=sampled_common_customers_1000\n",
    ")"
   ]
  },
  {
   "cell_type": "code",
   "execution_count": null,
   "id": "879f63e8",
   "metadata": {},
   "outputs": [],
   "source": []
  }
 ],
 "metadata": {
  "kernelspec": {
   "display_name": "Python 3 (ipykernel)",
   "language": "python",
   "name": "python3"
  },
  "language_info": {
   "codemirror_mode": {
    "name": "ipython",
    "version": 3
   },
   "file_extension": ".py",
   "mimetype": "text/x-python",
   "name": "python",
   "nbconvert_exporter": "python",
   "pygments_lexer": "ipython3",
   "version": "3.8.13"
  }
 },
 "nbformat": 4,
 "nbformat_minor": 5
}
